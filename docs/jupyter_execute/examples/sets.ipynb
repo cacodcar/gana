{
 "cells": [
  {
   "cell_type": "markdown",
   "metadata": {},
   "source": [
    "# Elements"
   ]
  },
  {
   "cell_type": "markdown",
   "metadata": {},
   "source": [
    "gana is an object oriented algebraic modeling language (AML) for multiscale modeling and optimization. \n",
    "\n",
    "The basic operational element sets are: \n",
    "1. variable (V)\n",
    "2. parameter (P)\n",
    "3. parametric variable (T).\n",
    "\n",
    "Optionally, these can be indexed (I). \n",
    "\n",
    "Operating with elements generates function sets (F), which can be constrained (C). \n",
    "\n",
    "A block of constraints forms a mathematical program (Prg) "
   ]
  },
  {
   "cell_type": "markdown",
   "metadata": {},
   "source": [
    "## Import Statements "
   ]
  },
  {
   "cell_type": "markdown",
   "metadata": {},
   "source": [
    "The program block and elements can be imported as shown below"
   ]
  },
  {
   "cell_type": "code",
   "execution_count": null,
   "metadata": {},
   "outputs": [],
   "source": [
    "from gana import Prg, I, V, P, T\n",
    "\n",
    "# from gana import *  can also be used"
   ]
  },
  {
   "cell_type": "markdown",
   "metadata": {},
   "source": [
    "## Declaring a Program"
   ]
  },
  {
   "cell_type": "code",
   "execution_count": 4,
   "metadata": {},
   "outputs": [],
   "source": [
    "p = Prg()"
   ]
  },
  {
   "cell_type": "markdown",
   "metadata": {},
   "source": [
    "By default, all elements are immutable in _gana_. Setting mutable = True allows updating the elements in sets, which is useful when a more dynamic modeling purview is required. Be careful when using mutable sets as it allows overwriting in the program!"
   ]
  }
 ],
 "metadata": {
  "kernelspec": {
   "display_name": ".venv",
   "language": "python",
   "name": "python3"
  },
  "language_info": {
   "codemirror_mode": {
    "name": "ipython",
    "version": 3
   },
   "file_extension": ".py",
   "mimetype": "text/x-python",
   "name": "python",
   "nbconvert_exporter": "python",
   "pygments_lexer": "ipython3",
   "version": "3.13.7"
  }
 },
 "nbformat": 4,
 "nbformat_minor": 2
}