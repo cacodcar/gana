{
 "cells": [
  {
   "cell_type": "markdown",
   "id": "fbdbf55c",
   "metadata": {},
   "source": [
    "# Equipment Assignment (IP)\n",
    "\n",
    "This problem is taken from Prof Jack Ponton's [Modelling, Simulation and Optimisation Online Course](https://www.homepages.ed.ac.uk/jwp/newMSOcopy/). Specifically, the LP relaxation is discussed in [Section 5.4.2: Linear Programming Problems](https://www.homepages.ed.ac.uk/jwp/newMSOcopy/section5/lp.html#batch) and the IP is discussed in [Section 5.4.3: Mixed Integer Linear Programming (MILP) Problems](https://www.homepages.ed.ac.uk/jwp/newMSOcopy/section5/milp.html).\n",
    "\n",
    "A company wants to optimize profit through the sales of products (A, B, C)\n",
    "\n",
    "**Processing Time (in hours)**\n",
    "\n",
    "| Product ↓ / Process →   | Reactor | Crystalliser | Centrifuge |\n",
    "|-------------------------|---------|--------------|------------|\n",
    "| A                       | 0.8     | 0.4          | 0.2        |\n",
    "| B                       | 0.2     | 0.3          | -          |\n",
    "| C                       | 0.3     | -            | 0.1        |\n",
    "\n",
    "**Available Process Time (in minutes)**\n",
    "\n",
    "| Process ↓   | Time  |\n",
    "|-------------|-------|\n",
    "| Reactor     | 40    |\n",
    "| Crytallizer | 35    |\n",
    "| Centrifuge  | 35    |\n",
    "\n",
    "**Profit on Sales (in $)**\n",
    "\n",
    "| Product ↓   | Profit  |\n",
    "|-------------|---------|\n",
    "| A           | 20      |\n",
    "| B           | 6       |\n",
    "| C           | 8       |\n",
    "\n",
    "**Sales limit (in units)**\n",
    "\n",
    "| Product ↓   | Limit   |\n",
    "|-------------|---------|\n",
    "| C           | 20      |\n",
    "\n"
   ]
  },
  {
   "cell_type": "markdown",
   "id": "46f5061a",
   "metadata": {},
   "source": [
    "## General Definition\n",
    "\n",
    "A function is made to handle the general definition of the problem, since the indices and most parameters remain the same, irrespective of how we treat the variables "
   ]
  },
  {
   "cell_type": "code",
   "execution_count": 8,
   "id": "68239bd4",
   "metadata": {},
   "outputs": [],
   "source": [
    "from gana import Prg, V, P, I, sup\n",
    "\n",
    "\n",
    "def general_def(name: str, itg: bool = True, rhs: list[int] = [20, 10, 5]) -> Prg:\n",
    "    p = Prg(name)\n",
    "    p.products = I('a', 'b', 'c')\n",
    "    p.processes = I('reactor', 'crystalliser', 'centrifuge')\n",
    "    p.profit = P(p.products, _=[20, 6, 8])\n",
    "    p.time = P(p.products, p.processes, _=[0.8, 0.4, 0.2, 0.2, 0.3, 0, 0.3, 0, 0.1])\n",
    "    p.tmax = P(p.processes, _=rhs)\n",
    "    p.nbatch = V(p.products, itg=itg)\n",
    "    p.cons_time = (\n",
    "        sum(p.time(product, p.processes) * p.nbatch(product) for product in p.products)\n",
    "        <= p.tmax\n",
    "    )\n",
    "    p.sales_lm = p.nbatch(p.c) <= 20\n",
    "    p.o = sup(sum(p.profit(product) * p.nbatch(product) for product in p.products))\n",
    "    return p"
   ]
  },
  {
   "cell_type": "markdown",
   "id": "2646e389",
   "metadata": {},
   "source": [
    "## LP Relaxation \n",
    "\n",
    "Strictly speaking the number of batches processed should be a integer values. Nevertheless, let us solve the relaxed problem first. \n",
    "\n",
    "\n"
   ]
  },
  {
   "cell_type": "code",
   "execution_count": 9,
   "id": "2da5d8b7",
   "metadata": {},
   "outputs": [
    {
     "data": {
      "text/markdown": [
       "# Mathematical Program for lp_rlx"
      ],
      "text/plain": [
       "<IPython.core.display.Markdown object>"
      ]
     },
     "metadata": {},
     "output_type": "display_data"
    },
    {
     "data": {
      "text/markdown": [
       "<br><br>"
      ],
      "text/plain": [
       "<IPython.core.display.Markdown object>"
      ]
     },
     "metadata": {},
     "output_type": "display_data"
    },
    {
     "data": {
      "text/markdown": [
       "## Index Sets"
      ],
      "text/plain": [
       "<IPython.core.display.Markdown object>"
      ]
     },
     "metadata": {},
     "output_type": "display_data"
    },
    {
     "data": {
      "text/latex": [
       "$\\displaystyle {products} = \\{ {{a}, {b}, {c}} \\}$"
      ],
      "text/plain": [
       "<IPython.core.display.Math object>"
      ]
     },
     "metadata": {},
     "output_type": "display_data"
    },
    {
     "data": {
      "text/latex": [
       "$\\displaystyle {processes} = \\{ {{reactor}, {crystalliser}, {centrifuge}} \\}$"
      ],
      "text/plain": [
       "<IPython.core.display.Math object>"
      ]
     },
     "metadata": {},
     "output_type": "display_data"
    },
    {
     "data": {
      "text/markdown": [
       "<br><br>"
      ],
      "text/plain": [
       "<IPython.core.display.Markdown object>"
      ]
     },
     "metadata": {},
     "output_type": "display_data"
    },
    {
     "data": {
      "text/markdown": [
       "## Objective"
      ],
      "text/plain": [
       "<IPython.core.display.Markdown object>"
      ]
     },
     "metadata": {},
     "output_type": "display_data"
    },
    {
     "data": {
      "text/latex": [
       "$\\displaystyle min \\hspace{0.2cm} -20.0 \\cdot {\\mathbf{nbatch}}_{{a}} - 6.0 \\cdot {\\mathbf{nbatch}}_{{b}} - 8.0 \\cdot {\\mathbf{nbatch}}_{{c}}$"
      ],
      "text/plain": [
       "<IPython.core.display.Math object>"
      ]
     },
     "metadata": {},
     "output_type": "display_data"
    },
    {
     "data": {
      "text/markdown": [
       "<br><br>"
      ],
      "text/plain": [
       "<IPython.core.display.Markdown object>"
      ]
     },
     "metadata": {},
     "output_type": "display_data"
    },
    {
     "data": {
      "text/markdown": [
       "## s.t."
      ],
      "text/plain": [
       "<IPython.core.display.Markdown object>"
      ]
     },
     "metadata": {},
     "output_type": "display_data"
    },
    {
     "data": {
      "text/markdown": [
       "<br><br>"
      ],
      "text/plain": [
       "<IPython.core.display.Markdown object>"
      ]
     },
     "metadata": {},
     "output_type": "display_data"
    },
    {
     "data": {
      "text/markdown": [
       "## Inequality Constraint Sets"
      ],
      "text/plain": [
       "<IPython.core.display.Markdown object>"
      ]
     },
     "metadata": {},
     "output_type": "display_data"
    },
    {
     "data": {
      "text/latex": [
       "$\\displaystyle [0]\\text{   }{\\mathrm{{\\mathrm{time}}}}_{{a},{processes}} \\cdot {\\mathbf{{\\mathbf{{\\mathbf{nbatch}}}}}}_{{a}} + {\\mathrm{{\\mathrm{time}}}}_{{b},{processes}} \\cdot {\\mathbf{{\\mathbf{{\\mathbf{nbatch}}}}}}_{{b}} + {\\mathrm{{\\mathrm{time}}}}_{{c},{processes}} \\cdot {\\mathbf{{\\mathbf{{\\mathbf{nbatch}}}}}}_{{c}} - {\\mathrm{tmax}}_{{processes}} \\leq 0$"
      ],
      "text/plain": [
       "<IPython.core.display.Math object>"
      ]
     },
     "metadata": {},
     "output_type": "display_data"
    },
    {
     "data": {
      "text/latex": [
       "$\\displaystyle [1]\\text{   }{\\mathbf{{\\mathbf{{\\mathbf{nbatch}}}}}}_{{c}} - 20 \\leq 0$"
      ],
      "text/plain": [
       "<IPython.core.display.Math object>"
      ]
     },
     "metadata": {},
     "output_type": "display_data"
    },
    {
     "data": {
      "text/markdown": [
       "<br><br>"
      ],
      "text/plain": [
       "<IPython.core.display.Markdown object>"
      ]
     },
     "metadata": {},
     "output_type": "display_data"
    },
    {
     "data": {
      "text/markdown": [
       "## Functions"
      ],
      "text/plain": [
       "<IPython.core.display.Markdown object>"
      ]
     },
     "metadata": {},
     "output_type": "display_data"
    },
    {
     "data": {
      "text/latex": [
       "$\\displaystyle [0]\\text{   }-20.0 \\cdot {\\mathbf{nbatch}}_{{a}} - 6.0 \\cdot {\\mathbf{nbatch}}_{{b}} - 8.0 \\cdot {\\mathbf{nbatch}}_{{c}}$"
      ],
      "text/plain": [
       "<IPython.core.display.Math object>"
      ]
     },
     "metadata": {},
     "output_type": "display_data"
    }
   ],
   "source": [
    "p1 = general_def(name='lp_rlx', itg=False)\n",
    "p1.show()"
   ]
  },
  {
   "cell_type": "markdown",
   "id": "8de901f2",
   "metadata": {},
   "source": [
    "Optimizing the program"
   ]
  },
  {
   "cell_type": "code",
   "execution_count": 10,
   "id": "e9264d30",
   "metadata": {},
   "outputs": [
    {
     "name": "stderr",
     "output_type": "stream",
     "text": [
      "📝  Generated lp_rlx.mps                                                     ⏱ 0.0007 s\n"
     ]
    },
    {
     "name": "stdout",
     "output_type": "stream",
     "text": [
      "Read MPS format model from file lp_rlx.mps\n",
      "Reading time = 0.00 seconds\n",
      "LP_RLX: 4 rows, 3 columns, 8 nonzeros\n"
     ]
    },
    {
     "name": "stderr",
     "output_type": "stream",
     "text": [
      "📝  Generated gurobipy model. See .formulation                               ⏱ 0.0024 s\n"
     ]
    },
    {
     "name": "stdout",
     "output_type": "stream",
     "text": [
      "Gurobi Optimizer version 12.0.3 build v12.0.3rc0 (win64 - Windows 11.0 (26100.2))\n",
      "\n",
      "CPU model: 13th Gen Intel(R) Core(TM) i7-13700, instruction set [SSE2|AVX|AVX2]\n",
      "Thread count: 16 physical cores, 24 logical processors, using up to 24 threads\n",
      "\n",
      "Optimize a model with 4 rows, 3 columns and 8 nonzeros\n",
      "Model fingerprint: 0x6d41737c\n",
      "Coefficient statistics:\n",
      "  Matrix range     [1e-01, 1e+00]\n",
      "  Objective range  [6e+00, 2e+01]\n",
      "  Bounds range     [0e+00, 0e+00]\n",
      "  RHS range        [5e+00, 2e+01]\n",
      "Presolve removed 1 rows and 0 columns\n",
      "Presolve time: 0.01s\n",
      "Presolved: 3 rows, 3 columns, 7 nonzeros\n",
      "\n",
      "Iteration    Objective       Primal Inf.    Dual Inf.      Time\n",
      "       0   -6.0000000e+02   5.331617e+01   0.000000e+00      0s\n",
      "       2   -5.2500000e+02   0.000000e+00   0.000000e+00      0s\n",
      "\n",
      "Solved in 2 iterations and 0.01 seconds (0.00 work units)\n",
      "Optimal objective -5.250000000e+02\n"
     ]
    },
    {
     "name": "stderr",
     "output_type": "stream",
     "text": [
      "📝  Generated Solution object for lp_rlx. See .solution                      ⏱ 0.0000 s\n",
      "✅  lp_rlx optimized using gurobi. Display using .output()                   ⏱ 0.0102 s\n"
     ]
    }
   ],
   "source": [
    "p1.opt()"
   ]
  },
  {
   "cell_type": "markdown",
   "id": "839399a6",
   "metadata": {},
   "source": [
    "The number of batches (```nbatch```) have non-integer solutions."
   ]
  },
  {
   "cell_type": "code",
   "execution_count": 11,
   "id": "a24773a9",
   "metadata": {},
   "outputs": [
    {
     "data": {
      "text/plain": [
       "{(a,): 13.749999999999998, (b,): 15.0, (c,): 20.0}"
      ]
     },
     "execution_count": 11,
     "metadata": {},
     "output_type": "execute_result"
    }
   ],
   "source": [
    "p1.nbatch.output(asdict=True)"
   ]
  },
  {
   "cell_type": "markdown",
   "id": "d4b2105b",
   "metadata": {},
   "source": [
    "With an objective value of:"
   ]
  },
  {
   "cell_type": "code",
   "execution_count": 12,
   "id": "4f4cf7e2",
   "metadata": {},
   "outputs": [
    {
     "data": {
      "text/plain": [
       "-525.0"
      ]
     },
     "execution_count": 12,
     "metadata": {},
     "output_type": "execute_result"
    }
   ],
   "source": [
    "p1.o.output(asfloat=True)"
   ]
  },
  {
   "cell_type": "markdown",
   "id": "f589533c",
   "metadata": {},
   "source": [
    "## IP Problem"
   ]
  },
  {
   "cell_type": "code",
   "execution_count": 13,
   "id": "1b0a5639",
   "metadata": {},
   "outputs": [
    {
     "name": "stderr",
     "output_type": "stream",
     "text": [
      "📝  Generated IP.mps                                                         ⏱ 0.0007 s\n"
     ]
    },
    {
     "name": "stdout",
     "output_type": "stream",
     "text": [
      "Read MPS format model from file IP.mps\n",
      "Reading time = 0.00 seconds\n",
      "IP: 4 rows, 3 columns, 8 nonzeros\n"
     ]
    },
    {
     "name": "stderr",
     "output_type": "stream",
     "text": [
      "📝  Generated gurobipy model. See .formulation                               ⏱ 0.0028 s\n"
     ]
    },
    {
     "name": "stdout",
     "output_type": "stream",
     "text": [
      "Gurobi Optimizer version 12.0.3 build v12.0.3rc0 (win64 - Windows 11.0 (26100.2))\n",
      "\n",
      "CPU model: 13th Gen Intel(R) Core(TM) i7-13700, instruction set [SSE2|AVX|AVX2]\n",
      "Thread count: 16 physical cores, 24 logical processors, using up to 24 threads\n",
      "\n",
      "Optimize a model with 4 rows, 3 columns and 8 nonzeros\n",
      "Model fingerprint: 0xaaa99143\n",
      "Variable types: 0 continuous, 3 integer (0 binary)\n",
      "Coefficient statistics:\n",
      "  Matrix range     [1e-01, 1e+00]\n",
      "  Objective range  [6e+00, 2e+01]\n",
      "  Bounds range     [0e+00, 0e+00]\n",
      "  RHS range        [5e+00, 2e+01]\n",
      "Found heuristic solution: objective -500.0000000\n",
      "Presolve removed 1 rows and 0 columns\n",
      "Presolve time: 0.00s\n",
      "Presolved: 3 rows, 3 columns, 7 nonzeros\n",
      "Variable types: 0 continuous, 3 integer (0 binary)\n",
      "\n",
      "Root relaxation: objective -5.250000e+02, 2 iterations, 0.00 seconds (0.00 work units)\n",
      "\n",
      "    Nodes    |    Current Node    |     Objective Bounds      |     Work\n",
      " Expl Unexpl |  Obj  Depth IntInf | Incumbent    BestBd   Gap | It/Node Time\n",
      "\n",
      "     0     0 -525.00000    0    1 -500.00000 -525.00000  5.00%     -    0s\n",
      "H    0     0                    -510.0000000 -525.00000  2.94%     -    0s\n",
      "H    0     0                    -524.0000000 -525.00000  0.19%     -    0s\n",
      "     0     0 -525.00000    0    1 -524.00000 -525.00000  0.19%     -    0s\n",
      "\n",
      "Explored 1 nodes (2 simplex iterations) in 0.01 seconds (0.00 work units)\n",
      "Thread count was 24 (of 24 available processors)\n",
      "\n",
      "Solution count 3: -524 -510 -500 \n",
      "No other solutions better than -524\n",
      "\n",
      "Optimal solution found (tolerance 1.00e-04)\n",
      "Best objective -5.240000000000e+02, best bound -5.240000000000e+02, gap 0.0000%\n"
     ]
    },
    {
     "name": "stderr",
     "output_type": "stream",
     "text": [
      "📝  Generated Solution object for IP. See .solution                          ⏱ 0.0000 s\n",
      "✅  IP optimized using gurobi. Display using .output()                       ⏱ 0.0124 s\n"
     ]
    }
   ],
   "source": [
    "p2 = general_def(name='IP')\n",
    "p2.opt()"
   ]
  },
  {
   "cell_type": "markdown",
   "id": "77fc9c62",
   "metadata": {},
   "source": [
    "The solution obtained from the LP relaxation is pretty close to the actual integer solution, with a lower objective value"
   ]
  },
  {
   "cell_type": "code",
   "execution_count": 14,
   "id": "8c741197",
   "metadata": {},
   "outputs": [
    {
     "data": {
      "text/markdown": [
       "# Solution for IP"
      ],
      "text/plain": [
       "<IPython.core.display.Markdown object>"
      ]
     },
     "metadata": {},
     "output_type": "display_data"
    },
    {
     "data": {
      "text/markdown": [
       "<br><br>"
      ],
      "text/plain": [
       "<IPython.core.display.Markdown object>"
      ]
     },
     "metadata": {},
     "output_type": "display_data"
    },
    {
     "data": {
      "text/markdown": [
       "## Objective"
      ],
      "text/plain": [
       "<IPython.core.display.Markdown object>"
      ]
     },
     "metadata": {},
     "output_type": "display_data"
    },
    {
     "data": {
      "text/latex": [
       "$\\displaystyle min \\hspace{0.2cm} -20.0 \\cdot {\\mathbf{nbatch}}_{{a}} - 6.0 \\cdot {\\mathbf{nbatch}}_{{b}} - 8.0 \\cdot {\\mathbf{nbatch}}_{{c}}=-524.0$"
      ],
      "text/plain": [
       "<IPython.core.display.Math object>"
      ]
     },
     "metadata": {},
     "output_type": "display_data"
    },
    {
     "data": {
      "text/markdown": [
       "<br><br>"
      ],
      "text/plain": [
       "<IPython.core.display.Markdown object>"
      ]
     },
     "metadata": {},
     "output_type": "display_data"
    },
    {
     "data": {
      "text/markdown": [
       "## Variables"
      ],
      "text/plain": [
       "<IPython.core.display.Markdown object>"
      ]
     },
     "metadata": {},
     "output_type": "display_data"
    },
    {
     "data": {
      "text/latex": [
       "$\\displaystyle {\\mathbf{nbatch}}_{{a}}=14.0$"
      ],
      "text/plain": [
       "<IPython.core.display.Math object>"
      ]
     },
     "metadata": {},
     "output_type": "display_data"
    },
    {
     "data": {
      "text/latex": [
       "$\\displaystyle {\\mathbf{nbatch}}_{{b}}=14.0$"
      ],
      "text/plain": [
       "<IPython.core.display.Math object>"
      ]
     },
     "metadata": {},
     "output_type": "display_data"
    },
    {
     "data": {
      "text/latex": [
       "$\\displaystyle {\\mathbf{nbatch}}_{{c}}=20.0$"
      ],
      "text/plain": [
       "<IPython.core.display.Math object>"
      ]
     },
     "metadata": {},
     "output_type": "display_data"
    }
   ],
   "source": [
    "p2.output()"
   ]
  }
 ],
 "metadata": {
  "kernelspec": {
   "display_name": ".venv",
   "language": "python",
   "name": "python3"
  },
  "language_info": {
   "codemirror_mode": {
    "name": "ipython",
    "version": 3
   },
   "file_extension": ".py",
   "mimetype": "text/x-python",
   "name": "python",
   "nbconvert_exporter": "python",
   "pygments_lexer": "ipython3",
   "version": "3.13.9"
  }
 },
 "nbformat": 4,
 "nbformat_minor": 5
}
