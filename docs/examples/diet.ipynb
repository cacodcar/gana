{
 "cells": [
  {
   "cell_type": "code",
   "execution_count": null,
   "metadata": {},
   "outputs": [],
   "source": [
    "# try:\n",
    "#     import gana\n",
    "# except ImportError:\n",
    "#     %pip install -q gana"
   ]
  },
  {
   "cell_type": "markdown",
   "metadata": {},
   "source": [
    "# Diet Problem (LP)"
   ]
  },
  {
   "cell_type": "markdown",
   "metadata": {},
   "source": [
    "This problem is taken from Prof. Eli Olinick's [Operations Research Models](https://s2.smu.edu/~olinick/cse3360/) course [Mathematical Programming Examples](https://s2.smu.edu/~olinick/cse3360/lectures/l12.html).\n",
    "\n",
    "The goal is to choose a minimum-cost diet that satisfies the minimum recommended daily allowance (RDA), using the following data:\n",
    "\n",
    "| Nutrient / Cost | Milk (per gallon) | Cheese (per lb) | Apples (per lb) | Minimum RDA |\n",
    "|-----------------|-------------------|-----------------|-----------------|-------------|\n",
    "| Protein         | 40                | 20              | 10              | 80          |\n",
    "| Vitamin A       | 5                 | 40              | 30              | 60          |\n",
    "| Vitamin B       | 20                | 30              | 40              | 50          |\n",
    "| Vitamin C       | 30                | 50              | 60              | 30          |\n",
    "| Cost            | \\$1.00            | \\$2.50          | \\$0.75          |             |\n"
   ]
  },
  {
   "cell_type": "code",
   "execution_count": null,
   "metadata": {},
   "outputs": [
    {
     "name": "stdout",
     "output_type": "stream",
     "text": [
      "Requirement already satisfied: gana in c:\\users\\cacodcar\\research\\kuru\\.venv\\lib\\site-packages (1.0.1)\n",
      "Requirement already satisfied: ppopt in c:\\users\\cacodcar\\research\\kuru\\.venv\\lib\\site-packages (from gana) (1.6.12)\n",
      "Requirement already satisfied: gurobipy in c:\\users\\cacodcar\\research\\kuru\\.venv\\lib\\site-packages (from gana) (12.0.3)\n",
      "Requirement already satisfied: IPython in c:\\users\\cacodcar\\research\\kuru\\.venv\\lib\\site-packages (from gana) (9.5.0)\n",
      "Requirement already satisfied: numpy in c:\\users\\cacodcar\\research\\kuru\\.venv\\lib\\site-packages (from gana) (2.3.3)\n",
      "Requirement already satisfied: pandas in c:\\users\\cacodcar\\research\\kuru\\.venv\\lib\\site-packages (from gana) (2.3.2)\n",
      "Requirement already satisfied: colorama in c:\\users\\cacodcar\\research\\kuru\\.venv\\lib\\site-packages (from IPython->gana) (0.4.6)\n",
      "Requirement already satisfied: decorator in c:\\users\\cacodcar\\research\\kuru\\.venv\\lib\\site-packages (from IPython->gana) (5.2.1)\n",
      "Requirement already satisfied: ipython-pygments-lexers in c:\\users\\cacodcar\\research\\kuru\\.venv\\lib\\site-packages (from IPython->gana) (1.1.1)\n",
      "Requirement already satisfied: jedi>=0.16 in c:\\users\\cacodcar\\research\\kuru\\.venv\\lib\\site-packages (from IPython->gana) (0.19.2)\n",
      "Requirement already satisfied: matplotlib-inline in c:\\users\\cacodcar\\research\\kuru\\.venv\\lib\\site-packages (from IPython->gana) (0.1.7)\n",
      "Requirement already satisfied: prompt_toolkit<3.1.0,>=3.0.41 in c:\\users\\cacodcar\\research\\kuru\\.venv\\lib\\site-packages (from IPython->gana) (3.0.52)\n",
      "Requirement already satisfied: pygments>=2.4.0 in c:\\users\\cacodcar\\research\\kuru\\.venv\\lib\\site-packages (from IPython->gana) (2.19.2)\n",
      "Requirement already satisfied: stack_data in c:\\users\\cacodcar\\research\\kuru\\.venv\\lib\\site-packages (from IPython->gana) (0.6.3)\n",
      "Requirement already satisfied: traitlets>=5.13.0 in c:\\users\\cacodcar\\research\\kuru\\.venv\\lib\\site-packages (from IPython->gana) (5.14.3)\n",
      "Requirement already satisfied: wcwidth in c:\\users\\cacodcar\\research\\kuru\\.venv\\lib\\site-packages (from prompt_toolkit<3.1.0,>=3.0.41->IPython->gana) (0.2.14)\n",
      "Requirement already satisfied: parso<0.9.0,>=0.8.4 in c:\\users\\cacodcar\\research\\kuru\\.venv\\lib\\site-packages (from jedi>=0.16->IPython->gana) (0.8.5)\n",
      "Requirement already satisfied: python-dateutil>=2.8.2 in c:\\users\\cacodcar\\research\\kuru\\.venv\\lib\\site-packages (from pandas->gana) (2.9.0.post0)\n",
      "Requirement already satisfied: pytz>=2020.1 in c:\\users\\cacodcar\\research\\kuru\\.venv\\lib\\site-packages (from pandas->gana) (2025.2)\n",
      "Requirement already satisfied: tzdata>=2022.7 in c:\\users\\cacodcar\\research\\kuru\\.venv\\lib\\site-packages (from pandas->gana) (2025.2)\n",
      "Requirement already satisfied: six>=1.5 in c:\\users\\cacodcar\\research\\kuru\\.venv\\lib\\site-packages (from python-dateutil>=2.8.2->pandas->gana) (1.17.0)\n",
      "Requirement already satisfied: matplotlib in c:\\users\\cacodcar\\research\\kuru\\.venv\\lib\\site-packages (from ppopt->gana) (3.10.6)\n",
      "Requirement already satisfied: scipy in c:\\users\\cacodcar\\research\\kuru\\.venv\\lib\\site-packages (from ppopt->gana) (1.16.2)\n",
      "Requirement already satisfied: numba in c:\\users\\cacodcar\\research\\kuru\\.venv\\lib\\site-packages (from ppopt->gana) (0.62.0)\n",
      "Requirement already satisfied: pathos in c:\\users\\cacodcar\\research\\kuru\\.venv\\lib\\site-packages (from ppopt->gana) (0.3.4)\n",
      "Requirement already satisfied: plotly in c:\\users\\cacodcar\\research\\kuru\\.venv\\lib\\site-packages (from ppopt->gana) (6.3.0)\n",
      "Requirement already satisfied: daqp in c:\\users\\cacodcar\\research\\kuru\\.venv\\lib\\site-packages (from ppopt->gana) (0.7.2)\n",
      "Requirement already satisfied: contourpy>=1.0.1 in c:\\users\\cacodcar\\research\\kuru\\.venv\\lib\\site-packages (from matplotlib->ppopt->gana) (1.3.3)\n",
      "Requirement already satisfied: cycler>=0.10 in c:\\users\\cacodcar\\research\\kuru\\.venv\\lib\\site-packages (from matplotlib->ppopt->gana) (0.12.1)\n",
      "Requirement already satisfied: fonttools>=4.22.0 in c:\\users\\cacodcar\\research\\kuru\\.venv\\lib\\site-packages (from matplotlib->ppopt->gana) (4.60.0)\n",
      "Requirement already satisfied: kiwisolver>=1.3.1 in c:\\users\\cacodcar\\research\\kuru\\.venv\\lib\\site-packages (from matplotlib->ppopt->gana) (1.4.9)\n",
      "Requirement already satisfied: packaging>=20.0 in c:\\users\\cacodcar\\research\\kuru\\.venv\\lib\\site-packages (from matplotlib->ppopt->gana) (25.0)\n",
      "Requirement already satisfied: pillow>=8 in c:\\users\\cacodcar\\research\\kuru\\.venv\\lib\\site-packages (from matplotlib->ppopt->gana) (11.3.0)\n",
      "Requirement already satisfied: pyparsing>=2.3.1 in c:\\users\\cacodcar\\research\\kuru\\.venv\\lib\\site-packages (from matplotlib->ppopt->gana) (3.2.5)\n",
      "Requirement already satisfied: llvmlite<0.46,>=0.45.0dev0 in c:\\users\\cacodcar\\research\\kuru\\.venv\\lib\\site-packages (from numba->ppopt->gana) (0.45.0)\n",
      "Requirement already satisfied: ppft>=1.7.7 in c:\\users\\cacodcar\\research\\kuru\\.venv\\lib\\site-packages (from pathos->ppopt->gana) (1.7.7)\n",
      "Requirement already satisfied: dill>=0.4.0 in c:\\users\\cacodcar\\research\\kuru\\.venv\\lib\\site-packages (from pathos->ppopt->gana) (0.4.0)\n",
      "Requirement already satisfied: pox>=0.3.6 in c:\\users\\cacodcar\\research\\kuru\\.venv\\lib\\site-packages (from pathos->ppopt->gana) (0.3.6)\n",
      "Requirement already satisfied: multiprocess>=0.70.18 in c:\\users\\cacodcar\\research\\kuru\\.venv\\lib\\site-packages (from pathos->ppopt->gana) (0.70.18)\n",
      "Requirement already satisfied: narwhals>=1.15.1 in c:\\users\\cacodcar\\research\\kuru\\.venv\\lib\\site-packages (from plotly->ppopt->gana) (2.5.0)\n",
      "Requirement already satisfied: executing>=1.2.0 in c:\\users\\cacodcar\\research\\kuru\\.venv\\lib\\site-packages (from stack_data->IPython->gana) (2.2.1)\n",
      "Requirement already satisfied: asttokens>=2.1.0 in c:\\users\\cacodcar\\research\\kuru\\.venv\\lib\\site-packages (from stack_data->IPython->gana) (3.0.0)\n",
      "Requirement already satisfied: pure-eval in c:\\users\\cacodcar\\research\\kuru\\.venv\\lib\\site-packages (from stack_data->IPython->gana) (0.2.3)\n"
     ]
    }
   ],
   "source": [
    "# !pip install gana"
   ]
  },
  {
   "cell_type": "markdown",
   "metadata": {},
   "source": [
    "## Declare Program Elements "
   ]
  },
  {
   "cell_type": "code",
   "execution_count": 40,
   "metadata": {},
   "outputs": [],
   "source": [
    "from gana import Prg, I, V, P, inf\n",
    "\n",
    "p = Prg()\n",
    "p.item = I('milk', 'cheese', 'apples', tag='food item')\n",
    "p.x = V(p.item, tag='amount of food item to intake')\n",
    "p.protein = P(p.item, _=[40, 20, 10])\n",
    "p.vitA = P(p.item, _=[5, 40, 30])\n",
    "p.vitB = P(p.item, _=[20, 30, 40])\n",
    "p.vitC = P(p.item, _=[30, 50, 60])\n",
    "p.cost = P(p.item, _=[1, 2.5, 3 / 4])"
   ]
  },
  {
   "cell_type": "markdown",
   "metadata": {},
   "source": [
    "## Declare Constraints "
   ]
  },
  {
   "cell_type": "markdown",
   "metadata": {},
   "source": [
    "Non-descriptive print will use the names as provided by the user "
   ]
  },
  {
   "cell_type": "code",
   "execution_count": 41,
   "metadata": {},
   "outputs": [
    {
     "data": {
      "text/latex": [
       "$\\displaystyle [0]\\text{   }{{{protein}}}_{milk} \\cdot {{{{x}}}}_{milk} - {{protein}}_{cheese} \\cdot {{{x}}}_{cheese} - {{protein}}_{apples} \\cdot {{{x}}}_{apples} + 80 \\leq 0$"
      ],
      "text/plain": [
       "<IPython.core.display.Math object>"
      ]
     },
     "metadata": {},
     "output_type": "display_data"
    }
   ],
   "source": [
    "p.cons_protein = sum(p.protein(i) * p.x(i) for i in p.item) >= 80\n",
    "p.cons_protein.show()"
   ]
  },
  {
   "cell_type": "markdown",
   "metadata": {},
   "source": [
    "Descriptive print will display the values "
   ]
  },
  {
   "cell_type": "code",
   "execution_count": 42,
   "metadata": {},
   "outputs": [
    {
     "data": {
      "text/latex": [
       "$\\displaystyle [0]\\text{   }-40.0 \\cdot {{x}}_{milk} - 20.0 \\cdot {{x}}_{cheese} - 10.0 \\cdot {{x}}_{apples} + 80.0 \\leq 0$"
      ],
      "text/plain": [
       "<IPython.core.display.Math object>"
      ]
     },
     "metadata": {},
     "output_type": "display_data"
    }
   ],
   "source": [
    "p.cons_vitA = sum(p.vitA(i) * p.x(i) for i in p.item) >= 60\n",
    "p.cons_protein.show(True)"
   ]
  },
  {
   "cell_type": "code",
   "execution_count": 43,
   "metadata": {},
   "outputs": [],
   "source": [
    "p.cons_vitB = sum(p.vitB(i) * p.x(i) for i in p.item) >= 50\n",
    "p.cons_vitC = sum(p.vitC(i) * p.x(i) for i in p.item) >= 30"
   ]
  },
  {
   "cell_type": "markdown",
   "metadata": {},
   "source": [
    "## Declare Objective "
   ]
  },
  {
   "cell_type": "code",
   "execution_count": 44,
   "metadata": {},
   "outputs": [],
   "source": [
    "p.obj_cost = inf(sum(p.cost(i) * p.x(i) for i in p.item))"
   ]
  },
  {
   "cell_type": "markdown",
   "metadata": {},
   "source": [
    "## Display Program "
   ]
  },
  {
   "cell_type": "markdown",
   "metadata": {},
   "source": [
    "The entire program can also be displayed descriptively and non-descriptively.\n",
    "\n",
    "The program is <u> always </u> in the canonical form "
   ]
  },
  {
   "cell_type": "code",
   "execution_count": 45,
   "metadata": {},
   "outputs": [
    {
     "data": {
      "text/markdown": [
       "# Mathematical Program for prog"
      ],
      "text/plain": [
       "<IPython.core.display.Markdown object>"
      ]
     },
     "metadata": {},
     "output_type": "display_data"
    },
    {
     "data": {
      "text/markdown": [
       "<br><br>"
      ],
      "text/plain": [
       "<IPython.core.display.Markdown object>"
      ]
     },
     "metadata": {},
     "output_type": "display_data"
    },
    {
     "data": {
      "text/markdown": [
       "## Index Sets"
      ],
      "text/plain": [
       "<IPython.core.display.Markdown object>"
      ]
     },
     "metadata": {},
     "output_type": "display_data"
    },
    {
     "data": {
      "text/latex": [
       "$\\displaystyle item = \\{ milk, cheese, apples \\}$"
      ],
      "text/plain": [
       "<IPython.core.display.Math object>"
      ]
     },
     "metadata": {},
     "output_type": "display_data"
    },
    {
     "data": {
      "text/markdown": [
       "<br><br>"
      ],
      "text/plain": [
       "<IPython.core.display.Markdown object>"
      ]
     },
     "metadata": {},
     "output_type": "display_data"
    },
    {
     "data": {
      "text/markdown": [
       "## Objective"
      ],
      "text/plain": [
       "<IPython.core.display.Markdown object>"
      ]
     },
     "metadata": {},
     "output_type": "display_data"
    },
    {
     "data": {
      "text/latex": [
       "$\\displaystyle min \\hspace{0.2cm} 1.0 \\cdot {{x}}_{milk} + 2.5 \\cdot {{x}}_{cheese} + 0.75 \\cdot {{x}}_{apples}$"
      ],
      "text/plain": [
       "<IPython.core.display.Math object>"
      ]
     },
     "metadata": {},
     "output_type": "display_data"
    },
    {
     "data": {
      "text/markdown": [
       "<br><br>"
      ],
      "text/plain": [
       "<IPython.core.display.Markdown object>"
      ]
     },
     "metadata": {},
     "output_type": "display_data"
    },
    {
     "data": {
      "text/markdown": [
       "## s.t."
      ],
      "text/plain": [
       "<IPython.core.display.Markdown object>"
      ]
     },
     "metadata": {},
     "output_type": "display_data"
    },
    {
     "data": {
      "text/markdown": [
       "<br><br>"
      ],
      "text/plain": [
       "<IPython.core.display.Markdown object>"
      ]
     },
     "metadata": {},
     "output_type": "display_data"
    },
    {
     "data": {
      "text/markdown": [
       "### Inequality Constraint Sets"
      ],
      "text/plain": [
       "<IPython.core.display.Markdown object>"
      ]
     },
     "metadata": {},
     "output_type": "display_data"
    },
    {
     "data": {
      "text/latex": [
       "$\\displaystyle [0]\\text{   }{{{protein}}}_{milk} \\cdot {{{{x}}}}_{milk} - {{protein}}_{cheese} \\cdot {{{x}}}_{cheese} - {{protein}}_{apples} \\cdot {{{x}}}_{apples} + 80 \\leq 0$"
      ],
      "text/plain": [
       "<IPython.core.display.Math object>"
      ]
     },
     "metadata": {},
     "output_type": "display_data"
    },
    {
     "data": {
      "text/latex": [
       "$\\displaystyle [1]\\text{   }{{{vitA}}}_{milk} \\cdot {{{{x}}}}_{milk} - {{vitA}}_{cheese} \\cdot {{{x}}}_{cheese} - {{vitA}}_{apples} \\cdot {{{x}}}_{apples} + 60 \\leq 0$"
      ],
      "text/plain": [
       "<IPython.core.display.Math object>"
      ]
     },
     "metadata": {},
     "output_type": "display_data"
    },
    {
     "data": {
      "text/latex": [
       "$\\displaystyle [2]\\text{   }{{{vitB}}}_{milk} \\cdot {{{{x}}}}_{milk} - {{vitB}}_{cheese} \\cdot {{{x}}}_{cheese} - {{vitB}}_{apples} \\cdot {{{x}}}_{apples} + 50 \\leq 0$"
      ],
      "text/plain": [
       "<IPython.core.display.Math object>"
      ]
     },
     "metadata": {},
     "output_type": "display_data"
    },
    {
     "data": {
      "text/latex": [
       "$\\displaystyle [3]\\text{   }{{{vitC}}}_{milk} \\cdot {{{{x}}}}_{milk} - {{vitC}}_{cheese} \\cdot {{{x}}}_{cheese} - {{vitC}}_{apples} \\cdot {{{x}}}_{apples} + 30 \\leq 0$"
      ],
      "text/plain": [
       "<IPython.core.display.Math object>"
      ]
     },
     "metadata": {},
     "output_type": "display_data"
    },
    {
     "data": {
      "text/markdown": [
       "<br><br>"
      ],
      "text/plain": [
       "<IPython.core.display.Markdown object>"
      ]
     },
     "metadata": {},
     "output_type": "display_data"
    },
    {
     "data": {
      "text/markdown": [
       "## Functions"
      ],
      "text/plain": [
       "<IPython.core.display.Markdown object>"
      ]
     },
     "metadata": {},
     "output_type": "display_data"
    },
    {
     "data": {
      "text/latex": [
       "$\\displaystyle [0]\\text{   }1.0 \\cdot {{x}}_{milk} + 2.5 \\cdot {{x}}_{cheese} + 0.75 \\cdot {{x}}_{apples}$"
      ],
      "text/plain": [
       "<IPython.core.display.Math object>"
      ]
     },
     "metadata": {},
     "output_type": "display_data"
    }
   ],
   "source": [
    "p.show()"
   ]
  },
  {
   "cell_type": "code",
   "execution_count": 46,
   "metadata": {},
   "outputs": [
    {
     "data": {
      "text/markdown": [
       "# Mathematical Program for prog"
      ],
      "text/plain": [
       "<IPython.core.display.Markdown object>"
      ]
     },
     "metadata": {},
     "output_type": "display_data"
    },
    {
     "data": {
      "text/markdown": [
       "<br><br>"
      ],
      "text/plain": [
       "<IPython.core.display.Markdown object>"
      ]
     },
     "metadata": {},
     "output_type": "display_data"
    },
    {
     "data": {
      "text/markdown": [
       "## Index Sets"
      ],
      "text/plain": [
       "<IPython.core.display.Markdown object>"
      ]
     },
     "metadata": {},
     "output_type": "display_data"
    },
    {
     "data": {
      "text/latex": [
       "$\\displaystyle item = \\{ milk, cheese, apples \\}$"
      ],
      "text/plain": [
       "<IPython.core.display.Math object>"
      ]
     },
     "metadata": {},
     "output_type": "display_data"
    },
    {
     "data": {
      "text/markdown": [
       "<br><br>"
      ],
      "text/plain": [
       "<IPython.core.display.Markdown object>"
      ]
     },
     "metadata": {},
     "output_type": "display_data"
    },
    {
     "data": {
      "text/markdown": [
       "## Objective"
      ],
      "text/plain": [
       "<IPython.core.display.Markdown object>"
      ]
     },
     "metadata": {},
     "output_type": "display_data"
    },
    {
     "data": {
      "text/latex": [
       "$\\displaystyle min \\hspace{0.2cm} 1.0 \\cdot {{x}}_{milk} + 2.5 \\cdot {{x}}_{cheese} + 0.75 \\cdot {{x}}_{apples}$"
      ],
      "text/plain": [
       "<IPython.core.display.Math object>"
      ]
     },
     "metadata": {},
     "output_type": "display_data"
    },
    {
     "data": {
      "text/markdown": [
       "<br><br>"
      ],
      "text/plain": [
       "<IPython.core.display.Markdown object>"
      ]
     },
     "metadata": {},
     "output_type": "display_data"
    },
    {
     "data": {
      "text/markdown": [
       "## s.t."
      ],
      "text/plain": [
       "<IPython.core.display.Markdown object>"
      ]
     },
     "metadata": {},
     "output_type": "display_data"
    },
    {
     "data": {
      "text/markdown": [
       "### Inequality Constraints"
      ],
      "text/plain": [
       "<IPython.core.display.Markdown object>"
      ]
     },
     "metadata": {},
     "output_type": "display_data"
    },
    {
     "data": {
      "text/latex": [
       "$\\displaystyle [0]\\text{   }-40.0 \\cdot {{x}}_{milk} - 20.0 \\cdot {{x}}_{cheese} - 10.0 \\cdot {{x}}_{apples} + 80.0 \\leq 0$"
      ],
      "text/plain": [
       "<IPython.core.display.Math object>"
      ]
     },
     "metadata": {},
     "output_type": "display_data"
    },
    {
     "data": {
      "text/latex": [
       "$\\displaystyle [1]\\text{   }-5.0 \\cdot {{x}}_{milk} - 40.0 \\cdot {{x}}_{cheese} - 30.0 \\cdot {{x}}_{apples} + 60.0 \\leq 0$"
      ],
      "text/plain": [
       "<IPython.core.display.Math object>"
      ]
     },
     "metadata": {},
     "output_type": "display_data"
    },
    {
     "data": {
      "text/latex": [
       "$\\displaystyle [2]\\text{   }-20.0 \\cdot {{x}}_{milk} - 30.0 \\cdot {{x}}_{cheese} - 40.0 \\cdot {{x}}_{apples} + 50.0 \\leq 0$"
      ],
      "text/plain": [
       "<IPython.core.display.Math object>"
      ]
     },
     "metadata": {},
     "output_type": "display_data"
    },
    {
     "data": {
      "text/latex": [
       "$\\displaystyle [3]\\text{   }-30.0 \\cdot {{x}}_{milk} - 50.0 \\cdot {{x}}_{cheese} - 60.0 \\cdot {{x}}_{apples} + 30.0 \\leq 0$"
      ],
      "text/plain": [
       "<IPython.core.display.Math object>"
      ]
     },
     "metadata": {},
     "output_type": "display_data"
    }
   ],
   "source": [
    "p.show(True)"
   ]
  },
  {
   "cell_type": "markdown",
   "metadata": {},
   "source": [
    "## Exporting"
   ]
  },
  {
   "cell_type": "markdown",
   "metadata": {},
   "source": [
    "The program can be exported as a .mps file"
   ]
  },
  {
   "cell_type": "code",
   "execution_count": 47,
   "metadata": {},
   "outputs": [
    {
     "name": "stdout",
     "output_type": "stream",
     "text": [
      "--- Generating prog.mps\n"
     ]
    }
   ],
   "source": [
    "p.mps()"
   ]
  },
  {
   "cell_type": "markdown",
   "metadata": {},
   "source": [
    "## Solving "
   ]
  },
  {
   "cell_type": "markdown",
   "metadata": {},
   "source": [
    "The solution can be obtained using _state-of-the-art_ solvers. \n",
    "\n",
    "Note that the program is first exported in the .mps format and then sent to the solver"
   ]
  },
  {
   "cell_type": "code",
   "execution_count": 48,
   "metadata": {},
   "outputs": [
    {
     "name": "stdout",
     "output_type": "stream",
     "text": [
      "--- Generating prog.mps\n",
      "--- Creating gurobi model for prog\n",
      "Read MPS format model from file prog.mps\n",
      "Reading time = 0.01 seconds\n",
      "PROG: 4 rows, 3 columns, 12 nonzeros\n",
      "--- Optimizing prog using gurobi\n",
      "Gurobi Optimizer version 12.0.3 build v12.0.3rc0 (win64 - Windows 11.0 (26100.2))\n",
      "\n",
      "CPU model: 13th Gen Intel(R) Core(TM) i7-13700, instruction set [SSE2|AVX|AVX2]\n",
      "Thread count: 16 physical cores, 24 logical processors, using up to 24 threads\n",
      "\n",
      "Optimize a model with 4 rows, 3 columns and 12 nonzeros\n",
      "Model fingerprint: 0x7c6539af\n",
      "Coefficient statistics:\n",
      "  Matrix range     [5e+00, 6e+01]\n",
      "  Objective range  [8e-01, 3e+00]\n",
      "  Bounds range     [0e+00, 0e+00]\n",
      "  RHS range        [3e+01, 8e+01]\n",
      "Presolve time: 0.00s\n",
      "Presolved: 4 rows, 3 columns, 12 nonzeros\n",
      "\n",
      "Iteration    Objective       Primal Inf.    Dual Inf.      Time\n",
      "       0    0.0000000e+00   2.750000e+01   0.000000e+00      0s\n",
      "       2    2.8695652e+00   0.000000e+00   0.000000e+00      0s\n",
      "\n",
      "Solved in 2 iterations and 0.00 seconds (0.00 work units)\n",
      "Optimal objective  2.869565217e+00\n",
      "--- Solution found. Use .sol() to display it\n",
      "--- Creating Solution object, check.solution\n"
     ]
    }
   ],
   "source": [
    "p.opt(using='gurobi')"
   ]
  },
  {
   "cell_type": "markdown",
   "metadata": {},
   "source": [
    "## Display Solution "
   ]
  },
  {
   "cell_type": "markdown",
   "metadata": {},
   "source": [
    "The values of the variables as well as the constrain slacks are denoted for inequality constraints "
   ]
  },
  {
   "cell_type": "code",
   "execution_count": 49,
   "metadata": {},
   "outputs": [
    {
     "data": {
      "text/markdown": [
       "# Solution for prog"
      ],
      "text/plain": [
       "<IPython.core.display.Markdown object>"
      ]
     },
     "metadata": {},
     "output_type": "display_data"
    },
    {
     "data": {
      "text/markdown": [
       "<br><br>"
      ],
      "text/plain": [
       "<IPython.core.display.Markdown object>"
      ]
     },
     "metadata": {},
     "output_type": "display_data"
    },
    {
     "data": {
      "text/markdown": [
       "## Objective"
      ],
      "text/plain": [
       "<IPython.core.display.Markdown object>"
      ]
     },
     "metadata": {},
     "output_type": "display_data"
    },
    {
     "data": {
      "text/latex": [
       "$\\displaystyle min \\hspace{0.2cm} 1.0 \\cdot {{x}}_{milk} + 2.5 \\cdot {{x}}_{cheese} + 0.75 \\cdot {{x}}_{apples}=2.869565217391304$"
      ],
      "text/plain": [
       "<IPython.core.display.Math object>"
      ]
     },
     "metadata": {},
     "output_type": "display_data"
    },
    {
     "data": {
      "text/markdown": [
       "<br><br>"
      ],
      "text/plain": [
       "<IPython.core.display.Markdown object>"
      ]
     },
     "metadata": {},
     "output_type": "display_data"
    },
    {
     "data": {
      "text/markdown": [
       "## Variables"
      ],
      "text/plain": [
       "<IPython.core.display.Markdown object>"
      ]
     },
     "metadata": {},
     "output_type": "display_data"
    },
    {
     "data": {
      "text/latex": [
       "$\\displaystyle {{x}}_{milk}=1.5652173913043477$"
      ],
      "text/plain": [
       "<IPython.core.display.Math object>"
      ]
     },
     "metadata": {},
     "output_type": "display_data"
    },
    {
     "data": {
      "text/latex": [
       "$\\displaystyle {{x}}_{cheese}=0.0$"
      ],
      "text/plain": [
       "<IPython.core.display.Math object>"
      ]
     },
     "metadata": {},
     "output_type": "display_data"
    },
    {
     "data": {
      "text/latex": [
       "$\\displaystyle {{x}}_{apples}=1.7391304347826089$"
      ],
      "text/plain": [
       "<IPython.core.display.Math object>"
      ]
     },
     "metadata": {},
     "output_type": "display_data"
    },
    {
     "data": {
      "text/markdown": [
       "<br><br>"
      ],
      "text/plain": [
       "<IPython.core.display.Markdown object>"
      ]
     },
     "metadata": {},
     "output_type": "display_data"
    },
    {
     "data": {
      "text/markdown": [
       "## Constraint Slack"
      ],
      "text/plain": [
       "<IPython.core.display.Markdown object>"
      ]
     },
     "metadata": {},
     "output_type": "display_data"
    },
    {
     "data": {
      "text/latex": [
       "$\\displaystyle -40.0 \\cdot {{x}}_{milk} - 20.0 \\cdot {{x}}_{cheese} - 10.0 \\cdot {{x}}_{apples} + 80.0=-20.0$"
      ],
      "text/plain": [
       "<IPython.core.display.Math object>"
      ]
     },
     "metadata": {},
     "output_type": "display_data"
    },
    {
     "data": {
      "text/latex": [
       "$\\displaystyle -5.0 \\cdot {{x}}_{milk} - 40.0 \\cdot {{x}}_{cheese} - 30.0 \\cdot {{x}}_{apples} + 60.0=-40.0$"
      ],
      "text/plain": [
       "<IPython.core.display.Math object>"
      ]
     },
     "metadata": {},
     "output_type": "display_data"
    },
    {
     "data": {
      "text/latex": [
       "$\\displaystyle -20.0 \\cdot {{x}}_{milk} - 30.0 \\cdot {{x}}_{cheese} - 40.0 \\cdot {{x}}_{apples} + 50.0=-80.86956521739131$"
      ],
      "text/plain": [
       "<IPython.core.display.Math object>"
      ]
     },
     "metadata": {},
     "output_type": "display_data"
    },
    {
     "data": {
      "text/latex": [
       "$\\displaystyle -30.0 \\cdot {{x}}_{milk} - 50.0 \\cdot {{x}}_{cheese} - 60.0 \\cdot {{x}}_{apples} + 30.0=-171.30434782608697$"
      ],
      "text/plain": [
       "<IPython.core.display.Math object>"
      ]
     },
     "metadata": {},
     "output_type": "display_data"
    }
   ],
   "source": [
    "p.sol()"
   ]
  },
  {
   "cell_type": "markdown",
   "metadata": {},
   "source": [
    "The values attained by individual variables can also be displayed  "
   ]
  },
  {
   "cell_type": "code",
   "execution_count": 50,
   "metadata": {},
   "outputs": [
    {
     "data": {
      "text/latex": [
       "$\\displaystyle {{x}}_{milk}=1.5652173913043477$"
      ],
      "text/plain": [
       "<IPython.core.display.Math object>"
      ]
     },
     "metadata": {},
     "output_type": "display_data"
    },
    {
     "data": {
      "text/latex": [
       "$\\displaystyle {{x}}_{cheese}=0.0$"
      ],
      "text/plain": [
       "<IPython.core.display.Math object>"
      ]
     },
     "metadata": {},
     "output_type": "display_data"
    },
    {
     "data": {
      "text/latex": [
       "$\\displaystyle {{x}}_{apples}=1.7391304347826089$"
      ],
      "text/plain": [
       "<IPython.core.display.Math object>"
      ]
     },
     "metadata": {},
     "output_type": "display_data"
    }
   ],
   "source": [
    "p.x.sol()"
   ]
  },
  {
   "cell_type": "markdown",
   "metadata": {},
   "source": [
    "even at an index "
   ]
  },
  {
   "cell_type": "code",
   "execution_count": 51,
   "metadata": {},
   "outputs": [
    {
     "data": {
      "text/latex": [
       "$\\displaystyle {{x}}_{milk}=1.5652173913043477$"
      ],
      "text/plain": [
       "<IPython.core.display.Math object>"
      ]
     },
     "metadata": {},
     "output_type": "display_data"
    }
   ],
   "source": [
    "p.x(p.milk).sol()"
   ]
  },
  {
   "cell_type": "markdown",
   "metadata": {},
   "source": [
    "or accessed.\n",
    "\n",
    "I get that this is a little wierd (referring to the [0]), I will fix this."
   ]
  },
  {
   "cell_type": "code",
   "execution_count": 52,
   "metadata": {},
   "outputs": [
    {
     "data": {
      "text/plain": [
       "[x[0]]"
      ]
     },
     "execution_count": 52,
     "metadata": {},
     "output_type": "execute_result"
    }
   ],
   "source": [
    "p.x(p.milk)[0]._"
   ]
  },
  {
   "cell_type": "markdown",
   "metadata": {},
   "source": [
    "## Matrix Form"
   ]
  },
  {
   "cell_type": "markdown",
   "metadata": {},
   "source": [
    "Left Hand Side parameters "
   ]
  },
  {
   "cell_type": "code",
   "execution_count": 53,
   "metadata": {},
   "outputs": [
    {
     "data": {
      "text/plain": [
       "[[-40.0, -20.0, -10.0],\n",
       " [-5.0, -40.0, -30.0],\n",
       " [-20.0, -30.0, -40.0],\n",
       " [-30.0, -50.0, -60.0]]"
      ]
     },
     "execution_count": 53,
     "metadata": {},
     "output_type": "execute_result"
    }
   ],
   "source": [
    "p.A"
   ]
  },
  {
   "cell_type": "markdown",
   "metadata": {},
   "source": [
    "Right Hand Side paremeters "
   ]
  },
  {
   "cell_type": "code",
   "execution_count": 54,
   "metadata": {},
   "outputs": [
    {
     "data": {
      "text/plain": [
       "[-80.0, -60.0, -50.0, -30.0]"
      ]
     },
     "execution_count": 54,
     "metadata": {},
     "output_type": "execute_result"
    }
   ],
   "source": [
    "p.B"
   ]
  },
  {
   "cell_type": "markdown",
   "metadata": {},
   "source": [
    "Objective cost vector "
   ]
  },
  {
   "cell_type": "code",
   "execution_count": 55,
   "metadata": {},
   "outputs": [
    {
     "data": {
      "text/plain": [
       "[1.0, 2.5, 0.75]"
      ]
     },
     "execution_count": 55,
     "metadata": {},
     "output_type": "execute_result"
    }
   ],
   "source": [
    "p.C"
   ]
  },
  {
   "cell_type": "markdown",
   "metadata": {},
   "source": [
    "LHS parameters for less than equal constraints "
   ]
  },
  {
   "cell_type": "code",
   "execution_count": 56,
   "metadata": {},
   "outputs": [
    {
     "data": {
      "text/plain": [
       "[[-40.0, -20.0, -10.0],\n",
       " [-5.0, -40.0, -30.0],\n",
       " [-20.0, -30.0, -40.0],\n",
       " [-30.0, -50.0, -60.0]]"
      ]
     },
     "execution_count": 56,
     "metadata": {},
     "output_type": "execute_result"
    }
   ],
   "source": [
    "p.G"
   ]
  },
  {
   "cell_type": "markdown",
   "metadata": {},
   "source": [
    "LHS parameters for equality constraints. \n",
    "There are no equality constraints in this program "
   ]
  },
  {
   "cell_type": "code",
   "execution_count": 57,
   "metadata": {},
   "outputs": [
    {
     "data": {
      "text/plain": [
       "[]"
      ]
     },
     "execution_count": 57,
     "metadata": {},
     "output_type": "execute_result"
    }
   ],
   "source": [
    "p.H"
   ]
  }
 ],
 "metadata": {
  "kernelspec": {
   "display_name": ".venv",
   "language": "python",
   "name": "python3"
  },
  "language_info": {
   "codemirror_mode": {
    "name": "ipython",
    "version": 3
   },
   "file_extension": ".py",
   "mimetype": "text/x-python",
   "name": "python",
   "nbconvert_exporter": "python",
   "pygments_lexer": "ipython3",
   "version": "3.13.8"
  }
 },
 "nbformat": 4,
 "nbformat_minor": 2
}
