{
 "cells": [
  {
   "cell_type": "markdown",
   "metadata": {},
   "source": [
    "# Diet Problem (LP)"
   ]
  },
  {
   "cell_type": "markdown",
   "metadata": {},
   "source": [
    "This problem is taken from Prof. Eli Olinick's [Operations Research Models](https://s2.smu.edu/~olinick/cse3360/) course [Mathematical Programming Examples](https://s2.smu.edu/~olinick/cse3360/lectures/l12.html).\n",
    "\n",
    "The goal is to choose a minimum-cost diet that satisfies the minimum recommended daily allowance (RDA), using the following data:\n",
    "\n",
    "| Nutrient / Cost | Milk (per gallon) | Cheese (per lb) | Apples (per lb) | Minimum RDA |\n",
    "|-----------------|-------------------|-----------------|-----------------|-------------|\n",
    "| Protein         | 40                | 20              | 10              | 80          |\n",
    "| Vitamin A       | 5                 | 40              | 30              | 60          |\n",
    "| Vitamin B       | 20                | 30              | 40              | 50          |\n",
    "| Vitamin C       | 30                | 50              | 60              | 30          |\n",
    "| Cost            | \\$1.00            | \\$2.50          | \\$0.75          |             |\n"
   ]
  },
  {
   "cell_type": "markdown",
   "metadata": {},
   "source": [
    "## Declare Program Elements "
   ]
  },
  {
   "cell_type": "code",
   "execution_count": 1,
   "metadata": {},
   "outputs": [],
   "source": [
    "from gana import Prg, I, V, P, inf\n",
    "\n",
    "p = Prg()\n",
    "p.item = I('milk', 'cheese', 'apples', tag='food item')\n",
    "p.x = V(p.item, tag='amount of food item to intake')\n",
    "p.protein = P(p.item, _=[40, 20, 10])\n",
    "p.vitA = P(p.item, _=[5, 40, 30])\n",
    "p.vitB = P(p.item, _=[20, 30, 40])\n",
    "p.vitC = P(p.item, _=[30, 50, 60])\n",
    "p.cost = P(p.item, _=[1, 2.5, 3 / 4])"
   ]
  },
  {
   "cell_type": "markdown",
   "metadata": {},
   "source": [
    "## Declare Constraints "
   ]
  },
  {
   "cell_type": "markdown",
   "metadata": {},
   "source": [
    "Non-descriptive print will use the names as provided by the user "
   ]
  },
  {
   "cell_type": "code",
   "execution_count": 2,
   "metadata": {},
   "outputs": [
    {
     "data": {
      "text/latex": [
       "$\\displaystyle [0]\\text{   }{\\mathrm{{\\mathrm{{\\mathrm{protein}}}}}}_{{milk}} \\cdot {\\mathbf{{\\mathbf{{\\mathbf{{\\mathbf{x}}}}}}}}_{{milk}} - {\\mathrm{{\\mathrm{protein}}}}_{{cheese}} \\cdot {\\mathbf{{\\mathbf{{\\mathbf{x}}}}}}_{{cheese}} - {\\mathrm{{\\mathrm{protein}}}}_{{apples}} \\cdot {\\mathbf{{\\mathbf{{\\mathbf{x}}}}}}_{{apples}} + 80 \\leq 0$"
      ],
      "text/plain": [
       "<IPython.core.display.Math object>"
      ]
     },
     "metadata": {},
     "output_type": "display_data"
    }
   ],
   "source": [
    "p.cons_protein = sum(p.protein(i) * p.x(i) for i in p.item) >= 80\n",
    "p.cons_protein.show()"
   ]
  },
  {
   "cell_type": "markdown",
   "metadata": {},
   "source": [
    "Descriptive print will display the values "
   ]
  },
  {
   "cell_type": "code",
   "execution_count": 3,
   "metadata": {},
   "outputs": [
    {
     "data": {
      "text/latex": [
       "$\\displaystyle [0]\\text{   }-40.0 \\cdot {\\mathbf{x}}_{{milk}} - 20.0 \\cdot {\\mathbf{x}}_{{cheese}} - 10.0 \\cdot {\\mathbf{x}}_{{apples}} + 80.0 \\leq 0$"
      ],
      "text/plain": [
       "<IPython.core.display.Math object>"
      ]
     },
     "metadata": {},
     "output_type": "display_data"
    }
   ],
   "source": [
    "p.cons_vitA = sum(p.vitA(i) * p.x(i) for i in p.item) >= 60\n",
    "p.cons_protein.show(True)"
   ]
  },
  {
   "cell_type": "code",
   "execution_count": 4,
   "metadata": {},
   "outputs": [],
   "source": [
    "p.cons_vitB = sum(p.vitB(i) * p.x(i) for i in p.item) >= 50\n",
    "p.cons_vitC = sum(p.vitC(i) * p.x(i) for i in p.item) >= 30"
   ]
  },
  {
   "cell_type": "markdown",
   "metadata": {},
   "source": [
    "## Declare Objective "
   ]
  },
  {
   "cell_type": "code",
   "execution_count": 5,
   "metadata": {},
   "outputs": [],
   "source": [
    "p.obj_cost = inf(sum(p.cost(i) * p.x(i) for i in p.item))"
   ]
  },
  {
   "cell_type": "markdown",
   "metadata": {},
   "source": [
    "## Display Program "
   ]
  },
  {
   "cell_type": "markdown",
   "metadata": {},
   "source": [
    "The entire program can also be displayed descriptively and non-descriptively.\n",
    "\n",
    "The program is <u> always </u> in the canonical form "
   ]
  },
  {
   "cell_type": "code",
   "execution_count": 6,
   "metadata": {},
   "outputs": [
    {
     "data": {
      "text/markdown": [
       "# Mathematical Program for prog"
      ],
      "text/plain": [
       "<IPython.core.display.Markdown object>"
      ]
     },
     "metadata": {},
     "output_type": "display_data"
    },
    {
     "data": {
      "text/markdown": [
       "<br><br>"
      ],
      "text/plain": [
       "<IPython.core.display.Markdown object>"
      ]
     },
     "metadata": {},
     "output_type": "display_data"
    },
    {
     "data": {
      "text/markdown": [
       "## Index Sets"
      ],
      "text/plain": [
       "<IPython.core.display.Markdown object>"
      ]
     },
     "metadata": {},
     "output_type": "display_data"
    },
    {
     "data": {
      "text/latex": [
       "$\\displaystyle {item} = \\{ {{milk}, {cheese}, {apples}} \\}$"
      ],
      "text/plain": [
       "<IPython.core.display.Math object>"
      ]
     },
     "metadata": {},
     "output_type": "display_data"
    },
    {
     "data": {
      "text/markdown": [
       "<br><br>"
      ],
      "text/plain": [
       "<IPython.core.display.Markdown object>"
      ]
     },
     "metadata": {},
     "output_type": "display_data"
    },
    {
     "data": {
      "text/markdown": [
       "## Objective"
      ],
      "text/plain": [
       "<IPython.core.display.Markdown object>"
      ]
     },
     "metadata": {},
     "output_type": "display_data"
    },
    {
     "data": {
      "text/latex": [
       "$\\displaystyle min \\hspace{0.2cm} 1.0 \\cdot {\\mathbf{x}}_{{milk}} + 2.5 \\cdot {\\mathbf{x}}_{{cheese}} + 0.75 \\cdot {\\mathbf{x}}_{{apples}}$"
      ],
      "text/plain": [
       "<IPython.core.display.Math object>"
      ]
     },
     "metadata": {},
     "output_type": "display_data"
    },
    {
     "data": {
      "text/markdown": [
       "<br><br>"
      ],
      "text/plain": [
       "<IPython.core.display.Markdown object>"
      ]
     },
     "metadata": {},
     "output_type": "display_data"
    },
    {
     "data": {
      "text/markdown": [
       "## s.t."
      ],
      "text/plain": [
       "<IPython.core.display.Markdown object>"
      ]
     },
     "metadata": {},
     "output_type": "display_data"
    },
    {
     "data": {
      "text/markdown": [
       "<br><br>"
      ],
      "text/plain": [
       "<IPython.core.display.Markdown object>"
      ]
     },
     "metadata": {},
     "output_type": "display_data"
    },
    {
     "data": {
      "text/markdown": [
       "## Inequality Constraint Sets"
      ],
      "text/plain": [
       "<IPython.core.display.Markdown object>"
      ]
     },
     "metadata": {},
     "output_type": "display_data"
    },
    {
     "data": {
      "text/latex": [
       "$\\displaystyle [0]\\text{   }{\\mathrm{{\\mathrm{{\\mathrm{protein}}}}}}_{{milk}} \\cdot {\\mathbf{{\\mathbf{{\\mathbf{{\\mathbf{x}}}}}}}}_{{milk}} - {\\mathrm{{\\mathrm{protein}}}}_{{cheese}} \\cdot {\\mathbf{{\\mathbf{{\\mathbf{x}}}}}}_{{cheese}} - {\\mathrm{{\\mathrm{protein}}}}_{{apples}} \\cdot {\\mathbf{{\\mathbf{{\\mathbf{x}}}}}}_{{apples}} + 80 \\leq 0$"
      ],
      "text/plain": [
       "<IPython.core.display.Math object>"
      ]
     },
     "metadata": {},
     "output_type": "display_data"
    },
    {
     "data": {
      "text/latex": [
       "$\\displaystyle [1]\\text{   }{\\mathrm{{\\mathrm{{\\mathrm{vitA}}}}}}_{{milk}} \\cdot {\\mathbf{{\\mathbf{{\\mathbf{{\\mathbf{x}}}}}}}}_{{milk}} - {\\mathrm{{\\mathrm{vitA}}}}_{{cheese}} \\cdot {\\mathbf{{\\mathbf{{\\mathbf{x}}}}}}_{{cheese}} - {\\mathrm{{\\mathrm{vitA}}}}_{{apples}} \\cdot {\\mathbf{{\\mathbf{{\\mathbf{x}}}}}}_{{apples}} + 60 \\leq 0$"
      ],
      "text/plain": [
       "<IPython.core.display.Math object>"
      ]
     },
     "metadata": {},
     "output_type": "display_data"
    },
    {
     "data": {
      "text/latex": [
       "$\\displaystyle [2]\\text{   }{\\mathrm{{\\mathrm{{\\mathrm{vitB}}}}}}_{{milk}} \\cdot {\\mathbf{{\\mathbf{{\\mathbf{{\\mathbf{x}}}}}}}}_{{milk}} - {\\mathrm{{\\mathrm{vitB}}}}_{{cheese}} \\cdot {\\mathbf{{\\mathbf{{\\mathbf{x}}}}}}_{{cheese}} - {\\mathrm{{\\mathrm{vitB}}}}_{{apples}} \\cdot {\\mathbf{{\\mathbf{{\\mathbf{x}}}}}}_{{apples}} + 50 \\leq 0$"
      ],
      "text/plain": [
       "<IPython.core.display.Math object>"
      ]
     },
     "metadata": {},
     "output_type": "display_data"
    },
    {
     "data": {
      "text/latex": [
       "$\\displaystyle [3]\\text{   }{\\mathrm{{\\mathrm{{\\mathrm{vitC}}}}}}_{{milk}} \\cdot {\\mathbf{{\\mathbf{{\\mathbf{{\\mathbf{x}}}}}}}}_{{milk}} - {\\mathrm{{\\mathrm{vitC}}}}_{{cheese}} \\cdot {\\mathbf{{\\mathbf{{\\mathbf{x}}}}}}_{{cheese}} - {\\mathrm{{\\mathrm{vitC}}}}_{{apples}} \\cdot {\\mathbf{{\\mathbf{{\\mathbf{x}}}}}}_{{apples}} + 30 \\leq 0$"
      ],
      "text/plain": [
       "<IPython.core.display.Math object>"
      ]
     },
     "metadata": {},
     "output_type": "display_data"
    },
    {
     "data": {
      "text/markdown": [
       "<br><br>"
      ],
      "text/plain": [
       "<IPython.core.display.Markdown object>"
      ]
     },
     "metadata": {},
     "output_type": "display_data"
    },
    {
     "data": {
      "text/markdown": [
       "## Functions"
      ],
      "text/plain": [
       "<IPython.core.display.Markdown object>"
      ]
     },
     "metadata": {},
     "output_type": "display_data"
    },
    {
     "data": {
      "text/latex": [
       "$\\displaystyle [0]\\text{   }1.0 \\cdot {\\mathbf{x}}_{{milk}} + 2.5 \\cdot {\\mathbf{x}}_{{cheese}} + 0.75 \\cdot {\\mathbf{x}}_{{apples}}$"
      ],
      "text/plain": [
       "<IPython.core.display.Math object>"
      ]
     },
     "metadata": {},
     "output_type": "display_data"
    }
   ],
   "source": [
    "p.show()"
   ]
  },
  {
   "cell_type": "code",
   "execution_count": 7,
   "metadata": {},
   "outputs": [
    {
     "data": {
      "text/markdown": [
       "# Mathematical Program for prog"
      ],
      "text/plain": [
       "<IPython.core.display.Markdown object>"
      ]
     },
     "metadata": {},
     "output_type": "display_data"
    },
    {
     "data": {
      "text/markdown": [
       "<br><br>"
      ],
      "text/plain": [
       "<IPython.core.display.Markdown object>"
      ]
     },
     "metadata": {},
     "output_type": "display_data"
    },
    {
     "data": {
      "text/markdown": [
       "## Index Sets"
      ],
      "text/plain": [
       "<IPython.core.display.Markdown object>"
      ]
     },
     "metadata": {},
     "output_type": "display_data"
    },
    {
     "data": {
      "text/latex": [
       "$\\displaystyle {item} = \\{ {{milk}, {cheese}, {apples}} \\}$"
      ],
      "text/plain": [
       "<IPython.core.display.Math object>"
      ]
     },
     "metadata": {},
     "output_type": "display_data"
    },
    {
     "data": {
      "text/markdown": [
       "<br><br>"
      ],
      "text/plain": [
       "<IPython.core.display.Markdown object>"
      ]
     },
     "metadata": {},
     "output_type": "display_data"
    },
    {
     "data": {
      "text/markdown": [
       "## Objective"
      ],
      "text/plain": [
       "<IPython.core.display.Markdown object>"
      ]
     },
     "metadata": {},
     "output_type": "display_data"
    },
    {
     "data": {
      "text/latex": [
       "$\\displaystyle min \\hspace{0.2cm} 1.0 \\cdot {\\mathbf{x}}_{{milk}} + 2.5 \\cdot {\\mathbf{x}}_{{cheese}} + 0.75 \\cdot {\\mathbf{x}}_{{apples}}$"
      ],
      "text/plain": [
       "<IPython.core.display.Math object>"
      ]
     },
     "metadata": {},
     "output_type": "display_data"
    },
    {
     "data": {
      "text/markdown": [
       "<br><br>"
      ],
      "text/plain": [
       "<IPython.core.display.Markdown object>"
      ]
     },
     "metadata": {},
     "output_type": "display_data"
    },
    {
     "data": {
      "text/markdown": [
       "## s.t."
      ],
      "text/plain": [
       "<IPython.core.display.Markdown object>"
      ]
     },
     "metadata": {},
     "output_type": "display_data"
    },
    {
     "data": {
      "text/markdown": [
       "<br><br>"
      ],
      "text/plain": [
       "<IPython.core.display.Markdown object>"
      ]
     },
     "metadata": {},
     "output_type": "display_data"
    },
    {
     "data": {
      "text/markdown": [
       "## Inequality Constraints"
      ],
      "text/plain": [
       "<IPython.core.display.Markdown object>"
      ]
     },
     "metadata": {},
     "output_type": "display_data"
    },
    {
     "data": {
      "text/latex": [
       "$\\displaystyle [0]\\text{   }-40.0 \\cdot {\\mathbf{x}}_{{milk}} - 20.0 \\cdot {\\mathbf{x}}_{{cheese}} - 10.0 \\cdot {\\mathbf{x}}_{{apples}} + 80.0 \\leq 0$"
      ],
      "text/plain": [
       "<IPython.core.display.Math object>"
      ]
     },
     "metadata": {},
     "output_type": "display_data"
    },
    {
     "data": {
      "text/latex": [
       "$\\displaystyle [1]\\text{   }-5.0 \\cdot {\\mathbf{x}}_{{milk}} - 40.0 \\cdot {\\mathbf{x}}_{{cheese}} - 30.0 \\cdot {\\mathbf{x}}_{{apples}} + 60.0 \\leq 0$"
      ],
      "text/plain": [
       "<IPython.core.display.Math object>"
      ]
     },
     "metadata": {},
     "output_type": "display_data"
    },
    {
     "data": {
      "text/latex": [
       "$\\displaystyle [2]\\text{   }-20.0 \\cdot {\\mathbf{x}}_{{milk}} - 30.0 \\cdot {\\mathbf{x}}_{{cheese}} - 40.0 \\cdot {\\mathbf{x}}_{{apples}} + 50.0 \\leq 0$"
      ],
      "text/plain": [
       "<IPython.core.display.Math object>"
      ]
     },
     "metadata": {},
     "output_type": "display_data"
    },
    {
     "data": {
      "text/latex": [
       "$\\displaystyle [3]\\text{   }-30.0 \\cdot {\\mathbf{x}}_{{milk}} - 50.0 \\cdot {\\mathbf{x}}_{{cheese}} - 60.0 \\cdot {\\mathbf{x}}_{{apples}} + 30.0 \\leq 0$"
      ],
      "text/plain": [
       "<IPython.core.display.Math object>"
      ]
     },
     "metadata": {},
     "output_type": "display_data"
    }
   ],
   "source": [
    "p.show(True)"
   ]
  },
  {
   "cell_type": "markdown",
   "metadata": {},
   "source": [
    "## Exporting"
   ]
  },
  {
   "cell_type": "markdown",
   "metadata": {},
   "source": [
    "The program can be exported as a .mps file"
   ]
  },
  {
   "cell_type": "code",
   "execution_count": 8,
   "metadata": {},
   "outputs": [
    {
     "name": "stderr",
     "output_type": "stream",
     "text": [
      "📝  Generated prog.mps                                                       ⏱ 0.0006 s\n"
     ]
    }
   ],
   "source": [
    "p.mps()"
   ]
  },
  {
   "cell_type": "markdown",
   "metadata": {},
   "source": [
    "## Solving "
   ]
  },
  {
   "cell_type": "markdown",
   "metadata": {},
   "source": [
    "The solution can be obtained using _state-of-the-art_ solvers. \n",
    "\n",
    "Note that the program is first exported in the .mps format and then sent to the solver"
   ]
  },
  {
   "cell_type": "code",
   "execution_count": 9,
   "metadata": {},
   "outputs": [
    {
     "name": "stderr",
     "output_type": "stream",
     "text": [
      "📝  Generated prog.mps                                                       ⏱ 0.0006 s\n"
     ]
    },
    {
     "name": "stdout",
     "output_type": "stream",
     "text": [
      "Set parameter Username\n",
      "Academic license - for non-commercial use only - expires 2026-08-01\n",
      "Read MPS format model from file prog.mps\n",
      "Reading time = 0.00 seconds\n",
      "PROG: 4 rows, 3 columns, 12 nonzeros\n"
     ]
    },
    {
     "name": "stderr",
     "output_type": "stream",
     "text": [
      "📝  Generated gurobipy model. See .formulation                               ⏱ 0.0047 s\n"
     ]
    },
    {
     "name": "stdout",
     "output_type": "stream",
     "text": [
      "Gurobi Optimizer version 12.0.3 build v12.0.3rc0 (win64 - Windows 11.0 (26100.2))\n",
      "\n",
      "CPU model: 13th Gen Intel(R) Core(TM) i7-13700, instruction set [SSE2|AVX|AVX2]\n",
      "Thread count: 16 physical cores, 24 logical processors, using up to 24 threads\n",
      "\n",
      "Optimize a model with 4 rows, 3 columns and 12 nonzeros\n",
      "Model fingerprint: 0x7c6539af\n",
      "Coefficient statistics:\n",
      "  Matrix range     [5e+00, 6e+01]\n",
      "  Objective range  [8e-01, 3e+00]\n",
      "  Bounds range     [0e+00, 0e+00]\n",
      "  RHS range        [3e+01, 8e+01]\n",
      "Presolve time: 0.00s\n",
      "Presolved: 4 rows, 3 columns, 12 nonzeros\n",
      "\n",
      "Iteration    Objective       Primal Inf.    Dual Inf.      Time\n",
      "       0    0.0000000e+00   2.750000e+01   0.000000e+00      0s\n",
      "       2    2.8695652e+00   0.000000e+00   0.000000e+00      0s\n",
      "\n",
      "Solved in 2 iterations and 0.00 seconds (0.00 work units)\n",
      "Optimal objective  2.869565217e+00\n"
     ]
    },
    {
     "name": "stderr",
     "output_type": "stream",
     "text": [
      "📝  Generated Solution object for prog. See .solution                        ⏱ 0.0000 s\n",
      "✅  prog optimized using gurobi. Display using .output()                     ⏱ 0.0112 s\n"
     ]
    }
   ],
   "source": [
    "p.opt(using='gurobi')"
   ]
  },
  {
   "cell_type": "markdown",
   "metadata": {},
   "source": [
    "## Display Solution "
   ]
  },
  {
   "cell_type": "markdown",
   "metadata": {},
   "source": [
    "The values of the variables as well as the constrain slacks are denoted for inequality constraints "
   ]
  },
  {
   "cell_type": "code",
   "execution_count": 10,
   "metadata": {},
   "outputs": [
    {
     "data": {
      "text/markdown": [
       "# Solution for prog"
      ],
      "text/plain": [
       "<IPython.core.display.Markdown object>"
      ]
     },
     "metadata": {},
     "output_type": "display_data"
    },
    {
     "data": {
      "text/markdown": [
       "<br><br>"
      ],
      "text/plain": [
       "<IPython.core.display.Markdown object>"
      ]
     },
     "metadata": {},
     "output_type": "display_data"
    },
    {
     "data": {
      "text/markdown": [
       "## Objective"
      ],
      "text/plain": [
       "<IPython.core.display.Markdown object>"
      ]
     },
     "metadata": {},
     "output_type": "display_data"
    },
    {
     "data": {
      "text/latex": [
       "$\\displaystyle min \\hspace{0.2cm} 1.0 \\cdot {\\mathbf{x}}_{{milk}} + 2.5 \\cdot {\\mathbf{x}}_{{cheese}} + 0.75 \\cdot {\\mathbf{x}}_{{apples}}=2.869565217391304$"
      ],
      "text/plain": [
       "<IPython.core.display.Math object>"
      ]
     },
     "metadata": {},
     "output_type": "display_data"
    },
    {
     "data": {
      "text/markdown": [
       "<br><br>"
      ],
      "text/plain": [
       "<IPython.core.display.Markdown object>"
      ]
     },
     "metadata": {},
     "output_type": "display_data"
    },
    {
     "data": {
      "text/markdown": [
       "## Variables"
      ],
      "text/plain": [
       "<IPython.core.display.Markdown object>"
      ]
     },
     "metadata": {},
     "output_type": "display_data"
    },
    {
     "data": {
      "text/latex": [
       "$\\displaystyle {\\mathbf{x}}_{{milk}}=1.5652173913043477$"
      ],
      "text/plain": [
       "<IPython.core.display.Math object>"
      ]
     },
     "metadata": {},
     "output_type": "display_data"
    },
    {
     "data": {
      "text/latex": [
       "$\\displaystyle {\\mathbf{x}}_{{cheese}}=0.0$"
      ],
      "text/plain": [
       "<IPython.core.display.Math object>"
      ]
     },
     "metadata": {},
     "output_type": "display_data"
    },
    {
     "data": {
      "text/latex": [
       "$\\displaystyle {\\mathbf{x}}_{{apples}}=1.7391304347826089$"
      ],
      "text/plain": [
       "<IPython.core.display.Math object>"
      ]
     },
     "metadata": {},
     "output_type": "display_data"
    }
   ],
   "source": [
    "p.output()"
   ]
  },
  {
   "cell_type": "markdown",
   "metadata": {},
   "source": [
    "The values attained by individual variables can also be displayed  "
   ]
  },
  {
   "cell_type": "code",
   "execution_count": 11,
   "metadata": {},
   "outputs": [
    {
     "data": {
      "text/latex": [
       "$\\displaystyle {\\mathbf{x}}_{{milk}}=1.5652173913043477$"
      ],
      "text/plain": [
       "<IPython.core.display.Math object>"
      ]
     },
     "metadata": {},
     "output_type": "display_data"
    },
    {
     "data": {
      "text/latex": [
       "$\\displaystyle {\\mathbf{x}}_{{cheese}}=0.0$"
      ],
      "text/plain": [
       "<IPython.core.display.Math object>"
      ]
     },
     "metadata": {},
     "output_type": "display_data"
    },
    {
     "data": {
      "text/latex": [
       "$\\displaystyle {\\mathbf{x}}_{{apples}}=1.7391304347826089$"
      ],
      "text/plain": [
       "<IPython.core.display.Math object>"
      ]
     },
     "metadata": {},
     "output_type": "display_data"
    }
   ],
   "source": [
    "p.x.output()"
   ]
  },
  {
   "cell_type": "markdown",
   "metadata": {},
   "source": [
    "even at an index "
   ]
  },
  {
   "cell_type": "code",
   "execution_count": 12,
   "metadata": {},
   "outputs": [
    {
     "data": {
      "text/latex": [
       "$\\displaystyle {\\mathbf{x}}_{{milk}}=1.5652173913043477$"
      ],
      "text/plain": [
       "<IPython.core.display.Math object>"
      ]
     },
     "metadata": {},
     "output_type": "display_data"
    }
   ],
   "source": [
    "p.x(p.milk).output()"
   ]
  },
  {
   "cell_type": "markdown",
   "metadata": {},
   "source": [
    "or accessed.\n",
    "\n",
    "I get that this is a little wierd (referring to the [0]), I will fix this."
   ]
  },
  {
   "cell_type": "code",
   "execution_count": 13,
   "metadata": {},
   "outputs": [
    {
     "data": {
      "text/plain": [
       "[x[0]]"
      ]
     },
     "execution_count": 13,
     "metadata": {},
     "output_type": "execute_result"
    }
   ],
   "source": [
    "p.x(p.milk)[0]._"
   ]
  },
  {
   "cell_type": "markdown",
   "metadata": {},
   "source": [
    "## Matrix Form"
   ]
  },
  {
   "cell_type": "markdown",
   "metadata": {},
   "source": [
    "Left Hand Side parameters "
   ]
  },
  {
   "cell_type": "code",
   "execution_count": 14,
   "metadata": {},
   "outputs": [
    {
     "data": {
      "text/plain": [
       "[[-40.0, -20.0, -10.0],\n",
       " [-5.0, -40.0, -30.0],\n",
       " [-20.0, -30.0, -40.0],\n",
       " [-30.0, -50.0, -60.0]]"
      ]
     },
     "execution_count": 14,
     "metadata": {},
     "output_type": "execute_result"
    }
   ],
   "source": [
    "p.A"
   ]
  },
  {
   "cell_type": "markdown",
   "metadata": {},
   "source": [
    "Right Hand Side paremeters "
   ]
  },
  {
   "cell_type": "code",
   "execution_count": 15,
   "metadata": {},
   "outputs": [
    {
     "data": {
      "text/plain": [
       "[-80.0, -60.0, -50.0, -30.0]"
      ]
     },
     "execution_count": 15,
     "metadata": {},
     "output_type": "execute_result"
    }
   ],
   "source": [
    "p.B"
   ]
  },
  {
   "cell_type": "markdown",
   "metadata": {},
   "source": [
    "Objective cost vector "
   ]
  },
  {
   "cell_type": "code",
   "execution_count": 16,
   "metadata": {},
   "outputs": [
    {
     "data": {
      "text/plain": [
       "[1.0, 2.5, 0.75]"
      ]
     },
     "execution_count": 16,
     "metadata": {},
     "output_type": "execute_result"
    }
   ],
   "source": [
    "p.C"
   ]
  },
  {
   "cell_type": "markdown",
   "metadata": {},
   "source": [
    "LHS parameters for less than equal constraints "
   ]
  },
  {
   "cell_type": "code",
   "execution_count": 17,
   "metadata": {},
   "outputs": [
    {
     "data": {
      "text/plain": [
       "[[-40.0, -20.0, -10.0],\n",
       " [-5.0, -40.0, -30.0],\n",
       " [-20.0, -30.0, -40.0],\n",
       " [-30.0, -50.0, -60.0]]"
      ]
     },
     "execution_count": 17,
     "metadata": {},
     "output_type": "execute_result"
    }
   ],
   "source": [
    "p.G"
   ]
  },
  {
   "cell_type": "markdown",
   "metadata": {},
   "source": [
    "LHS parameters for equality constraints. \n",
    "There are no equality constraints in this program "
   ]
  },
  {
   "cell_type": "code",
   "execution_count": 18,
   "metadata": {},
   "outputs": [
    {
     "data": {
      "text/plain": [
       "[]"
      ]
     },
     "execution_count": 18,
     "metadata": {},
     "output_type": "execute_result"
    }
   ],
   "source": [
    "p.H"
   ]
  }
 ],
 "metadata": {
  "kernelspec": {
   "display_name": ".venv",
   "language": "python",
   "name": "python3"
  },
  "language_info": {
   "codemirror_mode": {
    "name": "ipython",
    "version": 3
   },
   "file_extension": ".py",
   "mimetype": "text/x-python",
   "name": "python",
   "nbconvert_exporter": "python",
   "pygments_lexer": "ipython3",
   "version": "3.13.9"
  }
 },
 "nbformat": 4,
 "nbformat_minor": 2
}
