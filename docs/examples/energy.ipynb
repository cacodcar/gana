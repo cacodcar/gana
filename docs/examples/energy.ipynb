{
 "cells": [
  {
   "cell_type": "markdown",
   "metadata": {},
   "source": [
    "# Design and Scheduling (MILP)"
   ]
  },
  {
   "cell_type": "markdown",
   "metadata": {},
   "source": [
    "The primary motivation behind developing gana was to be able to write multiscale models seamlessly. \n",
    "\n",
    "Here is how you write one "
   ]
  },
  {
   "cell_type": "code",
   "execution_count": 15,
   "metadata": {},
   "outputs": [],
   "source": [
    "from gana import Prg, I, V, P, inf"
   ]
  },
  {
   "cell_type": "markdown",
   "metadata": {},
   "source": [
    "## Problem Definition "
   ]
  },
  {
   "cell_type": "markdown",
   "metadata": {},
   "source": [
    "We have a solar photovoltaic array and battery. \n",
    "\n",
    "The sun shines (intermittently) and power flows. We need to meet a certain demand for power. \n",
    "\n",
    "The problem is modeled using the resource task network (RTN) methodology as proposed in Pantelides, C.C., 1994, July. Unified frameworks for optimal process planning and scheduling. In Proceedings on the second conference on foundations of computer aided operations (pp. 253-274)."
   ]
  },
  {
   "cell_type": "code",
   "execution_count": 16,
   "metadata": {},
   "outputs": [],
   "source": [
    "p = Prg()\n",
    "p.y = I(size=1, tag='year')\n",
    "p.q = I(size=3, tag='three quarters')"
   ]
  },
  {
   "cell_type": "markdown",
   "metadata": {},
   "source": [
    "## Resource indices"
   ]
  },
  {
   "cell_type": "code",
   "execution_count": 17,
   "metadata": {},
   "outputs": [],
   "source": [
    "p.res_cons = I('solar')\n",
    "p.res_dem = I('power')\n",
    "p.res_stg = I('charge')\n",
    "p.res = p.res_cons | p.res_dem | p.res_stg"
   ]
  },
  {
   "cell_type": "markdown",
   "metadata": {},
   "source": [
    "## Process indices "
   ]
  },
  {
   "cell_type": "code",
   "execution_count": 18,
   "metadata": {},
   "outputs": [
    {
     "data": {
      "text/latex": [
       "$\\displaystyle {pro} = \\{ {{pv}, {li}, {li\\_d}} \\}$"
      ],
      "text/plain": [
       "<IPython.core.display.Math object>"
      ]
     },
     "metadata": {},
     "output_type": "display_data"
    }
   ],
   "source": [
    "p.pro_var = I('pv')\n",
    "p.pro_cer = I('li', 'li_d')\n",
    "p.pro = p.pro_var | p.pro_cer\n",
    "p.pro.show(True)"
   ]
  },
  {
   "cell_type": "markdown",
   "metadata": {},
   "source": [
    "## Parameters "
   ]
  },
  {
   "cell_type": "code",
   "execution_count": 19,
   "metadata": {},
   "outputs": [],
   "source": [
    "p.dm_fac = P(p.power, p.q, _=[0.5, 1, 0.5], tag='demand factor (variability)')\n",
    "p.pv_fac = P(p.pv, p.q, _=[1, 0, 0.5], tag='intermittency factor for solar')\n",
    "p.demand = P(p.res_dem, p.q, _=[100] * 3, tag='nominal demand')\n",
    "p.capex = P(\n",
    "    p.pro, p.y, _=[5000, 1000, 0], tag='capital expenditure for solar processes'\n",
    ")\n",
    "p.fopex = P(p.pro, p.y, _=[500, 100, 0], tag='fixed operating expenditure')\n",
    "p.vopex = P(p.pro, p.y, _=[10, 50, 0], tag='variable operating expenditure')"
   ]
  },
  {
   "cell_type": "markdown",
   "metadata": {},
   "source": [
    "## Variables "
   ]
  },
  {
   "cell_type": "code",
   "execution_count": 20,
   "metadata": {},
   "outputs": [],
   "source": [
    "p.cap_p = V(p.pro, p.y, tag='nameplate production capacity')\n",
    "p.cap_s = V(p.res_stg, p.y, tag='nameplate storage capacity')\n",
    "p.sell = V(p.res_dem, p.q, tag='amount of power sold')\n",
    "p.con = V(p.res_cons, p.q, tag='amount of solar consumed')\n",
    "p.inv = V(p.res_stg, p.q, tag='charge inventory')\n",
    "p.prod = V(p.pro, p.q, tag='production capacity utilization')\n",
    "p.ex_cap = V(p.pro, p.y, tag='capital expenditure')\n",
    "p.ex_fop = V(p.pro, p.y, tag='fixed operating expenditure')\n",
    "p.ex_vop = V(p.pro, p.y, tag='variable operating expenditure')"
   ]
  },
  {
   "cell_type": "markdown",
   "metadata": {},
   "source": [
    "## Decision Constraints "
   ]
  },
  {
   "cell_type": "markdown",
   "metadata": {},
   "source": [
    "These lend degrees of freedom to the model "
   ]
  },
  {
   "cell_type": "code",
   "execution_count": 21,
   "metadata": {},
   "outputs": [],
   "source": [
    "p.con_capmax = p.cap_p(p.pro, p.y) <= 200\n",
    "p.con_capstg = p.cap_s(p.charge, p.y) <= 200\n",
    "p.con_consmax = p.con(p.res_cons, p.q) <= 200\n",
    "p.con_sell = p.sell(p.power, p.q) >= p.dm_fac(p.power, p.q) * p.demand(p.power, p.q)"
   ]
  },
  {
   "cell_type": "markdown",
   "metadata": {},
   "source": [
    "## Multiscale Decision Constraints "
   ]
  },
  {
   "cell_type": "markdown",
   "metadata": {},
   "source": [
    "Here the constraint LHS is index by quarter and the RHS by year.\n",
    "\n",
    "Thus, temporally disparate phenomena (scheduling and capacity sizing) are modeled"
   ]
  },
  {
   "cell_type": "code",
   "execution_count": 22,
   "metadata": {},
   "outputs": [
    {
     "data": {
      "text/latex": [
       "$\\displaystyle [10]\\text{   }{\\mathbf{prod}}_{{pv},{{{q}_{0}}}} - 1.0 \\cdot {\\mathbf{cap\\_p}}_{{pv},{{{y}_{0}}}} \\leq 0$"
      ],
      "text/plain": [
       "<IPython.core.display.Math object>"
      ]
     },
     "metadata": {},
     "output_type": "display_data"
    },
    {
     "data": {
      "text/latex": [
       "$\\displaystyle [11]\\text{   }{\\mathbf{prod}}_{{pv},{{{q}_{1}}}} - 0.0 \\cdot {\\mathbf{cap\\_p}}_{{pv},{{{y}_{0}}}} \\leq 0$"
      ],
      "text/plain": [
       "<IPython.core.display.Math object>"
      ]
     },
     "metadata": {},
     "output_type": "display_data"
    },
    {
     "data": {
      "text/latex": [
       "$\\displaystyle [12]\\text{   }{\\mathbf{prod}}_{{pv},{{{q}_{2}}}} - 0.5 \\cdot {\\mathbf{cap\\_p}}_{{pv},{{{y}_{0}}}} \\leq 0$"
      ],
      "text/plain": [
       "<IPython.core.display.Math object>"
      ]
     },
     "metadata": {},
     "output_type": "display_data"
    }
   ],
   "source": [
    "p.con_pv = p.prod(p.pv, p.q) <= p.pv_fac(p.pv, p.q) * p.cap_p(p.pv, p.y)\n",
    "p.con_pv.show(True)"
   ]
  },
  {
   "cell_type": "code",
   "execution_count": 23,
   "metadata": {},
   "outputs": [],
   "source": [
    "p.con_prod = p.prod(p.pro_cer, p.q) <= p.cap_p(p.pro_cer, p.y)\n",
    "p.con_inv = p.inv(p.charge, p.q) <= p.cap_s(p.charge, p.y)"
   ]
  },
  {
   "cell_type": "markdown",
   "metadata": {},
   "source": [
    "## Calculations "
   ]
  },
  {
   "cell_type": "code",
   "execution_count": 24,
   "metadata": {},
   "outputs": [],
   "source": [
    "p.con_vopex = p.ex_vop(p.pro, p.y) == p.vopex(p.pro, p.y) * sum(\n",
    "    p.prod(p.pro, q) for q in p.q\n",
    ")\n",
    "p.con_capex = p.ex_cap(p.pro, p.y) == p.capex(p.pro, p.y) * p.cap_p(p.pro, p.y)\n",
    "p.con_fopex = p.ex_fop(p.pro, p.y) == p.fopex(p.pro, p.y) * p.cap_p(p.pro, p.y)"
   ]
  },
  {
   "cell_type": "markdown",
   "metadata": {},
   "source": [
    "## Balances "
   ]
  },
  {
   "cell_type": "code",
   "execution_count": 25,
   "metadata": {},
   "outputs": [],
   "source": [
    "p.con_solar = p.prod(p.pv, p.q) == p.con(p.solar, p.q)\n",
    "p.con_power = (\n",
    "    sum(p.prod(i, p.q) for i in p.pro_var)\n",
    "    - p.prod(p.li, p.q)\n",
    "    + p.prod(p.li_d, p.q)\n",
    "    - p.sell(p.power, p.q)\n",
    "    == 0\n",
    ")\n",
    "p.con_charge = (\n",
    "    p.prod(p.li, p.q)\n",
    "    - p.prod(p.li_d, p.q)\n",
    "    + p.inv(p.charge, p.q - 1)\n",
    "    - p.inv(p.charge, p.q)\n",
    "    == 0\n",
    ")"
   ]
  },
  {
   "cell_type": "markdown",
   "metadata": {},
   "source": [
    "## Objective "
   ]
  },
  {
   "cell_type": "code",
   "execution_count": 26,
   "metadata": {},
   "outputs": [],
   "source": [
    "p.o = inf(sum(p.ex_cap) + sum(p.ex_vop) + sum(p.ex_fop))"
   ]
  },
  {
   "cell_type": "markdown",
   "metadata": {},
   "source": [
    "## Display Program "
   ]
  },
  {
   "cell_type": "code",
   "execution_count": 27,
   "metadata": {},
   "outputs": [
    {
     "data": {
      "text/markdown": [
       "# Mathematical Program for prog"
      ],
      "text/plain": [
       "<IPython.core.display.Markdown object>"
      ]
     },
     "metadata": {},
     "output_type": "display_data"
    },
    {
     "data": {
      "text/markdown": [
       "<br><br>"
      ],
      "text/plain": [
       "<IPython.core.display.Markdown object>"
      ]
     },
     "metadata": {},
     "output_type": "display_data"
    },
    {
     "data": {
      "text/markdown": [
       "## Index Sets"
      ],
      "text/plain": [
       "<IPython.core.display.Markdown object>"
      ]
     },
     "metadata": {},
     "output_type": "display_data"
    },
    {
     "data": {
      "text/latex": [
       "$\\displaystyle {y} = \\{ {{{{y}_{0}}}} \\}$"
      ],
      "text/plain": [
       "<IPython.core.display.Math object>"
      ]
     },
     "metadata": {},
     "output_type": "display_data"
    },
    {
     "data": {
      "text/latex": [
       "$\\displaystyle {q} = \\{ {{{{q}_{0}}}, {{{q}_{1}}}, {{{q}_{2}}}} \\}$"
      ],
      "text/plain": [
       "<IPython.core.display.Math object>"
      ]
     },
     "metadata": {},
     "output_type": "display_data"
    },
    {
     "data": {
      "text/latex": [
       "$\\displaystyle {res\\_cons} = \\{ {{solar}} \\}$"
      ],
      "text/plain": [
       "<IPython.core.display.Math object>"
      ]
     },
     "metadata": {},
     "output_type": "display_data"
    },
    {
     "data": {
      "text/latex": [
       "$\\displaystyle {res\\_dem} = \\{ {{power}} \\}$"
      ],
      "text/plain": [
       "<IPython.core.display.Math object>"
      ]
     },
     "metadata": {},
     "output_type": "display_data"
    },
    {
     "data": {
      "text/latex": [
       "$\\displaystyle {res\\_stg} = \\{ {{charge}} \\}$"
      ],
      "text/plain": [
       "<IPython.core.display.Math object>"
      ]
     },
     "metadata": {},
     "output_type": "display_data"
    },
    {
     "data": {
      "text/latex": [
       "$\\displaystyle {res} = \\{ {{solar}, {power}, {charge}} \\}$"
      ],
      "text/plain": [
       "<IPython.core.display.Math object>"
      ]
     },
     "metadata": {},
     "output_type": "display_data"
    },
    {
     "data": {
      "text/latex": [
       "$\\displaystyle {pro\\_var} = \\{ {{pv}} \\}$"
      ],
      "text/plain": [
       "<IPython.core.display.Math object>"
      ]
     },
     "metadata": {},
     "output_type": "display_data"
    },
    {
     "data": {
      "text/latex": [
       "$\\displaystyle {pro\\_cer} = \\{ {{li}, {li\\_d}} \\}$"
      ],
      "text/plain": [
       "<IPython.core.display.Math object>"
      ]
     },
     "metadata": {},
     "output_type": "display_data"
    },
    {
     "data": {
      "text/latex": [
       "$\\displaystyle {pro} = \\{ {{pv}, {li}, {li\\_d}} \\}$"
      ],
      "text/plain": [
       "<IPython.core.display.Math object>"
      ]
     },
     "metadata": {},
     "output_type": "display_data"
    },
    {
     "data": {
      "text/markdown": [
       "<br><br>"
      ],
      "text/plain": [
       "<IPython.core.display.Markdown object>"
      ]
     },
     "metadata": {},
     "output_type": "display_data"
    },
    {
     "data": {
      "text/markdown": [
       "## Objective"
      ],
      "text/plain": [
       "<IPython.core.display.Markdown object>"
      ]
     },
     "metadata": {},
     "output_type": "display_data"
    },
    {
     "data": {
      "text/latex": [
       "$\\displaystyle min \\hspace{0.2cm} {\\mathbf{ex\\_cap}}_{{pv},{{{y}_{0}}}} + {\\mathbf{ex\\_cap}}_{{li},{{{y}_{0}}}} + {\\mathbf{ex\\_cap}}_{{li\\_d},{{{y}_{0}}}} + {\\mathbf{ex\\_vop}}_{{pv},{{{y}_{0}}}} + {\\mathbf{ex\\_vop}}_{{li},{{{y}_{0}}}} + {\\mathbf{ex\\_vop}}_{{li\\_d},{{{y}_{0}}}} + {\\mathbf{ex\\_fop}}_{{pv},{{{y}_{0}}}} + {\\mathbf{ex\\_fop}}_{{li},{{{y}_{0}}}} + {\\mathbf{ex\\_fop}}_{{li\\_d},{{{y}_{0}}}}$"
      ],
      "text/plain": [
       "<IPython.core.display.Math object>"
      ]
     },
     "metadata": {},
     "output_type": "display_data"
    },
    {
     "data": {
      "text/markdown": [
       "<br><br>"
      ],
      "text/plain": [
       "<IPython.core.display.Markdown object>"
      ]
     },
     "metadata": {},
     "output_type": "display_data"
    },
    {
     "data": {
      "text/markdown": [
       "## s.t."
      ],
      "text/plain": [
       "<IPython.core.display.Markdown object>"
      ]
     },
     "metadata": {},
     "output_type": "display_data"
    },
    {
     "data": {
      "text/markdown": [
       "<br><br>"
      ],
      "text/plain": [
       "<IPython.core.display.Markdown object>"
      ]
     },
     "metadata": {},
     "output_type": "display_data"
    },
    {
     "data": {
      "text/markdown": [
       "## Inequality Constraint Sets"
      ],
      "text/plain": [
       "<IPython.core.display.Markdown object>"
      ]
     },
     "metadata": {},
     "output_type": "display_data"
    },
    {
     "data": {
      "text/latex": [
       "$\\displaystyle [0]\\text{   }{\\mathbf{{\\mathbf{cap\\_p}}}}_{{pro},{y}} - 200 \\leq 0$"
      ],
      "text/plain": [
       "<IPython.core.display.Math object>"
      ]
     },
     "metadata": {},
     "output_type": "display_data"
    },
    {
     "data": {
      "text/latex": [
       "$\\displaystyle [1]\\text{   }{\\mathbf{{\\mathbf{{\\mathbf{cap\\_s}}}}}}_{{charge},{y}} - 200 \\leq 0$"
      ],
      "text/plain": [
       "<IPython.core.display.Math object>"
      ]
     },
     "metadata": {},
     "output_type": "display_data"
    },
    {
     "data": {
      "text/latex": [
       "$\\displaystyle [2]\\text{   }{\\mathbf{{\\mathbf{con}}}}_{{res\\_cons},{q}} - 200 \\leq 0$"
      ],
      "text/plain": [
       "<IPython.core.display.Math object>"
      ]
     },
     "metadata": {},
     "output_type": "display_data"
    },
    {
     "data": {
      "text/latex": [
       "$\\displaystyle [3]\\text{   }-{\\mathbf{{\\mathbf{{\\mathbf{sell}}}}}}_{{power},{q}} + {\\mathrm{{\\mathrm{dm\\_fac}}}}_{{power},{q}} \\leq 0$"
      ],
      "text/plain": [
       "<IPython.core.display.Math object>"
      ]
     },
     "metadata": {},
     "output_type": "display_data"
    },
    {
     "data": {
      "text/latex": [
       "$\\displaystyle [4]\\text{   }{\\mathbf{{\\mathbf{{\\mathbf{prod}}}}}}_{{pv},{q}} - {\\mathrm{pv\\_fac}}_{{pv},{q}} \\cdot {\\mathbf{{\\mathbf{{\\mathbf{cap\\_p}}}}}}_{{pv},{y}} \\leq 0$"
      ],
      "text/plain": [
       "<IPython.core.display.Math object>"
      ]
     },
     "metadata": {},
     "output_type": "display_data"
    },
    {
     "data": {
      "text/latex": [
       "$\\displaystyle [5]\\text{   }{\\mathbf{{\\mathbf{{\\mathbf{prod}}}}}}_{{pro\\_cer},{q}} - {\\mathbf{{\\mathbf{{\\mathbf{cap\\_p}}}}}}_{{pro\\_cer},{y}} \\leq 0$"
      ],
      "text/plain": [
       "<IPython.core.display.Math object>"
      ]
     },
     "metadata": {},
     "output_type": "display_data"
    },
    {
     "data": {
      "text/latex": [
       "$\\displaystyle [6]\\text{   }{\\mathbf{{\\mathbf{{\\mathbf{inv}}}}}}_{{charge},{q}} - {\\mathbf{{\\mathbf{{\\mathbf{cap\\_s}}}}}}_{{charge},{y}} \\leq 0$"
      ],
      "text/plain": [
       "<IPython.core.display.Math object>"
      ]
     },
     "metadata": {},
     "output_type": "display_data"
    },
    {
     "data": {
      "text/markdown": [
       "<br><br>"
      ],
      "text/plain": [
       "<IPython.core.display.Markdown object>"
      ]
     },
     "metadata": {},
     "output_type": "display_data"
    },
    {
     "data": {
      "text/markdown": [
       "## Equality Constraint Sets"
      ],
      "text/plain": [
       "<IPython.core.display.Markdown object>"
      ]
     },
     "metadata": {},
     "output_type": "display_data"
    },
    {
     "data": {
      "text/latex": [
       "$\\displaystyle [7]\\text{   }{\\mathbf{{\\mathbf{ex\\_vop}}}}_{{pro},{y}} - ({\\mathrm{vopex}}_{{pro},{y}} \\cdot {\\mathbf{{\\mathbf{{\\mathbf{{\\mathbf{prod}}}}}}}}_{{pro},{{{q}_{0}}}} + {\\mathrm{vopex}}_{{pro},{y}} \\cdot {\\mathbf{{\\mathbf{{\\mathbf{{\\mathbf{prod}}}}}}}}_{{pro},{{{q}_{1}}}} + {\\mathrm{vopex}}_{{pro},{y}} \\cdot {\\mathbf{{\\mathbf{{\\mathbf{{\\mathbf{prod}}}}}}}}_{{pro},{{{q}_{2}}}}) = 0$"
      ],
      "text/plain": [
       "<IPython.core.display.Math object>"
      ]
     },
     "metadata": {},
     "output_type": "display_data"
    },
    {
     "data": {
      "text/latex": [
       "$\\displaystyle [8]\\text{   }{\\mathbf{{\\mathbf{ex\\_cap}}}}_{{pro},{y}} - {\\mathrm{capex}}_{{pro},{y}} \\cdot {\\mathbf{{\\mathbf{cap\\_p}}}}_{{pro},{y}} = 0$"
      ],
      "text/plain": [
       "<IPython.core.display.Math object>"
      ]
     },
     "metadata": {},
     "output_type": "display_data"
    },
    {
     "data": {
      "text/latex": [
       "$\\displaystyle [9]\\text{   }{\\mathbf{{\\mathbf{ex\\_fop}}}}_{{pro},{y}} - {\\mathrm{fopex}}_{{pro},{y}} \\cdot {\\mathbf{{\\mathbf{cap\\_p}}}}_{{pro},{y}} = 0$"
      ],
      "text/plain": [
       "<IPython.core.display.Math object>"
      ]
     },
     "metadata": {},
     "output_type": "display_data"
    },
    {
     "data": {
      "text/latex": [
       "$\\displaystyle [10]\\text{   }{\\mathbf{{\\mathbf{{\\mathbf{prod}}}}}}_{{pv},{q}} - {\\mathbf{{\\mathbf{{\\mathbf{con}}}}}}_{{solar},{q}} = 0$"
      ],
      "text/plain": [
       "<IPython.core.display.Math object>"
      ]
     },
     "metadata": {},
     "output_type": "display_data"
    },
    {
     "data": {
      "text/latex": [
       "$\\displaystyle [11]\\text{   }{\\mathbf{{\\mathbf{{\\mathbf{prod}}}}}}_{{pv},{q}} - {\\mathbf{{\\mathbf{{\\mathbf{prod}}}}}}_{{li},{q}} + {\\mathbf{{\\mathbf{{\\mathbf{prod}}}}}}_{{li\\_d},{q}} - {\\mathbf{{\\mathbf{{\\mathbf{sell}}}}}}_{{power},{q}} = 0$"
      ],
      "text/plain": [
       "<IPython.core.display.Math object>"
      ]
     },
     "metadata": {},
     "output_type": "display_data"
    },
    {
     "data": {
      "text/latex": [
       "$\\displaystyle [12]\\text{   }{\\mathbf{{\\mathbf{{\\mathbf{prod}}}}}}_{{li},{q}} - {\\mathbf{{\\mathbf{{\\mathbf{prod}}}}}}_{{li\\_d},{q}} + {\\mathbf{{\\mathbf{{\\mathbf{inv}}}}}}_{{charge},{{q}-1}} - {\\mathbf{{\\mathbf{{\\mathbf{inv}}}}}}_{{charge},{q}} = 0$"
      ],
      "text/plain": [
       "<IPython.core.display.Math object>"
      ]
     },
     "metadata": {},
     "output_type": "display_data"
    },
    {
     "data": {
      "text/markdown": [
       "<br><br>"
      ],
      "text/plain": [
       "<IPython.core.display.Markdown object>"
      ]
     },
     "metadata": {},
     "output_type": "display_data"
    },
    {
     "data": {
      "text/markdown": [
       "## Functions"
      ],
      "text/plain": [
       "<IPython.core.display.Markdown object>"
      ]
     },
     "metadata": {},
     "output_type": "display_data"
    },
    {
     "data": {
      "text/latex": [
       "$\\displaystyle [0]\\text{   }{\\mathbf{ex\\_cap}}_{{pv},{{{y}_{0}}}} + {\\mathbf{ex\\_cap}}_{{li},{{{y}_{0}}}} + {\\mathbf{ex\\_cap}}_{{li\\_d},{{{y}_{0}}}} + {\\mathbf{ex\\_vop}}_{{pv},{{{y}_{0}}}} + {\\mathbf{ex\\_vop}}_{{li},{{{y}_{0}}}} + {\\mathbf{ex\\_vop}}_{{li\\_d},{{{y}_{0}}}} + {\\mathbf{ex\\_fop}}_{{pv},{{{y}_{0}}}} + {\\mathbf{ex\\_fop}}_{{li},{{{y}_{0}}}} + {\\mathbf{ex\\_fop}}_{{li\\_d},{{{y}_{0}}}}$"
      ],
      "text/plain": [
       "<IPython.core.display.Math object>"
      ]
     },
     "metadata": {},
     "output_type": "display_data"
    }
   ],
   "source": [
    "p.show()"
   ]
  },
  {
   "cell_type": "markdown",
   "metadata": {},
   "source": [
    "## Solution"
   ]
  },
  {
   "cell_type": "code",
   "execution_count": 28,
   "metadata": {},
   "outputs": [
    {
     "name": "stderr",
     "output_type": "stream",
     "text": [
      "📝  Generated prog.mps                                                       ⏱ 0.0031 s\n"
     ]
    },
    {
     "name": "stdout",
     "output_type": "stream",
     "text": [
      "Read MPS format model from file prog.mps\n",
      "Reading time = 0.00 seconds\n",
      "PROG: 40 rows, 31 columns, 81 nonzeros\n"
     ]
    },
    {
     "name": "stderr",
     "output_type": "stream",
     "text": [
      "📝  Generated gurobipy model. See .formulation                               ⏱ 0.0066 s\n"
     ]
    },
    {
     "name": "stdout",
     "output_type": "stream",
     "text": [
      "Gurobi Optimizer version 12.0.3 build v12.0.3rc0 (win64 - Windows 11.0 (26100.2))\n",
      "\n",
      "CPU model: 13th Gen Intel(R) Core(TM) i7-13700, instruction set [SSE2|AVX|AVX2]\n",
      "Thread count: 16 physical cores, 24 logical processors, using up to 24 threads\n",
      "\n",
      "Optimize a model with 40 rows, 31 columns and 81 nonzeros\n",
      "Model fingerprint: 0x1ce81a32\n",
      "Coefficient statistics:\n",
      "  Matrix range     [5e-01, 5e+03]\n",
      "  Objective range  [1e+00, 1e+00]\n",
      "  Bounds range     [0e+00, 0e+00]\n",
      "  RHS range        [5e+01, 2e+02]\n",
      "Presolve removed 30 rows and 20 columns\n",
      "Presolve time: 0.00s\n",
      "Presolved: 10 rows, 11 columns, 25 nonzeros\n",
      "\n",
      "Iteration    Objective       Primal Inf.    Dual Inf.      Time\n",
      "       0    4.9949000e+02   3.748738e+01   0.000000e+00      0s\n",
      "       8    9.4200000e+05   0.000000e+00   0.000000e+00      0s\n",
      "\n",
      "Solved in 8 iterations and 0.01 seconds (0.00 work units)\n",
      "Optimal objective  9.420000000e+05\n"
     ]
    },
    {
     "name": "stderr",
     "output_type": "stream",
     "text": [
      "📝  Generated Solution object for prog. See .solution                        ⏱ 0.0003 s\n",
      "✅  prog optimized using gurobi. Display using .output()                     ⏱ 0.0162 s\n"
     ]
    }
   ],
   "source": [
    "p.opt()"
   ]
  }
 ],
 "metadata": {
  "kernelspec": {
   "display_name": ".venv",
   "language": "python",
   "name": "python3"
  },
  "language_info": {
   "codemirror_mode": {
    "name": "ipython",
    "version": 3
   },
   "file_extension": ".py",
   "mimetype": "text/x-python",
   "name": "python",
   "nbconvert_exporter": "python",
   "pygments_lexer": "ipython3",
   "version": "3.13.9"
  }
 },
 "nbformat": 4,
 "nbformat_minor": 2
}
