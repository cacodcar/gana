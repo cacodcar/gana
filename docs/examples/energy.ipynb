{
 "cells": [
  {
   "cell_type": "markdown",
   "metadata": {},
   "source": [
    "# Design and Scheduling (MILP)"
   ]
  },
  {
   "cell_type": "markdown",
   "metadata": {},
   "source": [
    "The primary motivation behind developing gana was to be able to write multiscale models seamlessly. \n",
    "\n",
    "Here is how you write one "
   ]
  },
  {
   "cell_type": "code",
   "execution_count": null,
   "metadata": {},
   "outputs": [],
   "source": [
    "from gana import Prg, I, V, P, inf"
   ]
  },
  {
   "cell_type": "markdown",
   "metadata": {},
   "source": [
    "## Problem Definition "
   ]
  },
  {
   "cell_type": "markdown",
   "metadata": {},
   "source": [
    "We have a solar photovoltaic array and battery. \n",
    "\n",
    "The sun shines (intermittently) and power flows. We need to meet a certain demand for power. \n",
    "\n",
    "The problem is modeled using the resource task network (RTN) methodology as proposed in Pantelides, C.C., 1994, July. Unified frameworks for optimal process planning and scheduling. In Proceedings on the second conference on foundations of computer aided operations (pp. 253-274)."
   ]
  },
  {
   "cell_type": "code",
   "execution_count": null,
   "metadata": {},
   "outputs": [],
   "source": [
    "p = Prg()\n",
    "p.y = I(size=1, tag='year')\n",
    "p.q = I(size=3, tag='three quarters')"
   ]
  },
  {
   "cell_type": "markdown",
   "metadata": {},
   "source": [
    "## Resource indices"
   ]
  },
  {
   "cell_type": "code",
   "execution_count": null,
   "metadata": {},
   "outputs": [],
   "source": [
    "p.res_cons = I('solar')\n",
    "p.res_dem = I('power')\n",
    "p.res_stg = I('charge')\n",
    "p.res = p.res_cons | p.res_dem | p.res_stg"
   ]
  },
  {
   "cell_type": "markdown",
   "metadata": {},
   "source": [
    "## Process indices "
   ]
  },
  {
   "cell_type": "code",
   "execution_count": null,
   "metadata": {},
   "outputs": [
    {
     "data": {
      "text/latex": [
       "$\\displaystyle {pro} = \\{ {pv}, {li}, {li\\_d} \\}$"
      ],
      "text/plain": [
       "<IPython.core.display.Math object>"
      ]
     },
     "metadata": {},
     "output_type": "display_data"
    }
   ],
   "source": [
    "p.pro_var = I('pv')\n",
    "p.pro_cer = I('li', 'li_d')\n",
    "p.pro = p.pro_var | p.pro_cer\n",
    "p.pro.show(True)"
   ]
  },
  {
   "cell_type": "markdown",
   "metadata": {},
   "source": [
    "## Parameters "
   ]
  },
  {
   "cell_type": "code",
   "execution_count": null,
   "metadata": {},
   "outputs": [],
   "source": [
    "p.dm_fac = P(p.power, p.q, _=[0.5, 1, 0.5], tag='demand factor (variability)')\n",
    "p.pv_fac = P(p.pv, p.q, _=[1, 0, 0.5], tag='intermittency factor for solar')\n",
    "p.demand = P(p.res_dem, p.q, _=[100] * 3, tag='nominal demand')\n",
    "p.capex = P(\n",
    "    p.pro, p.y, _=[5000, 1000, 0], tag='capital expenditure for solar processes'\n",
    ")\n",
    "p.fopex = P(p.pro, p.y, _=[500, 100, 0], tag='fixed operating expenditure')\n",
    "p.vopex = P(p.pro, p.y, _=[10, 50, 0], tag='variable operating expenditure')"
   ]
  },
  {
   "cell_type": "markdown",
   "metadata": {},
   "source": [
    "## Variables "
   ]
  },
  {
   "cell_type": "code",
   "execution_count": null,
   "metadata": {},
   "outputs": [],
   "source": [
    "p.cap_p = V(p.pro, p.y, tag='nameplate production capacity')\n",
    "p.cap_s = V(p.res_stg, p.y, tag='nameplate storage capacity')\n",
    "p.sell = V(p.res_dem, p.q, tag='amount of power sold')\n",
    "p.con = V(p.res_cons, p.q, tag='amount of solar consumed')\n",
    "p.inv = V(p.res_stg, p.q, tag='charge inventory')\n",
    "p.prod = V(p.pro, p.q, tag='production capacity utilization')\n",
    "p.ex_cap = V(p.pro, p.y, tag='capital expenditure')\n",
    "p.ex_fop = V(p.pro, p.y, tag='fixed operating expenditure')\n",
    "p.ex_vop = V(p.pro, p.y, tag='variable operating expenditure')"
   ]
  },
  {
   "cell_type": "markdown",
   "metadata": {},
   "source": [
    "## Decision Constraints "
   ]
  },
  {
   "cell_type": "markdown",
   "metadata": {},
   "source": [
    "These lend degrees of freedom to the model "
   ]
  },
  {
   "cell_type": "code",
   "execution_count": null,
   "metadata": {},
   "outputs": [],
   "source": [
    "p.con_capmax = p.cap_p(p.pro, p.y) <= 200\n",
    "p.con_capstg = p.cap_s(p.charge, p.y) <= 200\n",
    "p.con_consmax = p.con(p.res_cons, p.q) <= 200\n",
    "p.con_sell = p.sell(p.power, p.q) >= p.dm_fac(p.power, p.q) * p.demand(p.power, p.q)"
   ]
  },
  {
   "cell_type": "markdown",
   "metadata": {},
   "source": [
    "## Multiscale Decision Constraints "
   ]
  },
  {
   "cell_type": "markdown",
   "metadata": {},
   "source": [
    "Here the constraint LHS is index by quarter and the RHS by year.\n",
    "\n",
    "Thus, temporally disparate phenomena (scheduling and capacity sizing) are modeled"
   ]
  },
  {
   "cell_type": "code",
   "execution_count": null,
   "metadata": {},
   "outputs": [
    {
     "data": {
      "text/latex": [
       "$\\displaystyle [10]\\text{   }{\\mathbf{prod}}_{{pv},{{{q}_0}}} - 1.0 \\cdot {\\mathbf{cap\\_p}}_{{pv},{{{y}_0}}} \\leq 0$"
      ],
      "text/plain": [
       "<IPython.core.display.Math object>"
      ]
     },
     "metadata": {},
     "output_type": "display_data"
    },
    {
     "data": {
      "text/latex": [
       "$\\displaystyle [11]\\text{   }{\\mathbf{prod}}_{{pv},{{{q}_1}}} - 0 \\cdot {\\mathbf{cap\\_p}}_{{pv},{{{y}_0}}} \\leq 0$"
      ],
      "text/plain": [
       "<IPython.core.display.Math object>"
      ]
     },
     "metadata": {},
     "output_type": "display_data"
    },
    {
     "data": {
      "text/latex": [
       "$\\displaystyle [12]\\text{   }{\\mathbf{prod}}_{{pv},{{{q}_2}}} - 0.5 \\cdot {\\mathbf{cap\\_p}}_{{pv},{{{y}_0}}} \\leq 0$"
      ],
      "text/plain": [
       "<IPython.core.display.Math object>"
      ]
     },
     "metadata": {},
     "output_type": "display_data"
    }
   ],
   "source": [
    "p.con_pv = p.prod(p.pv, p.q) <= p.pv_fac(p.pv, p.q) * p.cap_p(p.pv, p.y)\n",
    "p.con_pv.show(True)"
   ]
  },
  {
   "cell_type": "code",
   "execution_count": null,
   "metadata": {},
   "outputs": [],
   "source": [
    "p.con_prod = p.prod(p.pro_cer, p.q) <= p.cap_p(p.pro_cer, p.y)\n",
    "p.con_inv = p.inv(p.charge, p.q) <= p.cap_s(p.charge, p.y)"
   ]
  },
  {
   "cell_type": "markdown",
   "metadata": {},
   "source": [
    "## Calculations "
   ]
  },
  {
   "cell_type": "code",
   "execution_count": null,
   "metadata": {},
   "outputs": [],
   "source": [
    "p.con_vopex = p.ex_vop(p.pro, p.y) == p.vopex(p.pro, p.y) * sum(\n",
    "    p.prod(p.pro, q) for q in p.q\n",
    ")\n",
    "p.con_capex = p.ex_cap(p.pro, p.y) == p.capex(p.pro, p.y) * p.cap_p(p.pro, p.y)\n",
    "p.con_fopex = p.ex_fop(p.pro, p.y) == p.fopex(p.pro, p.y) * p.cap_p(p.pro, p.y)"
   ]
  },
  {
   "cell_type": "markdown",
   "metadata": {},
   "source": [
    "## Balances "
   ]
  },
  {
   "cell_type": "code",
   "execution_count": null,
   "metadata": {},
   "outputs": [],
   "source": [
    "p.con_solar = p.prod(p.pv, p.q) == p.con(p.solar, p.q)\n",
    "p.con_power = (\n",
    "    sum(p.prod(i, p.q) for i in p.pro_var)\n",
    "    - p.prod(p.li, p.q)\n",
    "    + p.prod(p.li_d, p.q)\n",
    "    - p.sell(p.power, p.q)\n",
    "    == 0\n",
    ")\n",
    "p.con_charge = (\n",
    "    p.prod(p.li, p.q)\n",
    "    - p.prod(p.li_d, p.q)\n",
    "    + p.inv(p.charge, p.q - 1)\n",
    "    - p.inv(p.charge, p.q)\n",
    "    == 0\n",
    ")"
   ]
  },
  {
   "cell_type": "markdown",
   "metadata": {},
   "source": [
    "## Objective "
   ]
  },
  {
   "cell_type": "code",
   "execution_count": null,
   "metadata": {},
   "outputs": [],
   "source": [
    "p.o = inf(sum(p.ex_cap) + sum(p.ex_vop) + sum(p.ex_fop))"
   ]
  },
  {
   "cell_type": "markdown",
   "metadata": {},
   "source": [
    "## Display Program "
   ]
  },
  {
   "cell_type": "code",
   "execution_count": null,
   "metadata": {},
   "outputs": [
    {
     "data": {
      "text/markdown": [
       "# Mathematical Program for prog"
      ],
      "text/plain": [
       "<IPython.core.display.Markdown object>"
      ]
     },
     "metadata": {},
     "output_type": "display_data"
    },
    {
     "data": {
      "text/markdown": [
       "<br><br>"
      ],
      "text/plain": [
       "<IPython.core.display.Markdown object>"
      ]
     },
     "metadata": {},
     "output_type": "display_data"
    },
    {
     "data": {
      "text/markdown": [
       "## Index Sets"
      ],
      "text/plain": [
       "<IPython.core.display.Markdown object>"
      ]
     },
     "metadata": {},
     "output_type": "display_data"
    },
    {
     "data": {
      "text/latex": [
       "$\\displaystyle {y} = \\{ {{{y}_0}} \\}$"
      ],
      "text/plain": [
       "<IPython.core.display.Math object>"
      ]
     },
     "metadata": {},
     "output_type": "display_data"
    },
    {
     "data": {
      "text/latex": [
       "$\\displaystyle {q} = \\{ {{{q}_0}}, {{{q}_1}}, {{{q}_2}} \\}$"
      ],
      "text/plain": [
       "<IPython.core.display.Math object>"
      ]
     },
     "metadata": {},
     "output_type": "display_data"
    },
    {
     "data": {
      "text/latex": [
       "$\\displaystyle {res\\_cons} = \\{ {solar} \\}$"
      ],
      "text/plain": [
       "<IPython.core.display.Math object>"
      ]
     },
     "metadata": {},
     "output_type": "display_data"
    },
    {
     "data": {
      "text/latex": [
       "$\\displaystyle {res\\_dem} = \\{ {power} \\}$"
      ],
      "text/plain": [
       "<IPython.core.display.Math object>"
      ]
     },
     "metadata": {},
     "output_type": "display_data"
    },
    {
     "data": {
      "text/latex": [
       "$\\displaystyle {res\\_stg} = \\{ {charge} \\}$"
      ],
      "text/plain": [
       "<IPython.core.display.Math object>"
      ]
     },
     "metadata": {},
     "output_type": "display_data"
    },
    {
     "data": {
      "text/latex": [
       "$\\displaystyle {res} = \\{ {solar}, {power}, {charge} \\}$"
      ],
      "text/plain": [
       "<IPython.core.display.Math object>"
      ]
     },
     "metadata": {},
     "output_type": "display_data"
    },
    {
     "data": {
      "text/latex": [
       "$\\displaystyle {pro\\_var} = \\{ {pv} \\}$"
      ],
      "text/plain": [
       "<IPython.core.display.Math object>"
      ]
     },
     "metadata": {},
     "output_type": "display_data"
    },
    {
     "data": {
      "text/latex": [
       "$\\displaystyle {pro\\_cer} = \\{ {li}, {li\\_d} \\}$"
      ],
      "text/plain": [
       "<IPython.core.display.Math object>"
      ]
     },
     "metadata": {},
     "output_type": "display_data"
    },
    {
     "data": {
      "text/latex": [
       "$\\displaystyle {pro} = \\{ {pv}, {li}, {li\\_d} \\}$"
      ],
      "text/plain": [
       "<IPython.core.display.Math object>"
      ]
     },
     "metadata": {},
     "output_type": "display_data"
    },
    {
     "data": {
      "text/markdown": [
       "<br><br>"
      ],
      "text/plain": [
       "<IPython.core.display.Markdown object>"
      ]
     },
     "metadata": {},
     "output_type": "display_data"
    },
    {
     "data": {
      "text/markdown": [
       "## Objective"
      ],
      "text/plain": [
       "<IPython.core.display.Markdown object>"
      ]
     },
     "metadata": {},
     "output_type": "display_data"
    },
    {
     "data": {
      "text/latex": [
       "$\\displaystyle min \\hspace{0.2cm} {\\mathbf{ex\\_cap}}_{{pv},{{{y}_0}}} + {\\mathbf{ex\\_cap}}_{{li},{{{y}_0}}} + {\\mathbf{ex\\_cap}}_{{li\\_d},{{{y}_0}}} + {\\mathbf{ex\\_vop}}_{{pv},{{{y}_0}}} + {\\mathbf{ex\\_vop}}_{{li},{{{y}_0}}} + {\\mathbf{ex\\_vop}}_{{li\\_d},{{{y}_0}}} + {\\mathbf{ex\\_fop}}_{{pv},{{{y}_0}}} + {\\mathbf{ex\\_fop}}_{{li},{{{y}_0}}} + {\\mathbf{ex\\_fop}}_{{li\\_d},{{{y}_0}}}$"
      ],
      "text/plain": [
       "<IPython.core.display.Math object>"
      ]
     },
     "metadata": {},
     "output_type": "display_data"
    },
    {
     "data": {
      "text/markdown": [
       "<br><br>"
      ],
      "text/plain": [
       "<IPython.core.display.Markdown object>"
      ]
     },
     "metadata": {},
     "output_type": "display_data"
    },
    {
     "data": {
      "text/markdown": [
       "## s.t."
      ],
      "text/plain": [
       "<IPython.core.display.Markdown object>"
      ]
     },
     "metadata": {},
     "output_type": "display_data"
    },
    {
     "data": {
      "text/markdown": [
       "<br><br>"
      ],
      "text/plain": [
       "<IPython.core.display.Markdown object>"
      ]
     },
     "metadata": {},
     "output_type": "display_data"
    },
    {
     "data": {
      "text/markdown": [
       "## Inequality Constraints"
      ],
      "text/plain": [
       "<IPython.core.display.Markdown object>"
      ]
     },
     "metadata": {},
     "output_type": "display_data"
    },
    {
     "data": {
      "text/latex": [
       "$\\displaystyle [0]\\text{   }{\\mathbf{cap\\_p}}_{{pv},{{{y}_0}}} - 200.0 \\leq 0$"
      ],
      "text/plain": [
       "<IPython.core.display.Math object>"
      ]
     },
     "metadata": {},
     "output_type": "display_data"
    },
    {
     "data": {
      "text/latex": [
       "$\\displaystyle [1]\\text{   }{\\mathbf{cap\\_p}}_{{li},{{{y}_0}}} - 200.0 \\leq 0$"
      ],
      "text/plain": [
       "<IPython.core.display.Math object>"
      ]
     },
     "metadata": {},
     "output_type": "display_data"
    },
    {
     "data": {
      "text/latex": [
       "$\\displaystyle [2]\\text{   }{\\mathbf{cap\\_p}}_{{li\\_d},{{{y}_0}}} - 200.0 \\leq 0$"
      ],
      "text/plain": [
       "<IPython.core.display.Math object>"
      ]
     },
     "metadata": {},
     "output_type": "display_data"
    },
    {
     "data": {
      "text/latex": [
       "$\\displaystyle [3]\\text{   }{\\mathbf{cap\\_s}}_{{charge},{{{y}_0}}} - 200.0 \\leq 0$"
      ],
      "text/plain": [
       "<IPython.core.display.Math object>"
      ]
     },
     "metadata": {},
     "output_type": "display_data"
    },
    {
     "data": {
      "text/latex": [
       "$\\displaystyle [4]\\text{   }{\\mathbf{con}}_{{solar},{{{q}_0}}} - 200.0 \\leq 0$"
      ],
      "text/plain": [
       "<IPython.core.display.Math object>"
      ]
     },
     "metadata": {},
     "output_type": "display_data"
    },
    {
     "data": {
      "text/latex": [
       "$\\displaystyle [5]\\text{   }{\\mathbf{con}}_{{solar},{{{q}_1}}} - 200.0 \\leq 0$"
      ],
      "text/plain": [
       "<IPython.core.display.Math object>"
      ]
     },
     "metadata": {},
     "output_type": "display_data"
    },
    {
     "data": {
      "text/latex": [
       "$\\displaystyle [6]\\text{   }{\\mathbf{con}}_{{solar},{{{q}_2}}} - 200.0 \\leq 0$"
      ],
      "text/plain": [
       "<IPython.core.display.Math object>"
      ]
     },
     "metadata": {},
     "output_type": "display_data"
    },
    {
     "data": {
      "text/latex": [
       "$\\displaystyle [7]\\text{   }-{\\mathbf{sell}}_{{power},{{{q}_0}}} + 50.0 \\leq 0$"
      ],
      "text/plain": [
       "<IPython.core.display.Math object>"
      ]
     },
     "metadata": {},
     "output_type": "display_data"
    },
    {
     "data": {
      "text/latex": [
       "$\\displaystyle [8]\\text{   }-{\\mathbf{sell}}_{{power},{{{q}_1}}} + 100.0 \\leq 0$"
      ],
      "text/plain": [
       "<IPython.core.display.Math object>"
      ]
     },
     "metadata": {},
     "output_type": "display_data"
    },
    {
     "data": {
      "text/latex": [
       "$\\displaystyle [9]\\text{   }-{\\mathbf{sell}}_{{power},{{{q}_2}}} + 50.0 \\leq 0$"
      ],
      "text/plain": [
       "<IPython.core.display.Math object>"
      ]
     },
     "metadata": {},
     "output_type": "display_data"
    },
    {
     "data": {
      "text/latex": [
       "$\\displaystyle [10]\\text{   }{\\mathbf{prod}}_{{pv},{{{q}_0}}} - 1.0 \\cdot {\\mathbf{cap\\_p}}_{{pv},{{{y}_0}}} \\leq 0$"
      ],
      "text/plain": [
       "<IPython.core.display.Math object>"
      ]
     },
     "metadata": {},
     "output_type": "display_data"
    },
    {
     "data": {
      "text/latex": [
       "$\\displaystyle [11]\\text{   }{\\mathbf{prod}}_{{pv},{{{q}_1}}} - 0 \\cdot {\\mathbf{cap\\_p}}_{{pv},{{{y}_0}}} \\leq 0$"
      ],
      "text/plain": [
       "<IPython.core.display.Math object>"
      ]
     },
     "metadata": {},
     "output_type": "display_data"
    },
    {
     "data": {
      "text/latex": [
       "$\\displaystyle [12]\\text{   }{\\mathbf{prod}}_{{pv},{{{q}_2}}} - 0.5 \\cdot {\\mathbf{cap\\_p}}_{{pv},{{{y}_0}}} \\leq 0$"
      ],
      "text/plain": [
       "<IPython.core.display.Math object>"
      ]
     },
     "metadata": {},
     "output_type": "display_data"
    },
    {
     "data": {
      "text/latex": [
       "$\\displaystyle [13]\\text{   }{\\mathbf{prod}}_{{li},{{{q}_0}}} - {\\mathbf{cap\\_p}}_{{li},{{{y}_0}}} \\leq 0$"
      ],
      "text/plain": [
       "<IPython.core.display.Math object>"
      ]
     },
     "metadata": {},
     "output_type": "display_data"
    },
    {
     "data": {
      "text/latex": [
       "$\\displaystyle [14]\\text{   }{\\mathbf{prod}}_{{li},{{{q}_1}}} - {\\mathbf{cap\\_p}}_{{li},{{{y}_0}}} \\leq 0$"
      ],
      "text/plain": [
       "<IPython.core.display.Math object>"
      ]
     },
     "metadata": {},
     "output_type": "display_data"
    },
    {
     "data": {
      "text/latex": [
       "$\\displaystyle [15]\\text{   }{\\mathbf{prod}}_{{li},{{{q}_2}}} - {\\mathbf{cap\\_p}}_{{li},{{{y}_0}}} \\leq 0$"
      ],
      "text/plain": [
       "<IPython.core.display.Math object>"
      ]
     },
     "metadata": {},
     "output_type": "display_data"
    },
    {
     "data": {
      "text/latex": [
       "$\\displaystyle [16]\\text{   }{\\mathbf{prod}}_{{li\\_d},{{{q}_0}}} - {\\mathbf{cap\\_p}}_{{li\\_d},{{{y}_0}}} \\leq 0$"
      ],
      "text/plain": [
       "<IPython.core.display.Math object>"
      ]
     },
     "metadata": {},
     "output_type": "display_data"
    },
    {
     "data": {
      "text/latex": [
       "$\\displaystyle [17]\\text{   }{\\mathbf{prod}}_{{li\\_d},{{{q}_1}}} - {\\mathbf{cap\\_p}}_{{li\\_d},{{{y}_0}}} \\leq 0$"
      ],
      "text/plain": [
       "<IPython.core.display.Math object>"
      ]
     },
     "metadata": {},
     "output_type": "display_data"
    },
    {
     "data": {
      "text/latex": [
       "$\\displaystyle [18]\\text{   }{\\mathbf{prod}}_{{li\\_d},{{{q}_2}}} - {\\mathbf{cap\\_p}}_{{li\\_d},{{{y}_0}}} \\leq 0$"
      ],
      "text/plain": [
       "<IPython.core.display.Math object>"
      ]
     },
     "metadata": {},
     "output_type": "display_data"
    },
    {
     "data": {
      "text/latex": [
       "$\\displaystyle [19]\\text{   }{\\mathbf{inv}}_{{charge},{{{q}_0}}} - {\\mathbf{cap\\_s}}_{{charge},{{{y}_0}}} \\leq 0$"
      ],
      "text/plain": [
       "<IPython.core.display.Math object>"
      ]
     },
     "metadata": {},
     "output_type": "display_data"
    },
    {
     "data": {
      "text/latex": [
       "$\\displaystyle [20]\\text{   }{\\mathbf{inv}}_{{charge},{{{q}_1}}} - {\\mathbf{cap\\_s}}_{{charge},{{{y}_0}}} \\leq 0$"
      ],
      "text/plain": [
       "<IPython.core.display.Math object>"
      ]
     },
     "metadata": {},
     "output_type": "display_data"
    },
    {
     "data": {
      "text/latex": [
       "$\\displaystyle [21]\\text{   }{\\mathbf{inv}}_{{charge},{{{q}_2}}} - {\\mathbf{cap\\_s}}_{{charge},{{{y}_0}}} \\leq 0$"
      ],
      "text/plain": [
       "<IPython.core.display.Math object>"
      ]
     },
     "metadata": {},
     "output_type": "display_data"
    },
    {
     "data": {
      "text/markdown": [
       "<br><br>"
      ],
      "text/plain": [
       "<IPython.core.display.Markdown object>"
      ]
     },
     "metadata": {},
     "output_type": "display_data"
    },
    {
     "data": {
      "text/markdown": [
       "## Equality Constraints"
      ],
      "text/plain": [
       "<IPython.core.display.Markdown object>"
      ]
     },
     "metadata": {},
     "output_type": "display_data"
    },
    {
     "data": {
      "text/latex": [
       "$\\displaystyle [22]\\text{   }{\\mathbf{ex\\_vop}}_{{pv},{{{y}_0}}} - (10.0 \\cdot {\\mathbf{prod}}_{{pv},{{{q}_0}}} + 10.0 \\cdot {\\mathbf{prod}}_{{pv},{{{q}_1}}} + 10.0 \\cdot {\\mathbf{prod}}_{{pv},{{{q}_2}}}) = 0$"
      ],
      "text/plain": [
       "<IPython.core.display.Math object>"
      ]
     },
     "metadata": {},
     "output_type": "display_data"
    },
    {
     "data": {
      "text/latex": [
       "$\\displaystyle [23]\\text{   }{\\mathbf{ex\\_vop}}_{{li},{{{y}_0}}} - (50.0 \\cdot {\\mathbf{prod}}_{{li},{{{q}_0}}} + 50.0 \\cdot {\\mathbf{prod}}_{{li},{{{q}_1}}} + 50.0 \\cdot {\\mathbf{prod}}_{{li},{{{q}_2}}}) = 0$"
      ],
      "text/plain": [
       "<IPython.core.display.Math object>"
      ]
     },
     "metadata": {},
     "output_type": "display_data"
    },
    {
     "data": {
      "text/latex": [
       "$\\displaystyle [24]\\text{   }{\\mathbf{ex\\_vop}}_{{li\\_d},{{{y}_0}}} - (0 \\cdot {\\mathbf{prod}}_{{li\\_d},{{{q}_0}}} + 0 \\cdot {\\mathbf{prod}}_{{li\\_d},{{{q}_1}}} + 0 \\cdot {\\mathbf{prod}}_{{li\\_d},{{{q}_2}}}) = 0$"
      ],
      "text/plain": [
       "<IPython.core.display.Math object>"
      ]
     },
     "metadata": {},
     "output_type": "display_data"
    },
    {
     "data": {
      "text/latex": [
       "$\\displaystyle [25]\\text{   }{\\mathbf{ex\\_cap}}_{{pv},{{{y}_0}}} - 5000.0 \\cdot {\\mathbf{cap\\_p}}_{{pv},{{{y}_0}}} = 0$"
      ],
      "text/plain": [
       "<IPython.core.display.Math object>"
      ]
     },
     "metadata": {},
     "output_type": "display_data"
    },
    {
     "data": {
      "text/latex": [
       "$\\displaystyle [26]\\text{   }{\\mathbf{ex\\_cap}}_{{li},{{{y}_0}}} - 1000.0 \\cdot {\\mathbf{cap\\_p}}_{{li},{{{y}_0}}} = 0$"
      ],
      "text/plain": [
       "<IPython.core.display.Math object>"
      ]
     },
     "metadata": {},
     "output_type": "display_data"
    },
    {
     "data": {
      "text/latex": [
       "$\\displaystyle [27]\\text{   }{\\mathbf{ex\\_cap}}_{{li\\_d},{{{y}_0}}} - 0 \\cdot {\\mathbf{cap\\_p}}_{{li\\_d},{{{y}_0}}} = 0$"
      ],
      "text/plain": [
       "<IPython.core.display.Math object>"
      ]
     },
     "metadata": {},
     "output_type": "display_data"
    },
    {
     "data": {
      "text/latex": [
       "$\\displaystyle [28]\\text{   }{\\mathbf{ex\\_fop}}_{{pv},{{{y}_0}}} - 500.0 \\cdot {\\mathbf{cap\\_p}}_{{pv},{{{y}_0}}} = 0$"
      ],
      "text/plain": [
       "<IPython.core.display.Math object>"
      ]
     },
     "metadata": {},
     "output_type": "display_data"
    },
    {
     "data": {
      "text/latex": [
       "$\\displaystyle [29]\\text{   }{\\mathbf{ex\\_fop}}_{{li},{{{y}_0}}} - 100.0 \\cdot {\\mathbf{cap\\_p}}_{{li},{{{y}_0}}} = 0$"
      ],
      "text/plain": [
       "<IPython.core.display.Math object>"
      ]
     },
     "metadata": {},
     "output_type": "display_data"
    },
    {
     "data": {
      "text/latex": [
       "$\\displaystyle [30]\\text{   }{\\mathbf{ex\\_fop}}_{{li\\_d},{{{y}_0}}} - 0 \\cdot {\\mathbf{cap\\_p}}_{{li\\_d},{{{y}_0}}} = 0$"
      ],
      "text/plain": [
       "<IPython.core.display.Math object>"
      ]
     },
     "metadata": {},
     "output_type": "display_data"
    },
    {
     "data": {
      "text/latex": [
       "$\\displaystyle [31]\\text{   }{\\mathbf{prod}}_{{pv},{{{q}_0}}} - {\\mathbf{con}}_{{solar},{{{q}_0}}} = 0$"
      ],
      "text/plain": [
       "<IPython.core.display.Math object>"
      ]
     },
     "metadata": {},
     "output_type": "display_data"
    },
    {
     "data": {
      "text/latex": [
       "$\\displaystyle [32]\\text{   }{\\mathbf{prod}}_{{pv},{{{q}_1}}} - {\\mathbf{con}}_{{solar},{{{q}_1}}} = 0$"
      ],
      "text/plain": [
       "<IPython.core.display.Math object>"
      ]
     },
     "metadata": {},
     "output_type": "display_data"
    },
    {
     "data": {
      "text/latex": [
       "$\\displaystyle [33]\\text{   }{\\mathbf{prod}}_{{pv},{{{q}_2}}} - {\\mathbf{con}}_{{solar},{{{q}_2}}} = 0$"
      ],
      "text/plain": [
       "<IPython.core.display.Math object>"
      ]
     },
     "metadata": {},
     "output_type": "display_data"
    },
    {
     "data": {
      "text/latex": [
       "$\\displaystyle [34]\\text{   }{\\mathbf{prod}}_{{pv},{{{q}_0}}} - {\\mathbf{prod}}_{{li},{{{q}_0}}} + {\\mathbf{prod}}_{{li\\_d},{{{q}_0}}} - {\\mathbf{sell}}_{{power},{{{q}_0}}} = 0$"
      ],
      "text/plain": [
       "<IPython.core.display.Math object>"
      ]
     },
     "metadata": {},
     "output_type": "display_data"
    },
    {
     "data": {
      "text/latex": [
       "$\\displaystyle [35]\\text{   }{\\mathbf{prod}}_{{pv},{{{q}_1}}} - {\\mathbf{prod}}_{{li},{{{q}_1}}} + {\\mathbf{prod}}_{{li\\_d},{{{q}_1}}} - {\\mathbf{sell}}_{{power},{{{q}_1}}} = 0$"
      ],
      "text/plain": [
       "<IPython.core.display.Math object>"
      ]
     },
     "metadata": {},
     "output_type": "display_data"
    },
    {
     "data": {
      "text/latex": [
       "$\\displaystyle [36]\\text{   }{\\mathbf{prod}}_{{pv},{{{q}_2}}} - {\\mathbf{prod}}_{{li},{{{q}_2}}} + {\\mathbf{prod}}_{{li\\_d},{{{q}_2}}} - {\\mathbf{sell}}_{{power},{{{q}_2}}} = 0$"
      ],
      "text/plain": [
       "<IPython.core.display.Math object>"
      ]
     },
     "metadata": {},
     "output_type": "display_data"
    },
    {
     "data": {
      "text/latex": [
       "$\\displaystyle [37]\\text{   }{\\mathbf{prod}}_{{li},{{{q}_0}}} - {\\mathbf{prod}}_{{li\\_d},{{{q}_0}}} - {\\mathbf{inv}}_{{charge},{{{q}_0}}} = 0$"
      ],
      "text/plain": [
       "<IPython.core.display.Math object>"
      ]
     },
     "metadata": {},
     "output_type": "display_data"
    },
    {
     "data": {
      "text/latex": [
       "$\\displaystyle [38]\\text{   }{\\mathbf{prod}}_{{li},{{{q}_1}}} - {\\mathbf{prod}}_{{li\\_d},{{{q}_1}}} + {\\mathbf{inv}}_{{charge},{{{q}_0}}} - {\\mathbf{inv}}_{{charge},{{{q}_1}}} = 0$"
      ],
      "text/plain": [
       "<IPython.core.display.Math object>"
      ]
     },
     "metadata": {},
     "output_type": "display_data"
    },
    {
     "data": {
      "text/latex": [
       "$\\displaystyle [39]\\text{   }{\\mathbf{prod}}_{{li},{{{q}_2}}} - {\\mathbf{prod}}_{{li\\_d},{{{q}_2}}} + {\\mathbf{inv}}_{{charge},{{{q}_1}}} - {\\mathbf{inv}}_{{charge},{{{q}_2}}} = 0$"
      ],
      "text/plain": [
       "<IPython.core.display.Math object>"
      ]
     },
     "metadata": {},
     "output_type": "display_data"
    }
   ],
   "source": [
    "p.show(True)"
   ]
  },
  {
   "cell_type": "markdown",
   "metadata": {},
   "source": [
    "## Solution"
   ]
  },
  {
   "cell_type": "code",
   "execution_count": null,
   "metadata": {},
   "outputs": [
    {
     "name": "stderr",
     "output_type": "stream",
     "text": [
      "📝  Generated prog.mps                                                       ⏱ 0.0055 s\n"
     ]
    },
    {
     "name": "stdout",
     "output_type": "stream",
     "text": [
      "Set parameter Username\n",
      "Academic license - for non-commercial use only - expires 2025-12-16\n",
      "Read MPS format model from file prog.mps\n",
      "Reading time = 0.00 seconds\n",
      "PROG: 40 rows, 31 columns, 81 nonzeros\n"
     ]
    },
    {
     "name": "stderr",
     "output_type": "stream",
     "text": [
      "📝  Generated gurobipy model. See .formulation                               ⏱ 0.0416 s\n"
     ]
    },
    {
     "name": "stdout",
     "output_type": "stream",
     "text": [
      "Gurobi Optimizer version 12.0.3 build v12.0.3rc0 (mac64[x86] - Darwin 21.6.0 21H1320)\n",
      "\n",
      "CPU model: Intel(R) Core(TM) i7-6567U CPU @ 3.30GHz\n",
      "Thread count: 2 physical cores, 4 logical processors, using up to 4 threads\n",
      "\n",
      "Optimize a model with 40 rows, 31 columns and 81 nonzeros\n",
      "Model fingerprint: 0x1ce81a32\n",
      "Coefficient statistics:\n",
      "  Matrix range     [5e-01, 5e+03]\n",
      "  Objective range  [1e+00, 1e+00]\n",
      "  Bounds range     [0e+00, 0e+00]\n",
      "  RHS range        [5e+01, 2e+02]\n",
      "Presolve removed 30 rows and 20 columns\n",
      "Presolve time: 0.01s\n",
      "Presolved: 10 rows, 11 columns, 25 nonzeros\n",
      "\n",
      "Iteration    Objective       Primal Inf.    Dual Inf.      Time\n",
      "       0    4.9949000e+02   3.748738e+01   0.000000e+00      0s\n",
      "       8    9.4200000e+05   0.000000e+00   0.000000e+00      0s\n",
      "\n",
      "Solved in 8 iterations and 0.02 seconds (0.00 work units)\n",
      "Optimal objective  9.420000000e+05\n"
     ]
    },
    {
     "name": "stderr",
     "output_type": "stream",
     "text": [
      "📝  Generated Solution object for prog. See .solution                        ⏱ 0.0006 s\n",
      "✅  prog optimized using gurobi. Display using .output()                     ⏱ 0.1078 s\n"
     ]
    }
   ],
   "source": [
    "p.opt()"
   ]
  },
  {
   "cell_type": "code",
   "execution_count": null,
   "metadata": {},
   "outputs": [],
   "source": []
  }
 ],
 "metadata": {
  "kernelspec": {
   "display_name": ".venv",
   "language": "python",
   "name": "python3"
  },
  "language_info": {
   "codemirror_mode": {
    "name": "ipython",
    "version": 3
   },
   "file_extension": ".py",
   "mimetype": "text/x-python",
   "name": "python",
   "nbconvert_exporter": "python",
   "pygments_lexer": "ipython3",
   "version": "3.13.7"
  }
 },
 "nbformat": 4,
 "nbformat_minor": 2
}
