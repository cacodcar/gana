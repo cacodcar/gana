{
 "cells": [
  {
   "cell_type": "markdown",
   "id": "63e428d2",
   "metadata": {},
   "source": [
    "# Machine Scheduling (LP)\n",
    "\n",
    "This [example](https://people.brunel.ac.uk/~mastjjb/jeb/or/morelp.html) is taken from Prof. J. E. Beasley's [OR Notes](https://people.brunel.ac.uk/~mastjjb/jeb/or/contents.html) "
   ]
  },
  {
   "cell_type": "markdown",
   "id": "3b71349e",
   "metadata": {},
   "source": [
    "## Problem Statement\n",
    "\n",
    "A company makes two products (X and Y) using two machines (A and B). The objective is to maximize total inventory (stock) at the end of the week, given the following conditions:\n",
    "\n",
    "**Machining Time (in minutes)**\n",
    "\n",
    "| Product ↓ / Machine →  | A  | B  |\n",
    "|------------------------|----|----|\n",
    "| X                      | 50 | 30 |\n",
    "| Y                      | 24 | 33 |\n",
    "\n",
    "**Initial Inventory and Demand (in units)**\n",
    "\n",
    "| Product ↓   | Stock |Demand |\n",
    "|-------------|-------|-------|\n",
    "| X           | 30    | 75    |\n",
    "| Y           | 90    | 95    |\n",
    "\n",
    "**Available Machine Time (in hours)**\n",
    "\n",
    "| Machine ↓   | Time  |\n",
    "|-------------|-------|\n",
    "| A           | 40    |\n",
    "| B           | 35    |\n"
   ]
  },
  {
   "cell_type": "markdown",
   "id": "40100814",
   "metadata": {},
   "source": [
    "## Initiate Elements\n",
    "\n",
    "First, declare the program"
   ]
  },
  {
   "cell_type": "code",
   "execution_count": 1,
   "id": "f596cab8",
   "metadata": {},
   "outputs": [],
   "source": [
    "from gana import Prg, I, V, P, sup\n",
    "\n",
    "p = Prg()"
   ]
  },
  {
   "cell_type": "markdown",
   "id": "efdcd762",
   "metadata": {},
   "source": [
    "We will need two index sets (```I```): machines and products.\n",
    "\n",
    "Note that A, B, X are reserved terms for generated matrices. So we are using lowercase for this example. "
   ]
  },
  {
   "cell_type": "code",
   "execution_count": 2,
   "id": "177ea7f4",
   "metadata": {},
   "outputs": [],
   "source": [
    "p.machines = I('a', 'b')\n",
    "p.products = I('x', 'y')"
   ]
  },
  {
   "cell_type": "markdown",
   "id": "27670772",
   "metadata": {},
   "source": [
    "Collections of elements, as opposed to ordered sets declared using I(size = n), set each element as a program attribute.\n",
    "Elements can also belong to multiple collection index sets. Refer to the 'Indices' tutorial for more information."
   ]
  },
  {
   "cell_type": "code",
   "execution_count": 3,
   "id": "302a384c",
   "metadata": {},
   "outputs": [
    {
     "data": {
      "text/plain": [
       "(a, [machines])"
      ]
     },
     "execution_count": 3,
     "metadata": {},
     "output_type": "execute_result"
    }
   ],
   "source": [
    "p.a, p.a.parent"
   ]
  },
  {
   "cell_type": "markdown",
   "id": "9850701d",
   "metadata": {},
   "source": [
    "The only variables we is production, indexed for each product. \n",
    "Unless explicitly specified, variables are non-negative and continuous, i.e. \n",
    "\n",
    "$v \\in \\mathbb{R}_{\\geq 0}$"
   ]
  },
  {
   "cell_type": "code",
   "execution_count": 4,
   "id": "796a804b",
   "metadata": {},
   "outputs": [],
   "source": [
    "p.prod = V(p.products, tag='Production (units)')"
   ]
  },
  {
   "cell_type": "markdown",
   "id": "4d226d51",
   "metadata": {},
   "source": [
    "Using parameter (```P```) objects is optional. They do look better when printing complex programs.\n",
    "\n",
    "Otherwise, Gana elements can be multiplied by lists or numbers directly"
   ]
  },
  {
   "cell_type": "code",
   "execution_count": 5,
   "id": "ec31a7d5",
   "metadata": {},
   "outputs": [],
   "source": [
    "p.time = P(p.machines, p.products, _=[50, 24, 30, 33], tag='Processing time (minutes)')\n",
    "p.tmax = P(p.machines, _=[40 * 60, 35 * 60], tag='Forecasted availability(minutes)')\n",
    "p.demand = P(p.products, _=[75, 95], tag='Forecasted demand (units)')\n",
    "p.stock = P(p.products, _=[30, 90], tag='Initial stock (units)')"
   ]
  },
  {
   "cell_type": "markdown",
   "id": "56dad201",
   "metadata": {},
   "source": [
    "```.map``` for any element will reveal the mapping between indices and child elements"
   ]
  },
  {
   "cell_type": "code",
   "execution_count": 6,
   "id": "a65292e4",
   "metadata": {},
   "outputs": [
    {
     "data": {
      "text/plain": [
       "{(a, x): 50.0, (a, y): 24.0, (b, x): 30.0, (b, y): 33.0}"
      ]
     },
     "execution_count": 6,
     "metadata": {},
     "output_type": "execute_result"
    }
   ],
   "source": [
    "p.time.map"
   ]
  },
  {
   "cell_type": "markdown",
   "id": "cb5589c2",
   "metadata": {},
   "source": [
    "## Writing Constraints"
   ]
  },
  {
   "cell_type": "markdown",
   "id": "9fdb912a",
   "metadata": {},
   "source": [
    "Constraints can be writtent for: \n",
    "\n",
    "1. Providing an upper bound on time used for each machine\n",
    "\n",
    "Gana elements are generally illustrated using ```.show()```"
   ]
  },
  {
   "cell_type": "code",
   "execution_count": 7,
   "id": "1f5a93fb",
   "metadata": {},
   "outputs": [
    {
     "data": {
      "text/latex": [
       "$\\displaystyle [0]\\text{   }{{time}}_{machines, x} \\cdot {{{prod}}}_{x} + {{time}}_{machines, y} \\cdot {{{prod}}}_{y} - {tmax}_{machines} \\leq 0$"
      ],
      "text/plain": [
       "<IPython.core.display.Math object>"
      ]
     },
     "metadata": {},
     "output_type": "display_data"
    }
   ],
   "source": [
    "p.time_ub = (\n",
    "    sum(p.time(p.machines, product) * p.prod(product) for product in p.products)\n",
    "    <= p.tmax\n",
    ")\n",
    "p.time_ub.show()"
   ]
  },
  {
   "cell_type": "markdown",
   "id": "0cf982c6",
   "metadata": {},
   "source": [
    "2. Ensuring that demand is met\n",
    "\n",
    "```.show(True)``` will illustrate the element at every index"
   ]
  },
  {
   "cell_type": "code",
   "execution_count": 8,
   "id": "8809f55a",
   "metadata": {},
   "outputs": [
    {
     "data": {
      "text/latex": [
       "$\\displaystyle [2]\\text{   }-{{prod}}_{x} + 45.0 \\leq 0$"
      ],
      "text/plain": [
       "<IPython.core.display.Math object>"
      ]
     },
     "metadata": {},
     "output_type": "display_data"
    },
    {
     "data": {
      "text/latex": [
       "$\\displaystyle [3]\\text{   }-{{prod}}_{y} + 5.0 \\leq 0$"
      ],
      "text/plain": [
       "<IPython.core.display.Math object>"
      ]
     },
     "metadata": {},
     "output_type": "display_data"
    }
   ],
   "source": [
    "p.demand_lb = p.prod >= p.demand - p.stock\n",
    "p.demand_lb.show(True)"
   ]
  },
  {
   "cell_type": "markdown",
   "id": "5aca1cb0",
   "metadata": {},
   "source": [
    "## Setting the Objective(s)"
   ]
  },
  {
   "cell_type": "markdown",
   "id": "fd5f00ab",
   "metadata": {},
   "source": [
    "The objective is to maximize the sum of all products (A and B) in stock at the end of the week"
   ]
  },
  {
   "cell_type": "code",
   "execution_count": 9,
   "id": "2eeea4d6",
   "metadata": {},
   "outputs": [],
   "source": [
    "p.max_stock = sup(sum(p.prod) + sum(p.stock) - sum(p.demand))"
   ]
  },
  {
   "cell_type": "markdown",
   "id": "af79677d",
   "metadata": {},
   "source": [
    "## Illustrating the Program"
   ]
  },
  {
   "cell_type": "code",
   "execution_count": 10,
   "id": "22857ea0",
   "metadata": {},
   "outputs": [
    {
     "data": {
      "text/markdown": [
       "# Mathematical Program for prog"
      ],
      "text/plain": [
       "<IPython.core.display.Markdown object>"
      ]
     },
     "metadata": {},
     "output_type": "display_data"
    },
    {
     "data": {
      "text/markdown": [
       "<br><br>"
      ],
      "text/plain": [
       "<IPython.core.display.Markdown object>"
      ]
     },
     "metadata": {},
     "output_type": "display_data"
    },
    {
     "data": {
      "text/markdown": [
       "## Index Sets"
      ],
      "text/plain": [
       "<IPython.core.display.Markdown object>"
      ]
     },
     "metadata": {},
     "output_type": "display_data"
    },
    {
     "data": {
      "text/latex": [
       "$\\displaystyle machines = \\{ a, b \\}$"
      ],
      "text/plain": [
       "<IPython.core.display.Math object>"
      ]
     },
     "metadata": {},
     "output_type": "display_data"
    },
    {
     "data": {
      "text/latex": [
       "$\\displaystyle products = \\{ x, y \\}$"
      ],
      "text/plain": [
       "<IPython.core.display.Math object>"
      ]
     },
     "metadata": {},
     "output_type": "display_data"
    },
    {
     "data": {
      "text/markdown": [
       "<br><br>"
      ],
      "text/plain": [
       "<IPython.core.display.Markdown object>"
      ]
     },
     "metadata": {},
     "output_type": "display_data"
    },
    {
     "data": {
      "text/markdown": [
       "## Objective"
      ],
      "text/plain": [
       "<IPython.core.display.Markdown object>"
      ]
     },
     "metadata": {},
     "output_type": "display_data"
    },
    {
     "data": {
      "text/latex": [
       "$\\displaystyle min \\hspace{0.2cm} -{{prod}}_{x} - {{prod}}_{y} + 50.0$"
      ],
      "text/plain": [
       "<IPython.core.display.Math object>"
      ]
     },
     "metadata": {},
     "output_type": "display_data"
    },
    {
     "data": {
      "text/markdown": [
       "<br><br>"
      ],
      "text/plain": [
       "<IPython.core.display.Markdown object>"
      ]
     },
     "metadata": {},
     "output_type": "display_data"
    },
    {
     "data": {
      "text/markdown": [
       "## s.t."
      ],
      "text/plain": [
       "<IPython.core.display.Markdown object>"
      ]
     },
     "metadata": {},
     "output_type": "display_data"
    },
    {
     "data": {
      "text/markdown": [
       "<br><br>"
      ],
      "text/plain": [
       "<IPython.core.display.Markdown object>"
      ]
     },
     "metadata": {},
     "output_type": "display_data"
    },
    {
     "data": {
      "text/markdown": [
       "## Inequality Constraints"
      ],
      "text/plain": [
       "<IPython.core.display.Markdown object>"
      ]
     },
     "metadata": {},
     "output_type": "display_data"
    },
    {
     "data": {
      "text/latex": [
       "$\\displaystyle [0]\\text{   }50.0 \\cdot {{prod}}_{x} + 24.0 \\cdot {{prod}}_{y} - 2400.0 \\leq 0$"
      ],
      "text/plain": [
       "<IPython.core.display.Math object>"
      ]
     },
     "metadata": {},
     "output_type": "display_data"
    },
    {
     "data": {
      "text/latex": [
       "$\\displaystyle [1]\\text{   }30.0 \\cdot {{prod}}_{x} + 33.0 \\cdot {{prod}}_{y} - 2100.0 \\leq 0$"
      ],
      "text/plain": [
       "<IPython.core.display.Math object>"
      ]
     },
     "metadata": {},
     "output_type": "display_data"
    },
    {
     "data": {
      "text/latex": [
       "$\\displaystyle [2]\\text{   }-{{prod}}_{x} + 45.0 \\leq 0$"
      ],
      "text/plain": [
       "<IPython.core.display.Math object>"
      ]
     },
     "metadata": {},
     "output_type": "display_data"
    },
    {
     "data": {
      "text/latex": [
       "$\\displaystyle [3]\\text{   }-{{prod}}_{y} + 5.0 \\leq 0$"
      ],
      "text/plain": [
       "<IPython.core.display.Math object>"
      ]
     },
     "metadata": {},
     "output_type": "display_data"
    },
    {
     "data": {
      "text/plain": [
       "prog"
      ]
     },
     "execution_count": 10,
     "metadata": {},
     "output_type": "execute_result"
    }
   ],
   "source": [
    "p.show(True)"
   ]
  },
  {
   "cell_type": "markdown",
   "id": "5d2c0a84",
   "metadata": {},
   "source": [
    "## Optimizing the Program\n",
    "\n",
    "For mixed integer programs (MIP), [Gurobi](https://www.gurobi.com/) is the default solver.\n",
    "\n",
    "```using``` can be used to specify a solver otherwise. Note that a .mps file is generated irrespective"
   ]
  },
  {
   "cell_type": "code",
   "execution_count": 11,
   "id": "55aa6596",
   "metadata": {},
   "outputs": [
    {
     "name": "stderr",
     "output_type": "stream",
     "text": [
      "2025-10-22 16:50:18,908 [INFO] Generating prog.mps\n",
      "2025-10-22 16:50:18,909 [INFO] Creating gurobi model for prog\n"
     ]
    },
    {
     "name": "stdout",
     "output_type": "stream",
     "text": [
      "Set parameter Username\n",
      "Academic license - for non-commercial use only - expires 2026-08-01\n",
      "Read MPS format model from file prog.mps\n",
      "Reading time = 0.00 seconds\n",
      "PROG: 4 rows, 2 columns, 6 nonzeros\n"
     ]
    },
    {
     "name": "stderr",
     "output_type": "stream",
     "text": [
      "2025-10-22 16:50:18,914 [INFO] Optimizing prog using gurobi\n"
     ]
    },
    {
     "name": "stdout",
     "output_type": "stream",
     "text": [
      "Gurobi Optimizer version 12.0.3 build v12.0.3rc0 (win64 - Windows 11.0 (26100.2))\n",
      "\n",
      "CPU model: 13th Gen Intel(R) Core(TM) i7-13700, instruction set [SSE2|AVX|AVX2]\n",
      "Thread count: 16 physical cores, 24 logical processors, using up to 24 threads\n",
      "\n",
      "Optimize a model with 4 rows, 2 columns and 6 nonzeros\n",
      "Model fingerprint: 0xf7b401e1\n",
      "Coefficient statistics:\n",
      "  Matrix range     [1e+00, 5e+01]\n",
      "  Objective range  [1e+00, 1e+00]\n",
      "  Bounds range     [0e+00, 0e+00]\n",
      "  RHS range        [5e+00, 2e+03]\n",
      "Presolve removed 4 rows and 2 columns\n",
      "Presolve time: 0.00s\n",
      "Presolve: All rows and columns removed\n",
      "Iteration    Objective       Primal Inf.    Dual Inf.      Time\n",
      "       0   -5.1250000e+01   0.000000e+00   0.000000e+00      0s\n",
      "\n",
      "Solved in 0 iterations and 0.00 seconds (0.00 work units)\n",
      "Optimal objective -5.125000000e+01\n"
     ]
    },
    {
     "name": "stderr",
     "output_type": "stream",
     "text": [
      "2025-10-22 16:50:18,919 [INFO] Solution found. Use .output() to display it\n",
      "2025-10-22 16:50:18,919 [INFO] Creating Solution object, check.solution\n"
     ]
    }
   ],
   "source": [
    "p.opt()"
   ]
  },
  {
   "cell_type": "markdown",
   "id": "72f9dbce",
   "metadata": {},
   "source": [
    "## Illustrating the Solution\n",
    "\n",
    "The overall solution can be viewed"
   ]
  },
  {
   "cell_type": "code",
   "execution_count": 12,
   "id": "d81a0ef4",
   "metadata": {},
   "outputs": [
    {
     "data": {
      "text/markdown": [
       "# Solution for prog"
      ],
      "text/plain": [
       "<IPython.core.display.Markdown object>"
      ]
     },
     "metadata": {},
     "output_type": "display_data"
    },
    {
     "data": {
      "text/markdown": [
       "<br><br>"
      ],
      "text/plain": [
       "<IPython.core.display.Markdown object>"
      ]
     },
     "metadata": {},
     "output_type": "display_data"
    },
    {
     "data": {
      "text/markdown": [
       "## Objective"
      ],
      "text/plain": [
       "<IPython.core.display.Markdown object>"
      ]
     },
     "metadata": {},
     "output_type": "display_data"
    },
    {
     "data": {
      "text/latex": [
       "$\\displaystyle min \\hspace{0.2cm} -{{prod}}_{x} - {{prod}}_{y} + 50.0=-51.25$"
      ],
      "text/plain": [
       "<IPython.core.display.Math object>"
      ]
     },
     "metadata": {},
     "output_type": "display_data"
    },
    {
     "data": {
      "text/markdown": [
       "<br><br>"
      ],
      "text/plain": [
       "<IPython.core.display.Markdown object>"
      ]
     },
     "metadata": {},
     "output_type": "display_data"
    },
    {
     "data": {
      "text/markdown": [
       "## Variables"
      ],
      "text/plain": [
       "<IPython.core.display.Markdown object>"
      ]
     },
     "metadata": {},
     "output_type": "display_data"
    },
    {
     "data": {
      "text/latex": [
       "$\\displaystyle {{prod}}_{x}=45.0$"
      ],
      "text/plain": [
       "<IPython.core.display.Math object>"
      ]
     },
     "metadata": {},
     "output_type": "display_data"
    },
    {
     "data": {
      "text/latex": [
       "$\\displaystyle {{prod}}_{y}=6.25$"
      ],
      "text/plain": [
       "<IPython.core.display.Math object>"
      ]
     },
     "metadata": {},
     "output_type": "display_data"
    }
   ],
   "source": [
    "p.output()"
   ]
  },
  {
   "cell_type": "markdown",
   "id": "8f9c989c",
   "metadata": {},
   "source": [
    "Solutions do each element can be viewed as well."
   ]
  },
  {
   "cell_type": "code",
   "execution_count": 13,
   "id": "6d08363c",
   "metadata": {},
   "outputs": [
    {
     "data": {
      "text/latex": [
       "$\\displaystyle {{prod}}_{x}=45.0$"
      ],
      "text/plain": [
       "<IPython.core.display.Math object>"
      ]
     },
     "metadata": {},
     "output_type": "display_data"
    },
    {
     "data": {
      "text/latex": [
       "$\\displaystyle {{prod}}_{y}=6.25$"
      ],
      "text/plain": [
       "<IPython.core.display.Math object>"
      ]
     },
     "metadata": {},
     "output_type": "display_data"
    }
   ],
   "source": [
    "p.prod.output()"
   ]
  },
  {
   "cell_type": "markdown",
   "id": "c6e38e9b",
   "metadata": {},
   "source": [
    "```.output(aslist = True)``` will provide values as a list "
   ]
  },
  {
   "cell_type": "code",
   "execution_count": 14,
   "id": "fd82c7da",
   "metadata": {},
   "outputs": [
    {
     "data": {
      "text/plain": [
       "[45.0, 6.25]"
      ]
     },
     "execution_count": 14,
     "metadata": {},
     "output_type": "execute_result"
    }
   ],
   "source": [
    "p.prod.output(aslist=True)"
   ]
  },
  {
   "cell_type": "markdown",
   "id": "357300fe",
   "metadata": {},
   "source": [
    "```.output(asdict = True)``` will provide values as mapped to indices "
   ]
  },
  {
   "cell_type": "code",
   "execution_count": 15,
   "id": "9b7fc3f5",
   "metadata": {},
   "outputs": [
    {
     "data": {
      "text/plain": [
       "{(x,): 45.0, (y,): 6.25}"
      ]
     },
     "execution_count": 15,
     "metadata": {},
     "output_type": "execute_result"
    }
   ],
   "source": [
    "p.prod.output(asdict=True)"
   ]
  }
 ],
 "metadata": {
  "kernelspec": {
   "display_name": ".venv",
   "language": "python",
   "name": "python3"
  },
  "language_info": {
   "codemirror_mode": {
    "name": "ipython",
    "version": 3
   },
   "file_extension": ".py",
   "mimetype": "text/x-python",
   "name": "python",
   "nbconvert_exporter": "python",
   "pygments_lexer": "ipython3",
   "version": "3.13.9"
  }
 },
 "nbformat": 4,
 "nbformat_minor": 5
}
