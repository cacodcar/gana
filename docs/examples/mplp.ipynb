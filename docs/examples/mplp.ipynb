{
 "cells": [
  {
   "cell_type": "markdown",
   "id": "370af766",
   "metadata": {},
   "source": [
    "# mpLP Example\n",
    "\n",
    "This is an multiparametric Linear Programming example.\n",
    "\n",
    "The example shown is from the documentation for the general purpose multiparametric solver [PPOPT](https://ppopt.readthedocs.io/en/latest/mplp_tut.html)"
   ]
  },
  {
   "cell_type": "markdown",
   "id": "4fb1ad46",
   "metadata": {},
   "source": [
    "## Write the Model"
   ]
  },
  {
   "cell_type": "code",
   "execution_count": 5,
   "id": "e0eaf420",
   "metadata": {},
   "outputs": [
    {
     "data": {
      "text/markdown": [
       "# Mathematical Program for prog"
      ],
      "text/plain": [
       "<IPython.core.display.Markdown object>"
      ]
     },
     "metadata": {},
     "output_type": "display_data"
    },
    {
     "data": {
      "text/markdown": [
       "<br><br>"
      ],
      "text/plain": [
       "<IPython.core.display.Markdown object>"
      ]
     },
     "metadata": {},
     "output_type": "display_data"
    },
    {
     "data": {
      "text/markdown": [
       "## Index Sets"
      ],
      "text/plain": [
       "<IPython.core.display.Markdown object>"
      ]
     },
     "metadata": {},
     "output_type": "display_data"
    },
    {
     "data": {
      "text/latex": [
       "$\\displaystyle i = \\{ {i_{0}}, {i_{1}}, {i_{2}}, {i_{3}} \\}$"
      ],
      "text/plain": [
       "<IPython.core.display.Math object>"
      ]
     },
     "metadata": {},
     "output_type": "display_data"
    },
    {
     "data": {
      "text/latex": [
       "$\\displaystyle j = \\{ {j_{0}}, {j_{1}} \\}$"
      ],
      "text/plain": [
       "<IPython.core.display.Math object>"
      ]
     },
     "metadata": {},
     "output_type": "display_data"
    },
    {
     "data": {
      "text/markdown": [
       "<br><br>"
      ],
      "text/plain": [
       "<IPython.core.display.Markdown object>"
      ]
     },
     "metadata": {},
     "output_type": "display_data"
    },
    {
     "data": {
      "text/markdown": [
       "## Objective"
      ],
      "text/plain": [
       "<IPython.core.display.Markdown object>"
      ]
     },
     "metadata": {},
     "output_type": "display_data"
    },
    {
     "data": {
      "text/latex": [
       "$\\displaystyle min \\hspace{0.2cm} 178.0 \\cdot {{x}}_{i{0}} + 187.0 \\cdot {{x}}_{i{1}} + 187.0 \\cdot {{x}}_{i{2}} + 151.0 \\cdot {{x}}_{i{3}}$"
      ],
      "text/plain": [
       "<IPython.core.display.Math object>"
      ]
     },
     "metadata": {},
     "output_type": "display_data"
    },
    {
     "data": {
      "text/markdown": [
       "<br><br>"
      ],
      "text/plain": [
       "<IPython.core.display.Markdown object>"
      ]
     },
     "metadata": {},
     "output_type": "display_data"
    },
    {
     "data": {
      "text/markdown": [
       "## s.t."
      ],
      "text/plain": [
       "<IPython.core.display.Markdown object>"
      ]
     },
     "metadata": {},
     "output_type": "display_data"
    },
    {
     "data": {
      "text/markdown": [
       "<br><br>"
      ],
      "text/plain": [
       "<IPython.core.display.Markdown object>"
      ]
     },
     "metadata": {},
     "output_type": "display_data"
    },
    {
     "data": {
      "text/markdown": [
       "### Inequality Constraint Sets"
      ],
      "text/plain": [
       "<IPython.core.display.Markdown object>"
      ]
     },
     "metadata": {},
     "output_type": "display_data"
    },
    {
     "data": {
      "text/latex": [
       "$\\displaystyle [0]\\text{   }{{{x}}}_{i{0}} + {{{x}}}_{i{1}} - 350 \\leq 0$"
      ],
      "text/plain": [
       "<IPython.core.display.Math object>"
      ]
     },
     "metadata": {},
     "output_type": "display_data"
    },
    {
     "data": {
      "text/latex": [
       "$\\displaystyle [1]\\text{   }{{{x}}}_{i{2}} + {{{x}}}_{i{3}} - 600 \\leq 0$"
      ],
      "text/plain": [
       "<IPython.core.display.Math object>"
      ]
     },
     "metadata": {},
     "output_type": "display_data"
    },
    {
     "data": {
      "text/latex": [
       "$\\displaystyle [2]\\text{   }-{{{{x}}}}_{i{0}} - {{{{x}}}}_{i{2}} + {{t}}_{j{0}} \\leq 0$"
      ],
      "text/plain": [
       "<IPython.core.display.Math object>"
      ]
     },
     "metadata": {},
     "output_type": "display_data"
    },
    {
     "data": {
      "text/latex": [
       "$\\displaystyle [3]\\text{   }-{{{{x}}}}_{i{1}} - {{{{x}}}}_{i{3}} + {{t}}_{j{1}} \\leq 0$"
      ],
      "text/plain": [
       "<IPython.core.display.Math object>"
      ]
     },
     "metadata": {},
     "output_type": "display_data"
    },
    {
     "data": {
      "text/markdown": [
       "<br><br>"
      ],
      "text/plain": [
       "<IPython.core.display.Markdown object>"
      ]
     },
     "metadata": {},
     "output_type": "display_data"
    },
    {
     "data": {
      "text/markdown": [
       "## Functions"
      ],
      "text/plain": [
       "<IPython.core.display.Markdown object>"
      ]
     },
     "metadata": {},
     "output_type": "display_data"
    },
    {
     "data": {
      "text/latex": [
       "$\\displaystyle [0]\\text{   }178.0 \\cdot {{x}}_{i{0}} + 187.0 \\cdot {{x}}_{i{1}} + 187.0 \\cdot {{x}}_{i{2}} + 151.0 \\cdot {{x}}_{i{3}}$"
      ],
      "text/plain": [
       "<IPython.core.display.Math object>"
      ]
     },
     "metadata": {},
     "output_type": "display_data"
    }
   ],
   "source": [
    "from gana import Prg, I, V, T, inf\n",
    "\n",
    "\n",
    "p = Prg()\n",
    "p.i = I(size=4)\n",
    "p.j = I(size=2)\n",
    "p.x = V(p.i)\n",
    "p.t = T(p.j, _=[(0, 1000), (0, 1000)])\n",
    "\n",
    "p.c0 = p.x[0] + p.x[1] <= 350\n",
    "p.c1 = p.x[2] + p.x[3] <= 600\n",
    "p.c2 = p.x[0] + p.x[2] >= p.t[0]\n",
    "p.c3 = p.x[1] + p.x[3] >= p.t[1]\n",
    "p.f = inf(178 * p.x[0] + 187 * p.x[1] + 187 * p.x[2] + 151 * p.x[3])\n",
    "p.show()\n"
   ]
  },
  {
   "cell_type": "markdown",
   "id": "7668993c",
   "metadata": {},
   "source": [
    "## Solve the Model"
   ]
  },
  {
   "cell_type": "code",
   "execution_count": 6,
   "id": "194e8d4a",
   "metadata": {},
   "outputs": [
    {
     "name": "stdout",
     "output_type": "stream",
     "text": [
      "--- Creating PPOPT MPLP_Program for prog\n",
      "--- Solving prog using PPOPT combinatorial algorithm\n"
     ]
    }
   ],
   "source": [
    "p.solve()"
   ]
  },
  {
   "cell_type": "markdown",
   "id": "13d68718",
   "metadata": {},
   "source": [
    "## Plot the solution \n",
    "\n",
    "gana defaults to PPOPT's plotting function for multiparametric programs"
   ]
  },
  {
   "cell_type": "code",
   "execution_count": 7,
   "id": "9dc42aa2",
   "metadata": {},
   "outputs": [
    {
     "data": {
      "image/png": "[encoded data removed]",
      "text/plain": [
       "<Figure size 640x480 with 1 Axes>"
      ]
     },
     "metadata": {},
     "output_type": "display_data"
    }
   ],
   "source": [
    "p.draw()"
   ]
  }
 ],
 "metadata": {
  "kernelspec": {
   "display_name": ".venv",
   "language": "python",
   "name": "python3"
  },
  "language_info": {
   "codemirror_mode": {
    "name": "ipython",
    "version": 3
   },
   "file_extension": ".py",
   "mimetype": "text/x-python",
   "name": "python",
   "nbconvert_exporter": "python",
   "pygments_lexer": "ipython3",
   "version": "3.13.8"
  }
 },
 "nbformat": 4,
 "nbformat_minor": 5
}
