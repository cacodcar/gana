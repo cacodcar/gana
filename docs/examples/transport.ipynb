{
 "cells": [
  {
   "cell_type": "markdown",
   "id": "370af766",
   "metadata": {},
   "source": [
    "# Transportation Problem (mpLP)\n",
    "\n",
    "This is an multiparametric Linear Programming example.\n",
    "\n",
    "The example shown is from the documentation for the general purpose multiparametric solver [PPOPT](https://ppopt.readthedocs.io/en/latest/mplp_tut.html)"
   ]
  },
  {
   "cell_type": "markdown",
   "id": "4fb1ad46",
   "metadata": {},
   "source": [
    "## Write the Model"
   ]
  },
  {
   "cell_type": "code",
   "execution_count": 1,
   "id": "e0eaf420",
   "metadata": {},
   "outputs": [
    {
     "data": {
      "text/markdown": [
       "# Mathematical Program for prog"
      ],
      "text/plain": [
       "<IPython.core.display.Markdown object>"
      ]
     },
     "metadata": {},
     "output_type": "display_data"
    },
    {
     "data": {
      "text/markdown": [
       "<br><br>"
      ],
      "text/plain": [
       "<IPython.core.display.Markdown object>"
      ]
     },
     "metadata": {},
     "output_type": "display_data"
    },
    {
     "data": {
      "text/markdown": [
       "## Index Sets"
      ],
      "text/plain": [
       "<IPython.core.display.Markdown object>"
      ]
     },
     "metadata": {},
     "output_type": "display_data"
    },
    {
     "data": {
      "text/latex": [
       "$\\displaystyle i = \\{ {i_{0}}, {i_{1}}, {i_{2}}, {i_{3}} \\}$"
      ],
      "text/plain": [
       "<IPython.core.display.Math object>"
      ]
     },
     "metadata": {},
     "output_type": "display_data"
    },
    {
     "data": {
      "text/latex": [
       "$\\displaystyle j = \\{ {j_{0}}, {j_{1}} \\}$"
      ],
      "text/plain": [
       "<IPython.core.display.Math object>"
      ]
     },
     "metadata": {},
     "output_type": "display_data"
    },
    {
     "data": {
      "text/markdown": [
       "<br><br>"
      ],
      "text/plain": [
       "<IPython.core.display.Markdown object>"
      ]
     },
     "metadata": {},
     "output_type": "display_data"
    },
    {
     "data": {
      "text/markdown": [
       "## Objective"
      ],
      "text/plain": [
       "<IPython.core.display.Markdown object>"
      ]
     },
     "metadata": {},
     "output_type": "display_data"
    },
    {
     "data": {
      "text/latex": [
       "$\\displaystyle min \\hspace{0.2cm} 178.0 \\cdot {{x}}_{i{0}} + 187.0 \\cdot {{x}}_{i{1}} + 187.0 \\cdot {{x}}_{i{2}} + 151.0 \\cdot {{x}}_{i{3}}$"
      ],
      "text/plain": [
       "<IPython.core.display.Math object>"
      ]
     },
     "metadata": {},
     "output_type": "display_data"
    },
    {
     "data": {
      "text/markdown": [
       "<br><br>"
      ],
      "text/plain": [
       "<IPython.core.display.Markdown object>"
      ]
     },
     "metadata": {},
     "output_type": "display_data"
    },
    {
     "data": {
      "text/markdown": [
       "## s.t."
      ],
      "text/plain": [
       "<IPython.core.display.Markdown object>"
      ]
     },
     "metadata": {},
     "output_type": "display_data"
    },
    {
     "data": {
      "text/markdown": [
       "<br><br>"
      ],
      "text/plain": [
       "<IPython.core.display.Markdown object>"
      ]
     },
     "metadata": {},
     "output_type": "display_data"
    },
    {
     "data": {
      "text/markdown": [
       "### Inequality Constraint Sets"
      ],
      "text/plain": [
       "<IPython.core.display.Markdown object>"
      ]
     },
     "metadata": {},
     "output_type": "display_data"
    },
    {
     "data": {
      "text/latex": [
       "$\\displaystyle [0]\\text{   }{{{x}}}_{i{0}} + {{{x}}}_{i{1}} - 350 \\leq 0$"
      ],
      "text/plain": [
       "<IPython.core.display.Math object>"
      ]
     },
     "metadata": {},
     "output_type": "display_data"
    },
    {
     "data": {
      "text/latex": [
       "$\\displaystyle [1]\\text{   }{{{x}}}_{i{2}} + {{{x}}}_{i{3}} - 600 \\leq 0$"
      ],
      "text/plain": [
       "<IPython.core.display.Math object>"
      ]
     },
     "metadata": {},
     "output_type": "display_data"
    },
    {
     "data": {
      "text/latex": [
       "$\\displaystyle [2]\\text{   }-{{{{x}}}}_{i{0}} - {{{{x}}}}_{i{2}} + {{t}}_{j{0}} \\leq 0$"
      ],
      "text/plain": [
       "<IPython.core.display.Math object>"
      ]
     },
     "metadata": {},
     "output_type": "display_data"
    },
    {
     "data": {
      "text/latex": [
       "$\\displaystyle [3]\\text{   }-{{{{x}}}}_{i{1}} - {{{{x}}}}_{i{3}} + {{t}}_{j{1}} \\leq 0$"
      ],
      "text/plain": [
       "<IPython.core.display.Math object>"
      ]
     },
     "metadata": {},
     "output_type": "display_data"
    },
    {
     "data": {
      "text/markdown": [
       "<br><br>"
      ],
      "text/plain": [
       "<IPython.core.display.Markdown object>"
      ]
     },
     "metadata": {},
     "output_type": "display_data"
    },
    {
     "data": {
      "text/markdown": [
       "## Functions"
      ],
      "text/plain": [
       "<IPython.core.display.Markdown object>"
      ]
     },
     "metadata": {},
     "output_type": "display_data"
    },
    {
     "data": {
      "text/latex": [
       "$\\displaystyle [0]\\text{   }178.0 \\cdot {{x}}_{i{0}} + 187.0 \\cdot {{x}}_{i{1}} + 187.0 \\cdot {{x}}_{i{2}} + 151.0 \\cdot {{x}}_{i{3}}$"
      ],
      "text/plain": [
       "<IPython.core.display.Math object>"
      ]
     },
     "metadata": {},
     "output_type": "display_data"
    }
   ],
   "source": [
    "from gana import Prg, I, V, T, inf\n",
    "\n",
    "\n",
    "p = Prg()\n",
    "p.i = I(size=4)\n",
    "p.j = I(size=2)\n",
    "p.x = V(p.i)\n",
    "p.t = T(p.j, _=[(0, 1000), (0, 1000)])\n",
    "\n",
    "p.c0 = p.x[0] + p.x[1] <= 350\n",
    "p.c1 = p.x[2] + p.x[3] <= 600\n",
    "p.c2 = p.x[0] + p.x[2] >= p.t[0]\n",
    "p.c3 = p.x[1] + p.x[3] >= p.t[1]\n",
    "p.f = inf(178 * p.x[0] + 187 * p.x[1] + 187 * p.x[2] + 151 * p.x[3])\n",
    "p.show()"
   ]
  },
  {
   "cell_type": "markdown",
   "id": "7668993c",
   "metadata": {},
   "source": [
    "## Solve the Model"
   ]
  },
  {
   "cell_type": "code",
   "execution_count": 2,
   "id": "194e8d4a",
   "metadata": {},
   "outputs": [
    {
     "name": "stdout",
     "output_type": "stream",
     "text": [
      "--- Creating PPOPT MPLP_Program for prog\n",
      "Set parameter Username\n",
      "Academic license - for non-commercial use only - expires 2026-08-01\n",
      "--- Solving prog using PPOPT combinatorial algorithm\n"
     ]
    }
   ],
   "source": [
    "p.solve()"
   ]
  },
  {
   "cell_type": "markdown",
   "id": "13d68718",
   "metadata": {},
   "source": [
    "## Plot the solution \n",
    "\n",
    "gana defaults to PPOPT's plotting function for multiparametric programs"
   ]
  },
  {
   "cell_type": "code",
   "execution_count": 3,
   "id": "9dc42aa2",
   "metadata": {},
   "outputs": [
    {
     "data": {
      "image/png": "[encoded data removed]",
      "text/plain": [
       "<Figure size 640x480 with 1 Axes>"
      ]
     },
     "metadata": {},
     "output_type": "display_data"
    }
   ],
   "source": [
    "p.draw()"
   ]
  },
  {
   "cell_type": "markdown",
   "id": "73573416",
   "metadata": {},
   "source": [
    "## Evaluate the Solution\n",
    "\n",
    "The solution can be evaluated for different values of thetas"
   ]
  },
  {
   "cell_type": "code",
   "execution_count": 4,
   "id": "15699a20",
   "metadata": {},
   "outputs": [
    {
     "data": {
      "text/plain": [
       "({x[0]: 100.0, x[1]: 0.0, x[2]: 0.0, x[3]: 400.0},\n",
       " {x[0]: 200.0, x[1]: 0.0, x[2]: 0.0, x[3]: 300.0})"
      ]
     },
     "execution_count": 4,
     "metadata": {},
     "output_type": "execute_result"
    }
   ],
   "source": [
    "p.eval(100, 400), p.eval(200, 300)"
   ]
  },
  {
   "cell_type": "markdown",
   "id": "d875ea6f",
   "metadata": {},
   "source": [
    "The evaluations get saved in evaluation (dict) and can be accessed"
   ]
  },
  {
   "cell_type": "code",
   "execution_count": 5,
   "id": "15548590",
   "metadata": {},
   "outputs": [
    {
     "data": {
      "text/plain": [
       "{0: {(100, 400): 100.0, (200, 300): 200.0}}"
      ]
     },
     "execution_count": 5,
     "metadata": {},
     "output_type": "execute_result"
    }
   ],
   "source": [
    "p.x[0].evaluation"
   ]
  },
  {
   "cell_type": "markdown",
   "id": "8024e6a3",
   "metadata": {},
   "source": [
    "### The full solution\n",
    "\n",
    "Can be accessed in Program.solution (dict)"
   ]
  },
  {
   "cell_type": "code",
   "execution_count": 6,
   "id": "19307195",
   "metadata": {},
   "outputs": [
    {
     "data": {
      "text/plain": [
       "Solution(program=<ppopt.mplp_program.MPLP_Program object at 0x0000026902465E80>, critical_regions=[Critical region with active set [0, 2, 3, 5]\n",
       "The Omega Constraint indices are [1]\n",
       "The Lagrange multipliers Constraint indices are []\n",
       "The Regular Constraint indices are [[0, 2, 3], [1, 6, 7]]\n",
       "  x(θ) = Aθ + b \n",
       " λ(θ) = Cθ + d \n",
       "  Eθ <= f\n",
       " A = [[ 4.55111174e-16 -9.58101146e-17]\n",
       " [-1.08095644e-16  2.63420819e-16]\n",
       " [ 1.00000000e+00  2.71726164e-17]\n",
       " [-4.43739537e-16  1.00000000e+00]] \n",
       " b = [[ 3.50000000e+02]\n",
       " [ 3.02929788e-14]\n",
       " [-3.50000000e+02]\n",
       " [ 1.05252933e-13]] \n",
       " C = [[0. 0.]\n",
       " [0. 0.]\n",
       " [0. 0.]\n",
       " [0. 0.]] \n",
       " d = [[ 12.72792206]\n",
       " [323.89350102]\n",
       " [261.53967194]\n",
       " [ 45.        ]] \n",
       " E = [[ 7.07106781e-01  7.07106781e-01]\n",
       " [-1.00000000e+00 -2.71726164e-17]\n",
       " [ 4.43739537e-16 -1.00000000e+00]\n",
       " [ 0.00000000e+00 -1.00000000e+00]] \n",
       " f = [[ 6.71751442e+02]\n",
       " [-3.50000000e+02]\n",
       " [ 1.05252933e-13]\n",
       " [ 0.00000000e+00]], Critical region with active set [1, 2, 3, 6]\n",
       "The Omega Constraint indices are [0]\n",
       "The Lagrange multipliers Constraint indices are []\n",
       "The Regular Constraint indices are [[0, 1, 2], [0, 4, 5]]\n",
       "  x(θ) = Aθ + b \n",
       " λ(θ) = Cθ + d \n",
       "  Eθ <= f\n",
       " A = [[ 1.00000000e+00  2.09065079e-16]\n",
       " [ 1.08808090e-16  1.00000000e+00]\n",
       " [-2.11921834e-16  2.07793336e-17]\n",
       " [-2.85118428e-17 -1.47477738e-16]] \n",
       " b = [[ 8.57310942e-14]\n",
       " [-6.00000000e+02]\n",
       " [-8.21908157e-14]\n",
       " [ 6.00000000e+02]] \n",
       " C = [[0. 0.]\n",
       " [0. 0.]\n",
       " [0. 0.]\n",
       " [0. 0.]] \n",
       " d = [[ 50.91168825]\n",
       " [308.30504375]\n",
       " [323.89350102]\n",
       " [ 45.        ]] \n",
       " E = [[ 7.07106781e-01  7.07106781e-01]\n",
       " [-1.00000000e+00 -2.09065079e-16]\n",
       " [-1.08808090e-16 -1.00000000e+00]\n",
       " [-1.00000000e+00  0.00000000e+00]] \n",
       " f = [[ 6.71751442e+02]\n",
       " [ 8.57310942e-14]\n",
       " [-6.00000000e+02]\n",
       " [ 0.00000000e+00]], Critical region with active set [2, 3, 5, 6]\n",
       "The Omega Constraint indices are [0, 1]\n",
       "The Lagrange multipliers Constraint indices are []\n",
       "The Regular Constraint indices are [[0, 1, 2, 3], [0, 1, 4, 7]]\n",
       "  x(θ) = Aθ + b \n",
       " λ(θ) = Cθ + d \n",
       "  Eθ <= f\n",
       " A = [[1.00000000e+00 0.00000000e+00]\n",
       " [0.00000000e+00 1.45579955e-18]\n",
       " [6.05443585e-17 0.00000000e+00]\n",
       " [0.00000000e+00 1.00000000e+00]] \n",
       " b = [[0.]\n",
       " [0.]\n",
       " [0.]\n",
       " [0.]] \n",
       " C = [[0. 0.]\n",
       " [0. 0.]\n",
       " [0. 0.]\n",
       " [0. 0.]] \n",
       " d = [[308.30504375]\n",
       " [261.53967194]\n",
       " [ 36.        ]\n",
       " [  9.        ]] \n",
       " E = [[ 1.00000000e+00  1.45579955e-18]\n",
       " [ 6.05443585e-17  1.00000000e+00]\n",
       " [-1.00000000e+00  0.00000000e+00]\n",
       " [ 0.00000000e+00 -1.00000000e+00]] \n",
       " f = [[350.]\n",
       " [600.]\n",
       " [  0.]\n",
       " [  0.]]])"
      ]
     },
     "execution_count": 6,
     "metadata": {},
     "output_type": "execute_result"
    }
   ],
   "source": [
    "p.solution[0]"
   ]
  }
 ],
 "metadata": {
  "kernelspec": {
   "display_name": ".venv",
   "language": "python",
   "name": "python3"
  },
  "language_info": {
   "codemirror_mode": {
    "name": "ipython",
    "version": 3
   },
   "file_extension": ".py",
   "mimetype": "text/x-python",
   "name": "python",
   "nbconvert_exporter": "python",
   "pygments_lexer": "ipython3",
   "version": "3.13.7"
  }
 },
 "nbformat": 4,
 "nbformat_minor": 5
}
