{
 "cells": [
  {
   "cell_type": "code",
   "execution_count": 1,
   "metadata": {},
   "outputs": [],
   "source": [
    "import sys\n",
    "\n",
    "sys.path.append('src')"
   ]
  },
  {
   "cell_type": "code",
   "execution_count": 2,
   "metadata": {},
   "outputs": [],
   "source": [
    "from gana.block.program import Prg\n",
    "from gana.sets.indices import I\n",
    "from gana.sets.variables import V\n",
    "\n",
    "from gana.sets.parameters import P\n",
    "\n",
    "# from gana.sets.theta import T\n",
    "# from gana.sets.objective import O\n",
    "# from IPython.display import Math, display\n",
    "from pyomo.environ import ConcreteModel, Set"
   ]
  },
  {
   "cell_type": "code",
   "execution_count": 3,
   "metadata": {},
   "outputs": [
    {
     "data": {
      "text/latex": [
       "$\\displaystyle \\mathcal{i0}\\in\\{a\\}$"
      ],
      "text/plain": [
       "<IPython.core.display.Math object>"
      ]
     },
     "metadata": {},
     "output_type": "display_data"
    },
    {
     "data": {
      "text/latex": [
       "$\\displaystyle \\mathcal{i1}\\in\\{a, b, c\\}$"
      ],
      "text/plain": [
       "<IPython.core.display.Math object>"
      ]
     },
     "metadata": {},
     "output_type": "display_data"
    },
    {
     "data": {
      "text/latex": [
       "$\\displaystyle \\mathcal{i2}\\in\\{d, e\\}$"
      ],
      "text/plain": [
       "<IPython.core.display.Math object>"
      ]
     },
     "metadata": {},
     "output_type": "display_data"
    },
    {
     "data": {
      "text/latex": [
       "$\\displaystyle \\mathcal{i3}\\in\\{a, b, c, d, e, b\\}$"
      ],
      "text/plain": [
       "<IPython.core.display.Math object>"
      ]
     },
     "metadata": {},
     "output_type": "display_data"
    },
    {
     "data": {
      "text/latex": [
       "$\\displaystyle \\mathcal{i4}\\in\\{a, b, c\\}$"
      ],
      "text/plain": [
       "<IPython.core.display.Math object>"
      ]
     },
     "metadata": {},
     "output_type": "display_data"
    },
    {
     "data": {
      "text/latex": [
       "$\\displaystyle \\mathcal{i5}\\in\\{i5_0, i5_1, i5_2\\}$"
      ],
      "text/plain": [
       "<IPython.core.display.Math object>"
      ]
     },
     "metadata": {},
     "output_type": "display_data"
    },
    {
     "data": {
      "text/latex": [
       "$\\displaystyle v22_{a, d} - v2_{a, d} = 0$"
      ],
      "text/plain": [
       "<IPython.core.display.Math object>"
      ]
     },
     "metadata": {},
     "output_type": "display_data"
    },
    {
     "data": {
      "text/latex": [
       "$\\displaystyle v22_{a, e} - v2_{a, e} = 0$"
      ],
      "text/plain": [
       "<IPython.core.display.Math object>"
      ]
     },
     "metadata": {},
     "output_type": "display_data"
    },
    {
     "data": {
      "text/latex": [
       "$\\displaystyle v2_{a, d} - v22_{a, d} \\leq 0$"
      ],
      "text/plain": [
       "<IPython.core.display.Math object>"
      ]
     },
     "metadata": {},
     "output_type": "display_data"
    },
    {
     "data": {
      "text/latex": [
       "$\\displaystyle v2_{a, e} - v22_{a, e} \\leq 0$"
      ],
      "text/plain": [
       "<IPython.core.display.Math object>"
      ]
     },
     "metadata": {},
     "output_type": "display_data"
    },
    {
     "data": {
      "text/latex": [
       "$\\displaystyle v22_{a, d} - v2_{a, d} \\leq 0$"
      ],
      "text/plain": [
       "<IPython.core.display.Math object>"
      ]
     },
     "metadata": {},
     "output_type": "display_data"
    },
    {
     "data": {
      "text/latex": [
       "$\\displaystyle v22_{a, e} - v2_{a, e} \\leq 0$"
      ],
      "text/plain": [
       "<IPython.core.display.Math object>"
      ]
     },
     "metadata": {},
     "output_type": "display_data"
    },
    {
     "data": {
      "text/latex": [
       "$\\displaystyle v2_{a, d} - v22_{a, d} \\leq 0$"
      ],
      "text/plain": [
       "<IPython.core.display.Math object>"
      ]
     },
     "metadata": {},
     "output_type": "display_data"
    },
    {
     "data": {
      "text/latex": [
       "$\\displaystyle v2_{a, e} - v22_{a, e} \\leq 0$"
      ],
      "text/plain": [
       "<IPython.core.display.Math object>"
      ]
     },
     "metadata": {},
     "output_type": "display_data"
    },
    {
     "data": {
      "text/latex": [
       "$\\displaystyle v22_{a, d} - v2_{a, d} \\leq 0$"
      ],
      "text/plain": [
       "<IPython.core.display.Math object>"
      ]
     },
     "metadata": {},
     "output_type": "display_data"
    },
    {
     "data": {
      "text/latex": [
       "$\\displaystyle v22_{a, e} - v2_{a, e} \\leq 0$"
      ],
      "text/plain": [
       "<IPython.core.display.Math object>"
      ]
     },
     "metadata": {},
     "output_type": "display_data"
    },
    {
     "data": {
      "text/latex": [
       "$\\displaystyle v1_{a} - 3.0 \\leq 0$"
      ],
      "text/plain": [
       "<IPython.core.display.Math object>"
      ]
     },
     "metadata": {},
     "output_type": "display_data"
    },
    {
     "data": {
      "text/latex": [
       "$\\displaystyle v1_{b} - 4.0 \\leq 0$"
      ],
      "text/plain": [
       "<IPython.core.display.Math object>"
      ]
     },
     "metadata": {},
     "output_type": "display_data"
    },
    {
     "data": {
      "text/latex": [
       "$\\displaystyle v1_{c} - 7.0 \\leq 0$"
      ],
      "text/plain": [
       "<IPython.core.display.Math object>"
      ]
     },
     "metadata": {},
     "output_type": "display_data"
    }
   ],
   "source": [
    "p1 = Prg()\n",
    "p1.i0 = I('a')\n",
    "p1.i1 = I('a', 'b', 'c')\n",
    "p1.i2 = I('d', 'e')\n",
    "p1.i3 = I('a', 'b', 'c', 'd', 'e', 'b')\n",
    "p1.i4 = I('a', 'b', 'c')\n",
    "p1.i5 = I(3)\n",
    "\n",
    "\n",
    "# p1.i5 = p1.i0 * p1.i1\n",
    "p1.v0 = V(p1.i0)\n",
    "p1.v1 = V(p1.i1)\n",
    "p1.v12 = V(p1.i1, nn=False)\n",
    "p1.v2 = V(p1.i0, p1.i2, itg=True)\n",
    "p1.v22 = V(p1.i0, p1.i2, nn=False)\n",
    "p1.v32 = V(p1.i0, bnr=True)\n",
    "\n",
    "p1.p0 = P(p1.i0, p1.i5, _=[1, 2, 5])\n",
    "p1.p1 = P(p1.i0, _=[4])\n",
    "p1.p2 = P(p1.i0, p1.i5, _=[6, 8, 3])\n",
    "p1.p3 = P(p1.i0, _=[True])\n",
    "p1.p4 = P(p1.i0, p1.i5, _=[10, 10, 10])\n",
    "p1.p5 = P(p1.i0, p1.i5, _=[4, 2, 7])\n",
    "p1.p6 = P(p1.i1, _=[3, 4, 7])\n",
    "\n",
    "p1.f1 = p1.v22 + p1.v2\n",
    "p1.f2 = p1.v22 - p1.v2\n",
    "p1.f3 = p1.v22 * p1.v2\n",
    "p1.f4 = p1.v22 / p1.v2\n",
    "\n",
    "p1.c1 = p1.v22 == p1.v2\n",
    "p1.c2 = p1.v22 >= p1.v2\n",
    "p1.c3 = p1.v22 <= p1.v2\n",
    "p1.c4 = p1.v22 > p1.v2\n",
    "p1.c5 = p1.v22 < p1.v2\n",
    "p1.c6 = p1.v1 <= p1.p6\n",
    "\n",
    "p1.pprint(True)"
   ]
  },
  {
   "cell_type": "code",
   "execution_count": 4,
   "metadata": {},
   "outputs": [
    {
     "data": {
      "text/latex": [
       "$\\displaystyle \\mathcal{t1}\\in\\{t1_0\\}$"
      ],
      "text/plain": [
       "<IPython.core.display.Math object>"
      ]
     },
     "metadata": {},
     "output_type": "display_data"
    },
    {
     "data": {
      "text/latex": [
       "$\\displaystyle \\mathcal{t2}\\in\\{t2_0, t2_1\\}$"
      ],
      "text/plain": [
       "<IPython.core.display.Math object>"
      ]
     },
     "metadata": {},
     "output_type": "display_data"
    },
    {
     "data": {
      "text/latex": [
       "$\\displaystyle \\mathcal{t4}\\in\\{t4_0, t4_1, t4_2, t4_3\\}$"
      ],
      "text/plain": [
       "<IPython.core.display.Math object>"
      ]
     },
     "metadata": {},
     "output_type": "display_data"
    },
    {
     "data": {
      "text/latex": [
       "$\\displaystyle b_{t4_0} - 12.0 \\leq 0$"
      ],
      "text/plain": [
       "<IPython.core.display.Math object>"
      ]
     },
     "metadata": {},
     "output_type": "display_data"
    },
    {
     "data": {
      "text/latex": [
       "$\\displaystyle b_{t4_1} - 15.0 \\leq 0$"
      ],
      "text/plain": [
       "<IPython.core.display.Math object>"
      ]
     },
     "metadata": {},
     "output_type": "display_data"
    },
    {
     "data": {
      "text/latex": [
       "$\\displaystyle b_{t4_2} - 18.0 \\leq 0$"
      ],
      "text/plain": [
       "<IPython.core.display.Math object>"
      ]
     },
     "metadata": {},
     "output_type": "display_data"
    },
    {
     "data": {
      "text/latex": [
       "$\\displaystyle b_{t4_3} - 9.0 \\leq 0$"
      ],
      "text/plain": [
       "<IPython.core.display.Math object>"
      ]
     },
     "metadata": {},
     "output_type": "display_data"
    },
    {
     "data": {
      "text/latex": [
       "$\\displaystyle  - b_{t4_0} - s_{t4_0} - p_{t4_0} + 3.0 \\leq 0$"
      ],
      "text/plain": [
       "<IPython.core.display.Math object>"
      ]
     },
     "metadata": {},
     "output_type": "display_data"
    },
    {
     "data": {
      "text/latex": [
       "$\\displaystyle  - b_{t4_1} - s_{t4_1} - p_{t4_1} + 3.0 \\leq 0$"
      ],
      "text/plain": [
       "<IPython.core.display.Math object>"
      ]
     },
     "metadata": {},
     "output_type": "display_data"
    },
    {
     "data": {
      "text/latex": [
       "$\\displaystyle  - b_{t4_2} - s_{t4_2} - p_{t4_2} + 3.0 \\leq 0$"
      ],
      "text/plain": [
       "<IPython.core.display.Math object>"
      ]
     },
     "metadata": {},
     "output_type": "display_data"
    },
    {
     "data": {
      "text/latex": [
       "$\\displaystyle  - b_{t4_3} - s_{t4_3} - p_{t4_3} + 3.0 \\leq 0$"
      ],
      "text/plain": [
       "<IPython.core.display.Math object>"
      ]
     },
     "metadata": {},
     "output_type": "display_data"
    },
    {
     "data": {
      "text/latex": [
       "$\\displaystyle s_{t4_0} + s_{t4_1} \\cdot 3.0 - 15.0 \\leq 0$"
      ],
      "text/plain": [
       "<IPython.core.display.Math object>"
      ]
     },
     "metadata": {},
     "output_type": "display_data"
    },
    {
     "data": {
      "text/latex": [
       "$\\displaystyle  - s_{t4_0} - s_{t4_1} + 4.0 \\leq 0$"
      ],
      "text/plain": [
       "<IPython.core.display.Math object>"
      ]
     },
     "metadata": {},
     "output_type": "display_data"
    },
    {
     "data": {
      "text/latex": [
       "$\\displaystyle s_{t4_2} + s_{t4_3} - 14.0 \\leq 0$"
      ],
      "text/plain": [
       "<IPython.core.display.Math object>"
      ]
     },
     "metadata": {},
     "output_type": "display_data"
    },
    {
     "data": {
      "text/latex": [
       "$\\displaystyle  - s_{t4_2} - s_{t4_3} + 8.0 \\leq 0$"
      ],
      "text/plain": [
       "<IPython.core.display.Math object>"
      ]
     },
     "metadata": {},
     "output_type": "display_data"
    },
    {
     "data": {
      "text/latex": [
       "$\\displaystyle b_{t4_0} + p_{t4_0} - s_{t4_0} = 0$"
      ],
      "text/plain": [
       "<IPython.core.display.Math object>"
      ]
     },
     "metadata": {},
     "output_type": "display_data"
    },
    {
     "data": {
      "text/latex": [
       "$\\displaystyle b_{t4_1} + p_{t4_1} - s_{t4_1} = 0$"
      ],
      "text/plain": [
       "<IPython.core.display.Math object>"
      ]
     },
     "metadata": {},
     "output_type": "display_data"
    },
    {
     "data": {
      "text/latex": [
       "$\\displaystyle b_{t4_2} + p_{t4_2} - s_{t4_2} = 0$"
      ],
      "text/plain": [
       "<IPython.core.display.Math object>"
      ]
     },
     "metadata": {},
     "output_type": "display_data"
    },
    {
     "data": {
      "text/latex": [
       "$\\displaystyle b_{t4_3} + p_{t4_3} - s_{t4_3} = 0$"
      ],
      "text/plain": [
       "<IPython.core.display.Math object>"
      ]
     },
     "metadata": {},
     "output_type": "display_data"
    },
    {
     "data": {
      "text/latex": [
       "$\\displaystyle p_{t4_0} + p_{t4_1} + p_{t4_2} + p_{t4_3} - 50.0 \\leq 0$"
      ],
      "text/plain": [
       "<IPython.core.display.Math object>"
      ]
     },
     "metadata": {},
     "output_type": "display_data"
    }
   ],
   "source": [
    "p = Prg()\n",
    "p.t1 = I(1)\n",
    "p.t2 = I(2)\n",
    "p.t4 = I(4)\n",
    "p.b = V(p.t4)\n",
    "p.s = V(p.t4)\n",
    "p.p = V(p.t4)\n",
    "p.bal = P(p.t4, _=[0, 0, 0, 0])\n",
    "p.bub = P(p.t4, _=[12, 15, 18, 9])\n",
    "p.blb = P(p.t4, _=[3, 3, 3, 3])\n",
    "p.sub = P(p.t2, _=[15, 17])\n",
    "p.slb = P(p.t2, _=[4, 8])\n",
    "p.pub = P(p.t1, _=[50])\n",
    "p.plb = P(p.t1, _=[10])\n",
    "p.pcst = P(p.t4, _=[0.5] * 4)\n",
    "p.bcst = P(p.t4, _=[2] * 4)\n",
    "p.scst = P(p.t4, _=[3] * 4)\n",
    "p.bcnv = P(p.t4, _=[3] * 4)\n",
    "p.scnv = P(p.t4, _=[1] * 4)\n",
    "p.cons_bmax = p.b <= p.bub\n",
    "p.cons_bmin = p.b + p.s + p.p >= p.blb\n",
    "p.cons_smax1 = p.s(p.t4[0]) + 3 * p.s(p.t4[1]) <= p.sub(p.t2[0])\n",
    "p.cons_smin1 = p.s(p.t4_0) + p.s(p.t4[1]) >= p.slb(p.t2[0])\n",
    "p.cons_smax2 = 3 + p.s(p.t4[2]) + p.s(p.t4[3]) <= p.sub(p.t2[1])\n",
    "p.cons_smin2 = p.s(p.t4[2]) + p.s(p.t4[3]) >= p.slb(p.t2_1)\n",
    "p.cons_bal = p.b + p.p - p.s == 0\n",
    "p.cons_pmax = sum(p.p) <= sum(p.pub)\n",
    "# p.pprint()\n",
    "p.pprint(True)"
   ]
  },
  {
   "cell_type": "code",
   "execution_count": 5,
   "metadata": {},
   "outputs": [
    {
     "name": "stdout",
     "output_type": "stream",
     "text": [
      "['+', v22_0, '-', v2_0]\n",
      "['+', v22_0, '-', v2_0] None\n",
      "['+', v22_1, '-', v2_1]\n",
      "['+', v22_1, '-', v2_1] None\n",
      "['+', v2_0, '-', v22_0]\n",
      "['+', v2_0, '-', v22_0] None\n",
      "['+', v2_1, '-', v22_1]\n",
      "['+', v2_1, '-', v22_1] None\n",
      "['+', v22_0, '-', v2_0]\n",
      "['+', v22_0, '-', v2_0] None\n",
      "['+', v22_1, '-', v2_1]\n",
      "['+', v22_1, '-', v2_1] None\n",
      "['+', v2_0, '-', v22_0]\n",
      "['+', v2_0, '-', v22_0] None\n",
      "['+', v2_1, '-', v22_1]\n",
      "['+', v2_1, '-', v22_1] None\n",
      "['+', v22_0, '-', v2_0]\n",
      "['+', v22_0, '-', v2_0] None\n",
      "['+', v22_1, '-', v2_1]\n",
      "['+', v22_1, '-', v2_1] None\n",
      "['+', v1_0, '-', 3.0]\n",
      "['+', v1_0] 3.0\n",
      "['+', v1_1, '-', 4.0]\n",
      "['+', v1_1] 4.0\n",
      "['+', v1_2, '-', 7.0]\n",
      "['+', v1_2] 7.0\n"
     ]
    }
   ],
   "source": [
    "for c in p1.constraints:\n",
    "    print(c._)\n",
    "    print(c.a(), c.b())\n",
    "    # print(c.b(True))"
   ]
  },
  {
   "cell_type": "code",
   "execution_count": 13,
   "metadata": {},
   "outputs": [
    {
     "name": "stdout",
     "output_type": "stream",
     "text": [
      "['+', b_0]\n",
      "['+', b_1]\n",
      "['+', b_2]\n",
      "['+', b_3]\n",
      "['-', b_0, '-', s_0, '-', p_0]\n",
      "['-', b_1, '-', s_1, '-', p_1]\n",
      "['-', b_2, '-', s_2, '-', p_2]\n",
      "['-', b_3, '-', s_3, '-', p_3]\n",
      "['+', s_0, '+', s_1, '×', 3.0]\n",
      "['-', s_0, '-', s_1]\n",
      "['+', s_2, '+', s_3]\n",
      "['-', s_2, '-', s_3]\n",
      "['+', b_0, '+', p_0, '-', s_0]\n",
      "['+', b_1, '+', p_1, '-', s_1]\n",
      "['+', b_2, '+', p_2, '-', s_2]\n",
      "['+', b_3, '+', p_3, '-', s_3]\n",
      "['+', p_0, '+', p_1, '+', p_2, '+', p_3]\n"
     ]
    }
   ],
   "source": [
    "for c in p.constraints:\n",
    "    print(c.a())"
   ]
  },
  {
   "cell_type": "code",
   "execution_count": 16,
   "metadata": {},
   "outputs": [
    {
     "name": "stdout",
     "output_type": "stream",
     "text": [
      "+\n",
      "+\n",
      "+\n",
      "+\n",
      "-\n",
      "-\n",
      "-\n",
      "-\n",
      "-\n",
      "-\n",
      "-\n",
      "-\n",
      "-\n",
      "-\n",
      "-\n",
      "-\n",
      "+\n",
      "+\n",
      "×\n",
      "-\n",
      "-\n",
      "+\n",
      "+\n",
      "-\n",
      "-\n",
      "+\n",
      "+\n",
      "-\n",
      "+\n",
      "+\n",
      "-\n",
      "+\n",
      "+\n",
      "-\n",
      "+\n",
      "+\n",
      "-\n",
      "+\n",
      "+\n",
      "+\n",
      "+\n"
     ]
    }
   ],
   "source": [
    "for c in p.constraints:\n",
    "    for x in c.a()[::2]: \n",
    "        print(x)"
   ]
  },
  {
   "cell_type": "code",
   "execution_count": 7,
   "metadata": {},
   "outputs": [
    {
     "data": {
      "text/plain": [
       "False"
      ]
     },
     "execution_count": 7,
     "metadata": {},
     "output_type": "execute_result"
    }
   ],
   "source": [
    "[2, 3] == [None, 3]"
   ]
  },
  {
   "cell_type": "code",
   "execution_count": 8,
   "metadata": {},
   "outputs": [
    {
     "name": "stdout",
     "output_type": "stream",
     "text": [
      "True\n"
     ]
    }
   ],
   "source": [
    "if p.constraints[0]._[0]: \n",
    "    print('True')"
   ]
  },
  {
   "cell_type": "code",
   "execution_count": 9,
   "metadata": {},
   "outputs": [
    {
     "data": {
      "text/plain": [
       "[None, '-']"
      ]
     },
     "execution_count": 9,
     "metadata": {},
     "output_type": "execute_result"
    }
   ],
   "source": [
    "[None, '-']  "
   ]
  },
  {
   "cell_type": "code",
   "execution_count": 10,
   "metadata": {},
   "outputs": [
    {
     "data": {
      "text/plain": [
       "['-', '-', '-', '+']"
      ]
     },
     "execution_count": 10,
     "metadata": {},
     "output_type": "execute_result"
    }
   ],
   "source": [
    "p.constraints[4].func.rels() "
   ]
  },
  {
   "cell_type": "code",
   "execution_count": 11,
   "metadata": {},
   "outputs": [
    {
     "ename": "UnboundLocalError",
     "evalue": "cannot access local variable 'a' where it is not associated with a value",
     "output_type": "error",
     "traceback": [
      "\u001b[1;31m---------------------------------------------------------------------------\u001b[0m",
      "\u001b[1;31mUnboundLocalError\u001b[0m                         Traceback (most recent call last)",
      "Cell \u001b[1;32mIn[11], line 1\u001b[0m\n\u001b[1;32m----> 1\u001b[0m a, b \u001b[38;5;241m=\u001b[39m \u001b[43mp\u001b[49m\u001b[38;5;241;43m.\u001b[39;49m\u001b[43mmatrix\u001b[49m\u001b[43m(\u001b[49m\u001b[43m)\u001b[49m\n",
      "File \u001b[1;32mc:\\Users\\cacodcar\\gana\\src\\gana\\block\\program.py:176\u001b[0m, in \u001b[0;36mPrg.matrix\u001b[1;34m(self)\u001b[0m\n\u001b[0;32m    174\u001b[0m \u001b[38;5;28;01mdef\u001b[39;00m \u001b[38;5;21mmatrix\u001b[39m(\u001b[38;5;28mself\u001b[39m) \u001b[38;5;241m-\u001b[39m\u001b[38;5;241m>\u001b[39m \u001b[38;5;28mtuple\u001b[39m[\u001b[38;5;28mlist\u001b[39m[\u001b[38;5;28mlist\u001b[39m[\u001b[38;5;28mfloat\u001b[39m]], \u001b[38;5;28mlist\u001b[39m[\u001b[38;5;28mfloat\u001b[39m]]:\n\u001b[0;32m    175\u001b[0m \u001b[38;5;250m    \u001b[39m\u001b[38;5;124;03m\"\"\"Matrix Representation\"\"\"\u001b[39;00m\n\u001b[1;32m--> 176\u001b[0m     a \u001b[38;5;241m=\u001b[39m [[x \u001b[38;5;28;01mif\u001b[39;00m x \u001b[38;5;28;01melse\u001b[39;00m \u001b[38;5;241m0\u001b[39m \u001b[38;5;28;01mfor\u001b[39;00m x \u001b[38;5;129;01min\u001b[39;00m row] \u001b[38;5;28;01mfor\u001b[39;00m row \u001b[38;5;129;01min\u001b[39;00m \u001b[43ma\u001b[49m]\n\u001b[0;32m    178\u001b[0m     b \u001b[38;5;241m=\u001b[39m [x \u001b[38;5;28;01mif\u001b[39;00m x \u001b[38;5;28;01melse\u001b[39;00m \u001b[38;5;241m0\u001b[39m \u001b[38;5;28;01mfor\u001b[39;00m x \u001b[38;5;129;01min\u001b[39;00m b]\n\u001b[0;32m    180\u001b[0m     \u001b[38;5;28;01mreturn\u001b[39;00m a, b\n",
      "\u001b[1;31mUnboundLocalError\u001b[0m: cannot access local variable 'a' where it is not associated with a value"
     ]
    }
   ],
   "source": [
    "a, b = p.matrix()"
   ]
  },
  {
   "cell_type": "code",
   "execution_count": null,
   "metadata": {},
   "outputs": [],
   "source": [
    "a"
   ]
  },
  {
   "cell_type": "code",
   "execution_count": null,
   "metadata": {},
   "outputs": [],
   "source": [
    "b"
   ]
  },
  {
   "cell_type": "code",
   "execution_count": null,
   "metadata": {},
   "outputs": [],
   "source": [
    "0.0"
   ]
  },
  {
   "cell_type": "code",
   "execution_count": null,
   "metadata": {},
   "outputs": [],
   "source": [
    "b"
   ]
  },
  {
   "cell_type": "code",
   "execution_count": null,
   "metadata": {},
   "outputs": [],
   "source": [
    "for i in a:\n",
    "    print(len(a))"
   ]
  },
  {
   "cell_type": "code",
   "execution_count": null,
   "metadata": {},
   "outputs": [],
   "source": [
    "for v in p.indices + p.constraints + p.variables:\n",
    "    print(v.name, v.n)\n",
    "\n",
    "for v in p.idxsets + p.conssets + p.varsets + p.parsets:\n",
    "    print(v.name, v.n)"
   ]
  },
  {
   "cell_type": "code",
   "execution_count": null,
   "metadata": {},
   "outputs": [],
   "source": [
    "p.cons_bmax_0.func.a"
   ]
  },
  {
   "cell_type": "code",
   "execution_count": null,
   "metadata": {},
   "outputs": [],
   "source": [
    "p.cons_bmax_0.func.a, p.cons_bmax_0.func.b"
   ]
  },
  {
   "cell_type": "code",
   "execution_count": null,
   "metadata": {},
   "outputs": [],
   "source": [
    "p.cons_smin1.func.a"
   ]
  },
  {
   "cell_type": "code",
   "execution_count": null,
   "metadata": {},
   "outputs": [],
   "source": []
  }
 ],
 "metadata": {
  "kernelspec": {
   "display_name": ".venv",
   "language": "python",
   "name": "python3"
  },
  "language_info": {
   "codemirror_mode": {
    "name": "ipython",
    "version": 3
   },
   "file_extension": ".py",
   "mimetype": "text/x-python",
   "name": "python",
   "nbconvert_exporter": "python",
   "pygments_lexer": "ipython3",
   "version": "3.12.7"
  }
 },
 "nbformat": 4,
 "nbformat_minor": 2
}
