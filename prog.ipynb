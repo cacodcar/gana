{
 "cells": [
  {
   "cell_type": "code",
   "execution_count": 1,
   "metadata": {},
   "outputs": [],
   "source": [
    "import sys\n",
    "\n",
    "sys.path.append('src')"
   ]
  },
  {
   "cell_type": "code",
   "execution_count": 2,
   "metadata": {},
   "outputs": [],
   "source": [
    "from gana.block.program import Prg\n",
    "from gana.sets.indices import I\n",
    "from gana.sets.variables import V\n",
    "\n",
    "from gana.sets.parameters import P\n",
    "\n",
    "# from gana.sets.theta import T\n",
    "# from gana.sets.objective import O\n",
    "# from IPython.display import Math, display\n",
    "from pyomo.environ import ConcreteModel, Set"
   ]
  },
  {
   "cell_type": "code",
   "execution_count": 4,
   "metadata": {},
   "outputs": [
    {
     "data": {
      "text/latex": [
       "$\\displaystyle \\mathcal{i0}\\in\\{a\\}$"
      ],
      "text/plain": [
       "<IPython.core.display.Math object>"
      ]
     },
     "metadata": {},
     "output_type": "display_data"
    },
    {
     "data": {
      "text/latex": [
       "$\\displaystyle \\mathcal{i1}\\in\\{a, b, c\\}$"
      ],
      "text/plain": [
       "<IPython.core.display.Math object>"
      ]
     },
     "metadata": {},
     "output_type": "display_data"
    },
    {
     "data": {
      "text/latex": [
       "$\\displaystyle \\mathcal{i2}\\in\\{d, e\\}$"
      ],
      "text/plain": [
       "<IPython.core.display.Math object>"
      ]
     },
     "metadata": {},
     "output_type": "display_data"
    },
    {
     "data": {
      "text/latex": [
       "$\\displaystyle \\mathcal{i3}\\in\\{a, b, c, d, e, b\\}$"
      ],
      "text/plain": [
       "<IPython.core.display.Math object>"
      ]
     },
     "metadata": {},
     "output_type": "display_data"
    },
    {
     "data": {
      "text/latex": [
       "$\\displaystyle \\mathcal{i4}\\in\\{a, b, c\\}$"
      ],
      "text/plain": [
       "<IPython.core.display.Math object>"
      ]
     },
     "metadata": {},
     "output_type": "display_data"
    },
    {
     "data": {
      "text/latex": [
       "$\\displaystyle \\mathcal{i5}\\in\\{i5_0, i5_1, i5_2\\}$"
      ],
      "text/plain": [
       "<IPython.core.display.Math object>"
      ]
     },
     "metadata": {},
     "output_type": "display_data"
    },
    {
     "data": {
      "text/latex": [
       "$\\displaystyle v22_{a, d} - v2_{a, d} = 0$"
      ],
      "text/plain": [
       "<IPython.core.display.Math object>"
      ]
     },
     "metadata": {},
     "output_type": "display_data"
    },
    {
     "data": {
      "text/latex": [
       "$\\displaystyle v22_{a, e} - v2_{a, e} = 0$"
      ],
      "text/plain": [
       "<IPython.core.display.Math object>"
      ]
     },
     "metadata": {},
     "output_type": "display_data"
    },
    {
     "data": {
      "text/latex": [
       "$\\displaystyle v2_{a, d} - v22_{a, d} \\leq 0$"
      ],
      "text/plain": [
       "<IPython.core.display.Math object>"
      ]
     },
     "metadata": {},
     "output_type": "display_data"
    },
    {
     "data": {
      "text/latex": [
       "$\\displaystyle v2_{a, e} - v22_{a, e} \\leq 0$"
      ],
      "text/plain": [
       "<IPython.core.display.Math object>"
      ]
     },
     "metadata": {},
     "output_type": "display_data"
    },
    {
     "data": {
      "text/latex": [
       "$\\displaystyle v22_{a, d} - v2_{a, d} \\leq 0$"
      ],
      "text/plain": [
       "<IPython.core.display.Math object>"
      ]
     },
     "metadata": {},
     "output_type": "display_data"
    },
    {
     "data": {
      "text/latex": [
       "$\\displaystyle v22_{a, e} - v2_{a, e} \\leq 0$"
      ],
      "text/plain": [
       "<IPython.core.display.Math object>"
      ]
     },
     "metadata": {},
     "output_type": "display_data"
    },
    {
     "data": {
      "text/latex": [
       "$\\displaystyle v2_{a, d} - v22_{a, d} \\leq 0$"
      ],
      "text/plain": [
       "<IPython.core.display.Math object>"
      ]
     },
     "metadata": {},
     "output_type": "display_data"
    },
    {
     "data": {
      "text/latex": [
       "$\\displaystyle v2_{a, e} - v22_{a, e} \\leq 0$"
      ],
      "text/plain": [
       "<IPython.core.display.Math object>"
      ]
     },
     "metadata": {},
     "output_type": "display_data"
    },
    {
     "data": {
      "text/latex": [
       "$\\displaystyle v22_{a, d} - v2_{a, d} \\leq 0$"
      ],
      "text/plain": [
       "<IPython.core.display.Math object>"
      ]
     },
     "metadata": {},
     "output_type": "display_data"
    },
    {
     "data": {
      "text/latex": [
       "$\\displaystyle v22_{a, e} - v2_{a, e} \\leq 0$"
      ],
      "text/plain": [
       "<IPython.core.display.Math object>"
      ]
     },
     "metadata": {},
     "output_type": "display_data"
    },
    {
     "data": {
      "text/latex": [
       "$\\displaystyle v1_{a} - 3.0 \\leq 0$"
      ],
      "text/plain": [
       "<IPython.core.display.Math object>"
      ]
     },
     "metadata": {},
     "output_type": "display_data"
    },
    {
     "data": {
      "text/latex": [
       "$\\displaystyle v1_{b} - 4.0 \\leq 0$"
      ],
      "text/plain": [
       "<IPython.core.display.Math object>"
      ]
     },
     "metadata": {},
     "output_type": "display_data"
    },
    {
     "data": {
      "text/latex": [
       "$\\displaystyle v1_{c} - 7.0 \\leq 0$"
      ],
      "text/plain": [
       "<IPython.core.display.Math object>"
      ]
     },
     "metadata": {},
     "output_type": "display_data"
    }
   ],
   "source": [
    "p1 = Prg()\n",
    "p1.i0 = I('a')\n",
    "p1.i1 = I('a', 'b', 'c')\n",
    "p1.i2 = I('d', 'e')\n",
    "p1.i3 = I('a', 'b', 'c', 'd', 'e', 'b')\n",
    "p1.i4 = I('a', 'b', 'c')\n",
    "p1.i5 = I(3)\n",
    "# p1.i5 = p1.i0 * p1.i1\n",
    "p1.v0 = V(p1.i0)\n",
    "p1.v1 = V(p1.i1)\n",
    "p1.v12 = V(p1.i1, nn=False)\n",
    "p1.v2 = V(p1.i0, p1.i2, itg=True)\n",
    "p1.v22 = V(p1.i0, p1.i2, nn=False)\n",
    "p1.v32 = V(p1.i0, bnr=True)\n",
    "p1.p0 = P(p1.i0, p1.i5, _=[1, 2, 5])\n",
    "p1.p1 = P(p1.i0, _=[4])\n",
    "p1.p2 = P(p1.i0, p1.i5, _=[6, 8, 3])\n",
    "p1.p3 = P(p1.i0, _=[True])\n",
    "p1.p4 = P(p1.i0, p1.i5, _=[10, 10, 10])\n",
    "p1.p5 = P(p1.i0, p1.i5, _=[4, 2, 7])\n",
    "p1.p6 = P(p1.i1, _=[3, 4, 7])\n",
    "p1.f1 = p1.v22 + p1.v2\n",
    "p1.f2 = p1.v22 - p1.v2\n",
    "p1.f3 = p1.v22 * p1.v2\n",
    "p1.f4 = p1.v22 / p1.v2\n",
    "p1.c1 = p1.v22 == p1.v2\n",
    "p1.c2 = p1.v22 >= p1.v2\n",
    "p1.c3 = p1.v22 <= p1.v2\n",
    "p1.c4 = p1.v22 > p1.v2\n",
    "p1.c5 = p1.v22 < p1.v2\n",
    "p1.c6 = p1.v1 <= p1.p6\n",
    "p1.pprint(True)"
   ]
  },
  {
   "cell_type": "code",
   "execution_count": 5,
   "metadata": {},
   "outputs": [],
   "source": [
    "a, b = p1.matrix()"
   ]
  },
  {
   "cell_type": "code",
   "execution_count": 6,
   "metadata": {},
   "outputs": [
    {
     "data": {
      "text/latex": [
       "$\\displaystyle \\mathcal{t1}\\in\\{t1_0\\}$"
      ],
      "text/plain": [
       "<IPython.core.display.Math object>"
      ]
     },
     "metadata": {},
     "output_type": "display_data"
    },
    {
     "data": {
      "text/latex": [
       "$\\displaystyle \\mathcal{t2}\\in\\{t2_0, t2_1\\}$"
      ],
      "text/plain": [
       "<IPython.core.display.Math object>"
      ]
     },
     "metadata": {},
     "output_type": "display_data"
    },
    {
     "data": {
      "text/latex": [
       "$\\displaystyle \\mathcal{t4}\\in\\{t4_0, t4_1, t4_2, t4_3\\}$"
      ],
      "text/plain": [
       "<IPython.core.display.Math object>"
      ]
     },
     "metadata": {},
     "output_type": "display_data"
    },
    {
     "data": {
      "text/latex": [
       "$\\displaystyle b_{t4_0} - 12.0 \\leq 0$"
      ],
      "text/plain": [
       "<IPython.core.display.Math object>"
      ]
     },
     "metadata": {},
     "output_type": "display_data"
    },
    {
     "data": {
      "text/latex": [
       "$\\displaystyle b_{t4_1} - 15.0 \\leq 0$"
      ],
      "text/plain": [
       "<IPython.core.display.Math object>"
      ]
     },
     "metadata": {},
     "output_type": "display_data"
    },
    {
     "data": {
      "text/latex": [
       "$\\displaystyle b_{t4_2} - 18.0 \\leq 0$"
      ],
      "text/plain": [
       "<IPython.core.display.Math object>"
      ]
     },
     "metadata": {},
     "output_type": "display_data"
    },
    {
     "data": {
      "text/latex": [
       "$\\displaystyle b_{t4_3} - 9.0 \\leq 0$"
      ],
      "text/plain": [
       "<IPython.core.display.Math object>"
      ]
     },
     "metadata": {},
     "output_type": "display_data"
    },
    {
     "data": {
      "text/latex": [
       "$\\displaystyle  - b_{t4_0} - s_{t4_0} - p_{t4_0} + 3.0 \\leq 0$"
      ],
      "text/plain": [
       "<IPython.core.display.Math object>"
      ]
     },
     "metadata": {},
     "output_type": "display_data"
    },
    {
     "data": {
      "text/latex": [
       "$\\displaystyle  - b_{t4_1} - s_{t4_1} - p_{t4_1} + 3.0 \\leq 0$"
      ],
      "text/plain": [
       "<IPython.core.display.Math object>"
      ]
     },
     "metadata": {},
     "output_type": "display_data"
    },
    {
     "data": {
      "text/latex": [
       "$\\displaystyle  - b_{t4_2} - s_{t4_2} - p_{t4_2} + 3.0 \\leq 0$"
      ],
      "text/plain": [
       "<IPython.core.display.Math object>"
      ]
     },
     "metadata": {},
     "output_type": "display_data"
    },
    {
     "data": {
      "text/latex": [
       "$\\displaystyle  - b_{t4_3} - s_{t4_3} - p_{t4_3} + 3.0 \\leq 0$"
      ],
      "text/plain": [
       "<IPython.core.display.Math object>"
      ]
     },
     "metadata": {},
     "output_type": "display_data"
    },
    {
     "data": {
      "text/latex": [
       "$\\displaystyle s_{t4_0} + 3.0 \\cdot s_{t4_1} - 15.0 \\leq 0$"
      ],
      "text/plain": [
       "<IPython.core.display.Math object>"
      ]
     },
     "metadata": {},
     "output_type": "display_data"
    },
    {
     "data": {
      "text/latex": [
       "$\\displaystyle  - s_{t4_0} - s_{t4_1} + 4.0 \\leq 0$"
      ],
      "text/plain": [
       "<IPython.core.display.Math object>"
      ]
     },
     "metadata": {},
     "output_type": "display_data"
    },
    {
     "data": {
      "text/latex": [
       "$\\displaystyle s_{t4_2} + s_{t4_3} - 14.0 \\leq 0$"
      ],
      "text/plain": [
       "<IPython.core.display.Math object>"
      ]
     },
     "metadata": {},
     "output_type": "display_data"
    },
    {
     "data": {
      "text/latex": [
       "$\\displaystyle  - s_{t4_2} - s_{t4_3} + 8.0 \\leq 0$"
      ],
      "text/plain": [
       "<IPython.core.display.Math object>"
      ]
     },
     "metadata": {},
     "output_type": "display_data"
    },
    {
     "data": {
      "text/latex": [
       "$\\displaystyle b_{t4_0} + p_{t4_0} - s_{t4_0} = 0$"
      ],
      "text/plain": [
       "<IPython.core.display.Math object>"
      ]
     },
     "metadata": {},
     "output_type": "display_data"
    },
    {
     "data": {
      "text/latex": [
       "$\\displaystyle b_{t4_1} + p_{t4_1} - s_{t4_1} = 0$"
      ],
      "text/plain": [
       "<IPython.core.display.Math object>"
      ]
     },
     "metadata": {},
     "output_type": "display_data"
    },
    {
     "data": {
      "text/latex": [
       "$\\displaystyle b_{t4_2} + p_{t4_2} - s_{t4_2} = 0$"
      ],
      "text/plain": [
       "<IPython.core.display.Math object>"
      ]
     },
     "metadata": {},
     "output_type": "display_data"
    },
    {
     "data": {
      "text/latex": [
       "$\\displaystyle b_{t4_3} + p_{t4_3} - s_{t4_3} = 0$"
      ],
      "text/plain": [
       "<IPython.core.display.Math object>"
      ]
     },
     "metadata": {},
     "output_type": "display_data"
    },
    {
     "data": {
      "text/latex": [
       "$\\displaystyle p_{t4_0} + p_{t4_1} + p_{t4_2} + p_{t4_3} - 50.0 \\leq 0$"
      ],
      "text/plain": [
       "<IPython.core.display.Math object>"
      ]
     },
     "metadata": {},
     "output_type": "display_data"
    }
   ],
   "source": [
    "p = Prg()\n",
    "p.t1 = I(1)\n",
    "p.t2 = I(2)\n",
    "p.t4 = I(4)\n",
    "p.b = V(p.t4)\n",
    "p.s = V(p.t4)\n",
    "p.p = V(p.t4)\n",
    "p.bal = P(p.t4, _=[0, 0, 0, 0])\n",
    "p.bub = P(p.t4, _=[12, 15, 18, 9])\n",
    "p.blb = P(p.t4, _=[3, 3, 3, 3])\n",
    "p.sub = P(p.t2, _=[15, 17])\n",
    "p.slb = P(p.t2, _=[4, 8])\n",
    "p.pub = P(p.t1, _=[50])\n",
    "p.plb = P(p.t1, _=[10])\n",
    "p.pcst = P(p.t4, _=[0.5] * 4)\n",
    "p.bcst = P(p.t4, _=[2] * 4)\n",
    "p.scst = P(p.t4, _=[3] * 4)\n",
    "p.bcnv = P(p.t4, _=[3] * 4)\n",
    "p.scnv = P(p.t4, _=[1] * 4)\n",
    "p.cons_bmax = p.b <= p.bub\n",
    "p.cons_bmin = p.b + p.s + p.p >= p.blb\n",
    "p.cons_smax1 = p.s(p.t4[0]) + 3 * p.s(p.t4[1]) <= p.sub(p.t2[0])\n",
    "p.cons_smin1 = p.s(p.t4_0) + p.s(p.t4[1]) >= p.slb(p.t2[0])\n",
    "p.cons_smax2 = 3 + p.s(p.t4[2]) + p.s(p.t4[3]) <= p.sub(p.t2[1])\n",
    "p.cons_smin2 = p.s(p.t4[2]) + p.s(p.t4[3]) >= p.slb(p.t2_1)\n",
    "p.cons_bal = p.b + p.p - p.s == 0\n",
    "p.cons_pmax = sum(p.p) <= sum(p.pub)\n",
    "# p.pprint()\n",
    "p.pprint(True)"
   ]
  },
  {
   "cell_type": "code",
   "execution_count": 9,
   "metadata": {},
   "outputs": [],
   "source": [
    "pp = p + p1 "
   ]
  },
  {
   "cell_type": "code",
   "execution_count": 12,
   "metadata": {},
   "outputs": [],
   "source": [
    "a,b = pp.matrix()"
   ]
  },
  {
   "cell_type": "code",
   "execution_count": 10,
   "metadata": {},
   "outputs": [
    {
     "data": {
      "text/plain": [
       "b"
      ]
     },
     "execution_count": 10,
     "metadata": {},
     "output_type": "execute_result"
    }
   ],
   "source": [
    "p.b "
   ]
  },
  {
   "cell_type": "code",
   "execution_count": null,
   "metadata": {},
   "outputs": [],
   "source": []
  },
  {
   "cell_type": "code",
   "execution_count": 11,
   "metadata": {},
   "outputs": [],
   "source": [
    "A, B = p.matrix()"
   ]
  },
  {
   "cell_type": "code",
   "execution_count": 12,
   "metadata": {},
   "outputs": [
    {
     "data": {
      "text/plain": [
       "[[1.0, 0, 0, 0, 0, 0, 0, 0, 0, 0, 0, 0],\n",
       " [0, 1.0, 0, 0, 0, 0, 0, 0, 0, 0, 0, 0],\n",
       " [0, 0, 1.0, 0, 0, 0, 0, 0, 0, 0, 0, 0],\n",
       " [0, 0, 0, 1.0, 0, 0, 0, 0, 0, 0, 0, 0],\n",
       " [-1.0, 0, 0, 0, -1.0, 0, 0, 0, -1.0, 0, 0, 0],\n",
       " [0, -1.0, 0, 0, 0, -1.0, 0, 0, 0, -1.0, 0, 0],\n",
       " [0, 0, -1.0, 0, 0, 0, -1.0, 0, 0, 0, -1.0, 0],\n",
       " [0, 0, 0, -1.0, 0, 0, 0, -1.0, 0, 0, 0, -1.0],\n",
       " [0, 0, 0, 0, 1.0, 3.0, 0, 0, 0, 0, 0, 0],\n",
       " [0, 0, 0, 0, -1.0, -1.0, 0, 0, 0, 0, 0, 0],\n",
       " [0, 0, 0, 0, 0, 0, 1.0, 1.0, 0, 0, 0, 0],\n",
       " [0, 0, 0, 0, 0, 0, -1.0, -1.0, 0, 0, 0, 0],\n",
       " [1.0, 0, 0, 0, -1.0, 0, 0, 0, 1.0, 0, 0, 0],\n",
       " [0, 1.0, 0, 0, 0, -1.0, 0, 0, 0, 1.0, 0, 0],\n",
       " [0, 0, 1.0, 0, 0, 0, -1.0, 0, 0, 0, 1.0, 0],\n",
       " [0, 0, 0, 1.0, 0, 0, 0, -1.0, 0, 0, 0, 1.0],\n",
       " [0, 0, 0, 0, 0, 0, 0, 0, 1.0, 1.0, 1.0, 1.0]]"
      ]
     },
     "execution_count": 12,
     "metadata": {},
     "output_type": "execute_result"
    }
   ],
   "source": [
    "A "
   ]
  },
  {
   "cell_type": "code",
   "execution_count": 13,
   "metadata": {},
   "outputs": [],
   "source": [
    "a, b = p.struct()"
   ]
  },
  {
   "cell_type": "code",
   "execution_count": 14,
   "metadata": {},
   "outputs": [
    {
     "data": {
      "text/plain": [
       "[[1.0, None, None, None, None, None, None, None, None, None, None, None],\n",
       " [None, 1.0, None, None, None, None, None, None, None, None, None, None],\n",
       " [None, None, 1.0, None, None, None, None, None, None, None, None, None],\n",
       " [None, None, None, 1.0, None, None, None, None, None, None, None, None],\n",
       " [-1.0, None, None, None, -1.0, None, None, None, -1.0, None, None, None],\n",
       " [None, -1.0, None, None, None, -1.0, None, None, None, -1.0, None, None],\n",
       " [None, None, -1.0, None, None, None, -1.0, None, None, None, -1.0, None],\n",
       " [None, None, None, -1.0, None, None, None, -1.0, None, None, None, -1.0],\n",
       " [None, None, None, None, 1.0, 3.0, None, None, None, None, None, None],\n",
       " [None, None, None, None, -1.0, -1.0, None, None, None, None, None, None],\n",
       " [None, None, None, None, None, None, 1.0, 1.0, None, None, None, None],\n",
       " [None, None, None, None, None, None, -1.0, -1.0, None, None, None, None],\n",
       " [1.0, None, None, None, -1.0, None, None, None, 1.0, None, None, None],\n",
       " [None, 1.0, None, None, None, -1.0, None, None, None, 1.0, None, None],\n",
       " [None, None, 1.0, None, None, None, -1.0, None, None, None, 1.0, None],\n",
       " [None, None, None, 1.0, None, None, None, -1.0, None, None, None, 1.0],\n",
       " [None, None, None, None, None, None, None, None, 1.0, 1.0, 1.0, 1.0]]"
      ]
     },
     "execution_count": 14,
     "metadata": {},
     "output_type": "execute_result"
    }
   ],
   "source": [
    "a  "
   ]
  },
  {
   "cell_type": "code",
   "execution_count": 15,
   "metadata": {},
   "outputs": [
    {
     "data": {
      "text/plain": [
       "[12.0,\n",
       " 15.0,\n",
       " 18.0,\n",
       " 9.0,\n",
       " -3.0,\n",
       " -3.0,\n",
       " -3.0,\n",
       " -3.0,\n",
       " 15.0,\n",
       " -4.0,\n",
       " 14.0,\n",
       " -8.0,\n",
       " 0,\n",
       " 0,\n",
       " 0,\n",
       " 0,\n",
       " 50.0]"
      ]
     },
     "execution_count": 15,
     "metadata": {},
     "output_type": "execute_result"
    }
   ],
   "source": [
    "B "
   ]
  },
  {
   "cell_type": "code",
   "execution_count": 16,
   "metadata": {},
   "outputs": [
    {
     "data": {
      "text/plain": [
       "[12.0,\n",
       " 15.0,\n",
       " 18.0,\n",
       " 9.0,\n",
       " -3.0,\n",
       " -3.0,\n",
       " -3.0,\n",
       " -3.0,\n",
       " 15.0,\n",
       " -4.0,\n",
       " 14.0,\n",
       " -8.0,\n",
       " 0,\n",
       " 0,\n",
       " 0,\n",
       " 0,\n",
       " 50.0]"
      ]
     },
     "execution_count": 16,
     "metadata": {},
     "output_type": "execute_result"
    }
   ],
   "source": [
    "[x if x else 0 for x in B]"
   ]
  },
  {
   "cell_type": "code",
   "execution_count": 17,
   "metadata": {},
   "outputs": [
    {
     "name": "stdout",
     "output_type": "stream",
     "text": [
      "b_0 - 12.0 [1.0] 12.0 [0]\n",
      "b_1 - 15.0 [1.0] 15.0 [1]\n",
      "b_2 - 18.0 [1.0] 18.0 [2]\n",
      "b_3 - 9.0 [1.0] 9.0 [3]\n",
      " - b_0 - s_0 - p_0 + 3.0 [-1.0, -1.0, -1.0] -3.0 [0, 4, 8]\n",
      " - b_1 - s_1 - p_1 + 3.0 [-1.0, -1.0, -1.0] -3.0 [1, 5, 9]\n",
      " - b_2 - s_2 - p_2 + 3.0 [-1.0, -1.0, -1.0] -3.0 [2, 6, 10]\n",
      " - b_3 - s_3 - p_3 + 3.0 [-1.0, -1.0, -1.0] -3.0 [3, 7, 11]\n",
      "s_0 + 3.0 × s_1 - 15.0 [1.0, 3.0] 15.0 [4, 5]\n",
      " - s_0 - s_1 + 4.0 [-1.0, -1.0] -4.0 [4, 5]\n",
      "s_2 + s_3 - 14.0 [1.0, 1.0] 14.0 [6, 7]\n",
      " - s_2 - s_3 + 8.0 [-1.0, -1.0] -8.0 [6, 7]\n",
      "b_0 + p_0 - s_0 [1.0, 1.0, -1.0] None [0, 8, 4]\n",
      "b_1 + p_1 - s_1 [1.0, 1.0, -1.0] None [1, 9, 5]\n",
      "b_2 + p_2 - s_2 [1.0, 1.0, -1.0] None [2, 10, 6]\n",
      "b_3 + p_3 - s_3 [1.0, 1.0, -1.0] None [3, 11, 7]\n",
      "p_0 + p_1 + p_2 + p_3 - 50.0 [1.0, 1.0, 1.0, 1.0] 50.0 [8, 9, 10, 11]\n"
     ]
    }
   ],
   "source": [
    "for v in p.constraints:\n",
    "    print(v.func.name, v.func.a, v.func.b, v.func.struct)"
   ]
  },
  {
   "cell_type": "code",
   "execution_count": 18,
   "metadata": {},
   "outputs": [],
   "source": [
    "a, b = p.matrix()"
   ]
  },
  {
   "cell_type": "code",
   "execution_count": 19,
   "metadata": {},
   "outputs": [
    {
     "data": {
      "text/plain": [
       "[[1.0, 0, 0, 0, 0, 0, 0, 0, 0, 0, 0, 0],\n",
       " [0, 1.0, 0, 0, 0, 0, 0, 0, 0, 0, 0, 0],\n",
       " [0, 0, 1.0, 0, 0, 0, 0, 0, 0, 0, 0, 0],\n",
       " [0, 0, 0, 1.0, 0, 0, 0, 0, 0, 0, 0, 0],\n",
       " [-1.0, 0, 0, 0, -1.0, 0, 0, 0, -1.0, 0, 0, 0],\n",
       " [0, -1.0, 0, 0, 0, -1.0, 0, 0, 0, -1.0, 0, 0],\n",
       " [0, 0, -1.0, 0, 0, 0, -1.0, 0, 0, 0, -1.0, 0],\n",
       " [0, 0, 0, -1.0, 0, 0, 0, -1.0, 0, 0, 0, -1.0],\n",
       " [0, 0, 0, 0, 1.0, 3.0, 0, 0, 0, 0, 0, 0],\n",
       " [0, 0, 0, 0, -1.0, -1.0, 0, 0, 0, 0, 0, 0],\n",
       " [0, 0, 0, 0, 0, 0, 1.0, 1.0, 0, 0, 0, 0],\n",
       " [0, 0, 0, 0, 0, 0, -1.0, -1.0, 0, 0, 0, 0],\n",
       " [1.0, 0, 0, 0, -1.0, 0, 0, 0, 1.0, 0, 0, 0],\n",
       " [0, 1.0, 0, 0, 0, -1.0, 0, 0, 0, 1.0, 0, 0],\n",
       " [0, 0, 1.0, 0, 0, 0, -1.0, 0, 0, 0, 1.0, 0],\n",
       " [0, 0, 0, 1.0, 0, 0, 0, -1.0, 0, 0, 0, 1.0],\n",
       " [0, 0, 0, 0, 0, 0, 0, 0, 1.0, 1.0, 1.0, 1.0]]"
      ]
     },
     "execution_count": 19,
     "metadata": {},
     "output_type": "execute_result"
    }
   ],
   "source": [
    "a "
   ]
  },
  {
   "cell_type": "code",
   "execution_count": 20,
   "metadata": {},
   "outputs": [
    {
     "data": {
      "text/plain": [
       "[12.0,\n",
       " 15.0,\n",
       " 18.0,\n",
       " 9.0,\n",
       " -3.0,\n",
       " -3.0,\n",
       " -3.0,\n",
       " -3.0,\n",
       " 15.0,\n",
       " -4.0,\n",
       " 14.0,\n",
       " -8.0,\n",
       " 0,\n",
       " 0,\n",
       " 0,\n",
       " 0,\n",
       " 50.0]"
      ]
     },
     "execution_count": 20,
     "metadata": {},
     "output_type": "execute_result"
    }
   ],
   "source": [
    "b "
   ]
  },
  {
   "cell_type": "code",
   "execution_count": 21,
   "metadata": {},
   "outputs": [
    {
     "data": {
      "text/plain": [
       "0.0"
      ]
     },
     "execution_count": 21,
     "metadata": {},
     "output_type": "execute_result"
    }
   ],
   "source": [
    "0.0 "
   ]
  },
  {
   "cell_type": "code",
   "execution_count": 22,
   "metadata": {},
   "outputs": [
    {
     "data": {
      "text/plain": [
       "[12.0,\n",
       " 15.0,\n",
       " 18.0,\n",
       " 9.0,\n",
       " -3.0,\n",
       " -3.0,\n",
       " -3.0,\n",
       " -3.0,\n",
       " 15.0,\n",
       " -4.0,\n",
       " 14.0,\n",
       " -8.0,\n",
       " 0,\n",
       " 0,\n",
       " 0,\n",
       " 0,\n",
       " 50.0]"
      ]
     },
     "execution_count": 22,
     "metadata": {},
     "output_type": "execute_result"
    }
   ],
   "source": [
    "b "
   ]
  },
  {
   "cell_type": "code",
   "execution_count": 23,
   "metadata": {},
   "outputs": [
    {
     "name": "stdout",
     "output_type": "stream",
     "text": [
      "17\n",
      "17\n",
      "17\n",
      "17\n",
      "17\n",
      "17\n",
      "17\n",
      "17\n",
      "17\n",
      "17\n",
      "17\n",
      "17\n",
      "17\n",
      "17\n",
      "17\n",
      "17\n",
      "17\n"
     ]
    }
   ],
   "source": [
    "for i in a: \n",
    "    print(len(a))"
   ]
  },
  {
   "cell_type": "code",
   "execution_count": 24,
   "metadata": {},
   "outputs": [
    {
     "name": "stdout",
     "output_type": "stream",
     "text": [
      "t1_0 0\n",
      "t2_0 1\n",
      "t2_1 2\n",
      "t4_0 3\n",
      "t4_1 4\n",
      "t4_2 5\n",
      "t4_3 6\n",
      "cons_bmax_0 0\n",
      "cons_bmax_1 1\n",
      "cons_bmax_2 2\n",
      "cons_bmax_3 3\n",
      "cons_bmin_0 4\n",
      "cons_bmin_1 5\n",
      "cons_bmin_2 6\n",
      "cons_bmin_3 7\n",
      "cons_smax1 8\n",
      "cons_smin1 9\n",
      "cons_smax2 10\n",
      "cons_smin2 11\n",
      "cons_bal_0 12\n",
      "cons_bal_1 13\n",
      "cons_bal_2 14\n",
      "cons_bal_3 15\n",
      "cons_pmax 16\n",
      "b_0 0\n",
      "b_1 1\n",
      "b_2 2\n",
      "b_3 3\n",
      "s_0 4\n",
      "s_1 5\n",
      "s_2 6\n",
      "s_3 7\n",
      "p_0 8\n",
      "p_1 9\n",
      "p_2 10\n",
      "p_3 11\n",
      "t1 0\n",
      "t2 1\n",
      "t4 2\n",
      "cons_bmax 0\n",
      "cons_bmin 1\n",
      "cons_bal 2\n",
      "b 0\n",
      "s 1\n",
      "p 2\n",
      "Bal 0\n",
      "Bub 1\n",
      "Blb 2\n",
      "Sub 3\n",
      "Slb 4\n",
      "Pub 5\n",
      "Plb 6\n",
      "Pcst 7\n",
      "Bcst 8\n",
      "Scst 9\n",
      "Bcnv 10\n",
      "Scnv 11\n"
     ]
    }
   ],
   "source": [
    "for v in p.indices + p.constraints + p.variables:\n",
    "    print(v.name, v.n)\n",
    "\n",
    "for v in p.idxsets + p.conssets + p.varsets + p.parsets:\n",
    "    print(v.name, v.n)"
   ]
  },
  {
   "cell_type": "code",
   "execution_count": 25,
   "metadata": {},
   "outputs": [
    {
     "data": {
      "text/plain": [
       "[1.0]"
      ]
     },
     "execution_count": 25,
     "metadata": {},
     "output_type": "execute_result"
    }
   ],
   "source": [
    "p.cons_bmax_0.func.a"
   ]
  },
  {
   "cell_type": "code",
   "execution_count": 26,
   "metadata": {},
   "outputs": [
    {
     "data": {
      "text/plain": [
       "([1.0], 12.0)"
      ]
     },
     "execution_count": 26,
     "metadata": {},
     "output_type": "execute_result"
    }
   ],
   "source": [
    "p.cons_bmax_0.func.a, p.cons_bmax_0.func.b"
   ]
  },
  {
   "cell_type": "code",
   "execution_count": 27,
   "metadata": {},
   "outputs": [
    {
     "data": {
      "text/plain": [
       "[-1.0, -1.0]"
      ]
     },
     "execution_count": 27,
     "metadata": {},
     "output_type": "execute_result"
    }
   ],
   "source": [
    "p.cons_smin1.func.a"
   ]
  },
  {
   "cell_type": "code",
   "execution_count": null,
   "metadata": {},
   "outputs": [],
   "source": []
  }
 ],
 "metadata": {
  "kernelspec": {
   "display_name": ".venv",
   "language": "python",
   "name": "python3"
  },
  "language_info": {
   "codemirror_mode": {
    "name": "ipython",
    "version": 3
   },
   "file_extension": ".py",
   "mimetype": "text/x-python",
   "name": "python",
   "nbconvert_exporter": "python",
   "pygments_lexer": "ipython3",
   "version": "3.12.7"
  }
 },
 "nbformat": 4,
 "nbformat_minor": 2
}
