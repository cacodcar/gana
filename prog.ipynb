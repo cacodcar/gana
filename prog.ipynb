{
 "cells": [
  {
   "cell_type": "code",
   "execution_count": 1,
   "metadata": {},
   "outputs": [],
   "source": [
    "import sys\n",
    "\n",
    "sys.path.append('src')"
   ]
  },
  {
   "cell_type": "code",
   "execution_count": 2,
   "metadata": {},
   "outputs": [],
   "source": [
    "from gana.block.program import Prg\n",
    "from gana.sets.indices import I\n",
    "from gana.sets.variables import V\n",
    "\n",
    "from gana.sets.parameters import P\n",
    "\n",
    "# from gana.sets.theta import T\n",
    "# from gana.sets.objective import O\n",
    "# from IPython.display import Math, display\n",
    "from pyomo.environ import ConcreteModel, Set"
   ]
  },
  {
   "cell_type": "code",
   "execution_count": 3,
   "metadata": {},
   "outputs": [
    {
     "name": "stdout",
     "output_type": "stream",
     "text": [
      "0\n",
      "1\n",
      "2\n",
      "3\n",
      "4\n",
      "5\n",
      "6\n",
      "7\n",
      "8\n",
      "9\n",
      "10\n",
      "11\n",
      "12\n"
     ]
    },
    {
     "data": {
      "text/latex": [
       "$\\displaystyle \\mathcal{i0}\\in\\{x\\}$"
      ],
      "text/plain": [
       "<IPython.core.display.Math object>"
      ]
     },
     "metadata": {},
     "output_type": "display_data"
    },
    {
     "data": {
      "text/latex": [
       "$\\displaystyle \\mathcal{i1}\\in\\{x, y, z\\}$"
      ],
      "text/plain": [
       "<IPython.core.display.Math object>"
      ]
     },
     "metadata": {},
     "output_type": "display_data"
    },
    {
     "data": {
      "text/latex": [
       "$\\displaystyle \\mathcal{i2}\\in\\{p, q\\}$"
      ],
      "text/plain": [
       "<IPython.core.display.Math object>"
      ]
     },
     "metadata": {},
     "output_type": "display_data"
    },
    {
     "data": {
      "text/latex": [
       "$\\displaystyle \\mathcal{i3}\\in\\{x, y, z, p, q, y\\}$"
      ],
      "text/plain": [
       "<IPython.core.display.Math object>"
      ]
     },
     "metadata": {},
     "output_type": "display_data"
    },
    {
     "data": {
      "text/latex": [
       "$\\displaystyle \\mathcal{i4}\\in\\{x, y, z\\}$"
      ],
      "text/plain": [
       "<IPython.core.display.Math object>"
      ]
     },
     "metadata": {},
     "output_type": "display_data"
    },
    {
     "data": {
      "text/latex": [
       "$\\displaystyle \\mathcal{i5}\\in\\{i5_0, i5_1, i5_2\\}$"
      ],
      "text/plain": [
       "<IPython.core.display.Math object>"
      ]
     },
     "metadata": {},
     "output_type": "display_data"
    },
    {
     "data": {
      "text/latex": [
       "$\\displaystyle v22_{x, p} - v2_{x, p} = 0$"
      ],
      "text/plain": [
       "<IPython.core.display.Math object>"
      ]
     },
     "metadata": {},
     "output_type": "display_data"
    },
    {
     "data": {
      "text/latex": [
       "$\\displaystyle v22_{x, q} - v2_{x, q} = 0$"
      ],
      "text/plain": [
       "<IPython.core.display.Math object>"
      ]
     },
     "metadata": {},
     "output_type": "display_data"
    },
    {
     "data": {
      "text/latex": [
       "$\\displaystyle v2_{x, p} - v22_{x, p} \\leq 0$"
      ],
      "text/plain": [
       "<IPython.core.display.Math object>"
      ]
     },
     "metadata": {},
     "output_type": "display_data"
    },
    {
     "data": {
      "text/latex": [
       "$\\displaystyle v2_{x, q} - v22_{x, q} \\leq 0$"
      ],
      "text/plain": [
       "<IPython.core.display.Math object>"
      ]
     },
     "metadata": {},
     "output_type": "display_data"
    },
    {
     "data": {
      "text/latex": [
       "$\\displaystyle v22_{x, p} - v2_{x, p} \\leq 0$"
      ],
      "text/plain": [
       "<IPython.core.display.Math object>"
      ]
     },
     "metadata": {},
     "output_type": "display_data"
    },
    {
     "data": {
      "text/latex": [
       "$\\displaystyle v22_{x, q} - v2_{x, q} \\leq 0$"
      ],
      "text/plain": [
       "<IPython.core.display.Math object>"
      ]
     },
     "metadata": {},
     "output_type": "display_data"
    },
    {
     "data": {
      "text/latex": [
       "$\\displaystyle v2_{x, p} - v22_{x, p} \\leq 0$"
      ],
      "text/plain": [
       "<IPython.core.display.Math object>"
      ]
     },
     "metadata": {},
     "output_type": "display_data"
    },
    {
     "data": {
      "text/latex": [
       "$\\displaystyle v2_{x, q} - v22_{x, q} \\leq 0$"
      ],
      "text/plain": [
       "<IPython.core.display.Math object>"
      ]
     },
     "metadata": {},
     "output_type": "display_data"
    },
    {
     "data": {
      "text/latex": [
       "$\\displaystyle v22_{x, p} - v2_{x, p} \\leq 0$"
      ],
      "text/plain": [
       "<IPython.core.display.Math object>"
      ]
     },
     "metadata": {},
     "output_type": "display_data"
    },
    {
     "data": {
      "text/latex": [
       "$\\displaystyle v22_{x, q} - v2_{x, q} \\leq 0$"
      ],
      "text/plain": [
       "<IPython.core.display.Math object>"
      ]
     },
     "metadata": {},
     "output_type": "display_data"
    },
    {
     "data": {
      "text/latex": [
       "$\\displaystyle v1_{x} - 3.0 \\leq 0$"
      ],
      "text/plain": [
       "<IPython.core.display.Math object>"
      ]
     },
     "metadata": {},
     "output_type": "display_data"
    },
    {
     "data": {
      "text/latex": [
       "$\\displaystyle v1_{y} - 4.0 \\leq 0$"
      ],
      "text/plain": [
       "<IPython.core.display.Math object>"
      ]
     },
     "metadata": {},
     "output_type": "display_data"
    },
    {
     "data": {
      "text/latex": [
       "$\\displaystyle v1_{z} - 7.0 \\leq 0$"
      ],
      "text/plain": [
       "<IPython.core.display.Math object>"
      ]
     },
     "metadata": {},
     "output_type": "display_data"
    }
   ],
   "source": [
    "p1 = Prg()\n",
    "p1.i0 = I('x')\n",
    "p1.i1 = I('x', 'y', 'z')\n",
    "p1.i2 = I('p', 'q')\n",
    "p1.i3 = I('x', 'y', 'z', 'p', 'q', 'y')\n",
    "p1.i4 = I('x', 'y', 'z')\n",
    "p1.i5 = I(3)\n",
    "\n",
    "\n",
    "# p1.i5 = p1.i0 * p1.i1\n",
    "p1.v0 = V(p1.i0)\n",
    "p1.v1 = V(p1.i1)\n",
    "p1.v12 = V(p1.i1, nn=False)\n",
    "p1.v2 = V(p1.i0, p1.i2, itg=True)\n",
    "p1.v22 = V(p1.i0, p1.i2, nn=False)\n",
    "p1.v32 = V(p1.i0, bnr=True)\n",
    "\n",
    "p1.p0 = P(p1.i0, p1.i5, _=[1, 2, 5])\n",
    "p1.p1 = P(p1.i0, _=[4])\n",
    "p1.p2 = P(p1.i0, p1.i5, _=[6, 8, 3])\n",
    "p1.p3 = P(p1.i0, _=[True])\n",
    "p1.p4 = P(p1.i0, p1.i5, _=[10, 10, 10])\n",
    "p1.p5 = P(p1.i0, p1.i5, _=[4, 2, 7])\n",
    "p1.p6 = P(p1.i1, _=[3, 4, 7])\n",
    "\n",
    "p1.f1 = p1.v22 + p1.v2\n",
    "p1.f2 = p1.v22 - p1.v2\n",
    "p1.f3 = p1.v22 * p1.v2\n",
    "p1.f4 = p1.v22 / p1.v2\n",
    "\n",
    "p1.c1 = p1.v22 == p1.v2\n",
    "p1.c2 = p1.v22 >= p1.v2\n",
    "p1.c3 = p1.v22 <= p1.v2\n",
    "p1.c4 = p1.v22 > p1.v2\n",
    "p1.c5 = p1.v22 < p1.v2\n",
    "p1.c6 = p1.v1 <= p1.p6\n",
    "\n",
    "p1.pprint(True)"
   ]
  },
  {
   "cell_type": "code",
   "execution_count": 4,
   "metadata": {},
   "outputs": [
    {
     "name": "stdout",
     "output_type": "stream",
     "text": [
      "0\n",
      "1\n",
      "2\n",
      "3\n",
      "4\n",
      "5\n",
      "6\n",
      "7\n",
      "8\n",
      "9\n",
      "10\n",
      "11\n",
      "12\n",
      "13\n",
      "14\n",
      "15\n",
      "16\n"
     ]
    },
    {
     "data": {
      "text/latex": [
       "$\\displaystyle \\mathcal{t1}\\in\\{t1_0\\}$"
      ],
      "text/plain": [
       "<IPython.core.display.Math object>"
      ]
     },
     "metadata": {},
     "output_type": "display_data"
    },
    {
     "data": {
      "text/latex": [
       "$\\displaystyle \\mathcal{t2}\\in\\{t2_0, t2_1\\}$"
      ],
      "text/plain": [
       "<IPython.core.display.Math object>"
      ]
     },
     "metadata": {},
     "output_type": "display_data"
    },
    {
     "data": {
      "text/latex": [
       "$\\displaystyle \\mathcal{t4}\\in\\{t4_0, t4_1, t4_2, t4_3\\}$"
      ],
      "text/plain": [
       "<IPython.core.display.Math object>"
      ]
     },
     "metadata": {},
     "output_type": "display_data"
    },
    {
     "data": {
      "text/latex": [
       "$\\displaystyle c_{t4_0} - 12.0 \\leq 0$"
      ],
      "text/plain": [
       "<IPython.core.display.Math object>"
      ]
     },
     "metadata": {},
     "output_type": "display_data"
    },
    {
     "data": {
      "text/latex": [
       "$\\displaystyle c_{t4_1} - 15.0 \\leq 0$"
      ],
      "text/plain": [
       "<IPython.core.display.Math object>"
      ]
     },
     "metadata": {},
     "output_type": "display_data"
    },
    {
     "data": {
      "text/latex": [
       "$\\displaystyle c_{t4_2} - 18.0 \\leq 0$"
      ],
      "text/plain": [
       "<IPython.core.display.Math object>"
      ]
     },
     "metadata": {},
     "output_type": "display_data"
    },
    {
     "data": {
      "text/latex": [
       "$\\displaystyle c_{t4_3} - 9.0 \\leq 0$"
      ],
      "text/plain": [
       "<IPython.core.display.Math object>"
      ]
     },
     "metadata": {},
     "output_type": "display_data"
    },
    {
     "data": {
      "text/latex": [
       "$\\displaystyle  - c_{t4_0} - s_{t4_0} - p_{t4_0} + 3.0 \\leq 0$"
      ],
      "text/plain": [
       "<IPython.core.display.Math object>"
      ]
     },
     "metadata": {},
     "output_type": "display_data"
    },
    {
     "data": {
      "text/latex": [
       "$\\displaystyle  - c_{t4_1} - s_{t4_1} - p_{t4_1} + 3.0 \\leq 0$"
      ],
      "text/plain": [
       "<IPython.core.display.Math object>"
      ]
     },
     "metadata": {},
     "output_type": "display_data"
    },
    {
     "data": {
      "text/latex": [
       "$\\displaystyle  - c_{t4_2} - s_{t4_2} - p_{t4_2} + 3.0 \\leq 0$"
      ],
      "text/plain": [
       "<IPython.core.display.Math object>"
      ]
     },
     "metadata": {},
     "output_type": "display_data"
    },
    {
     "data": {
      "text/latex": [
       "$\\displaystyle  - c_{t4_3} - s_{t4_3} - p_{t4_3} + 3.0 \\leq 0$"
      ],
      "text/plain": [
       "<IPython.core.display.Math object>"
      ]
     },
     "metadata": {},
     "output_type": "display_data"
    },
    {
     "data": {
      "text/latex": [
       "$\\displaystyle s_{t4_0} + s_{t4_1} \\cdot 3.0 - 15.0 \\leq 0$"
      ],
      "text/plain": [
       "<IPython.core.display.Math object>"
      ]
     },
     "metadata": {},
     "output_type": "display_data"
    },
    {
     "data": {
      "text/latex": [
       "$\\displaystyle  - s_{t4_0} - s_{t4_1} + 4.0 \\leq 0$"
      ],
      "text/plain": [
       "<IPython.core.display.Math object>"
      ]
     },
     "metadata": {},
     "output_type": "display_data"
    },
    {
     "data": {
      "text/latex": [
       "$\\displaystyle s_{t4_2} + s_{t4_3} - 14.0 \\leq 0$"
      ],
      "text/plain": [
       "<IPython.core.display.Math object>"
      ]
     },
     "metadata": {},
     "output_type": "display_data"
    },
    {
     "data": {
      "text/latex": [
       "$\\displaystyle  - s_{t4_2} - s_{t4_3} + 8.0 \\leq 0$"
      ],
      "text/plain": [
       "<IPython.core.display.Math object>"
      ]
     },
     "metadata": {},
     "output_type": "display_data"
    },
    {
     "data": {
      "text/latex": [
       "$\\displaystyle c_{t4_0} + p_{t4_0} - s_{t4_0} = 0$"
      ],
      "text/plain": [
       "<IPython.core.display.Math object>"
      ]
     },
     "metadata": {},
     "output_type": "display_data"
    },
    {
     "data": {
      "text/latex": [
       "$\\displaystyle c_{t4_1} + p_{t4_1} - s_{t4_1} = 0$"
      ],
      "text/plain": [
       "<IPython.core.display.Math object>"
      ]
     },
     "metadata": {},
     "output_type": "display_data"
    },
    {
     "data": {
      "text/latex": [
       "$\\displaystyle c_{t4_2} + p_{t4_2} - s_{t4_2} = 0$"
      ],
      "text/plain": [
       "<IPython.core.display.Math object>"
      ]
     },
     "metadata": {},
     "output_type": "display_data"
    },
    {
     "data": {
      "text/latex": [
       "$\\displaystyle c_{t4_3} + p_{t4_3} - s_{t4_3} = 0$"
      ],
      "text/plain": [
       "<IPython.core.display.Math object>"
      ]
     },
     "metadata": {},
     "output_type": "display_data"
    },
    {
     "data": {
      "text/latex": [
       "$\\displaystyle p_{t4_0} + p_{t4_1} + p_{t4_2} + p_{t4_3} - 50.0 \\leq 0$"
      ],
      "text/plain": [
       "<IPython.core.display.Math object>"
      ]
     },
     "metadata": {},
     "output_type": "display_data"
    }
   ],
   "source": [
    "p = Prg()\n",
    "p.t1 = I(1)\n",
    "p.t2 = I(2)\n",
    "p.t4 = I(4)\n",
    "p.c = V(p.t4)\n",
    "p.s = V(p.t4)\n",
    "p.p = V(p.t4)\n",
    "p.bal = P(p.t4, _=[0, 0, 0, 0])\n",
    "p.bub = P(p.t4, _=[12, 15, 18, 9])\n",
    "p.blb = P(p.t4, _=[3, 3, 3, 3])\n",
    "p.sub = P(p.t2, _=[15, 17])\n",
    "p.slb = P(p.t2, _=[4, 8])\n",
    "p.pub = P(p.t1, _=[50])\n",
    "p.plb = P(p.t1, _=[10])\n",
    "p.pcst = P(p.t4, _=[0.5] * 4)\n",
    "p.bcst = P(p.t4, _=[2] * 4)\n",
    "p.scst = P(p.t4, _=[3] * 4)\n",
    "p.bcnv = P(p.t4, _=[3] * 4)\n",
    "p.scnv = P(p.t4, _=[1] * 4)\n",
    "p.cons_bmax = p.c <= p.bub\n",
    "p.cons_bmin = p.c + p.s + p.p >= p.blb\n",
    "p.cons_smax1 = p.s(p.t4[0]) + 3 * p.s(p.t4[1]) <= p.sub(p.t2[0])\n",
    "p.cons_smin1 = p.s(p.t4_0) + p.s(p.t4[1]) >= p.slb(p.t2[0])\n",
    "p.cons_smax2 = 3 + p.s(p.t4[2]) + p.s(p.t4[3]) <= p.sub(p.t2[1])\n",
    "p.cons_smin2 = p.s(p.t4[2]) + p.s(p.t4[3]) >= p.slb(p.t2_1)\n",
    "p.cons_bal = p.c + p.p - p.s == 0\n",
    "p.cons_pmax = sum(p.p) <= sum(p.pub)\n",
    "# p.pprint()\n",
    "p.pprint(True)"
   ]
  },
  {
   "cell_type": "code",
   "execution_count": 5,
   "metadata": {},
   "outputs": [
    {
     "name": "stdout",
     "output_type": "stream",
     "text": [
      "0\n",
      "1\n",
      "2\n",
      "3\n",
      "4\n",
      "5\n",
      "6\n",
      "7\n",
      "8\n",
      "9\n",
      "10\n",
      "11\n",
      "12\n",
      "13\n",
      "14\n",
      "15\n",
      "16\n"
     ]
    }
   ],
   "source": [
    "for c in p.constraints:\n",
    "    print(c.n)"
   ]
  },
  {
   "cell_type": "code",
   "execution_count": 6,
   "metadata": {},
   "outputs": [
    {
     "data": {
      "text/plain": [
       "[[1.0, 0, 0, 0, 0, 0, 0, 0, 0, 0, 0, 0],\n",
       " [0, 1.0, 0, 0, 0, 0, 0, 0, 0, 0, 0, 0],\n",
       " [0, 0, 1.0, 0, 0, 0, 0, 0, 0, 0, 0, 0],\n",
       " [0, 0, 0, 1.0, 0, 0, 0, 0, 0, 0, 0, 0],\n",
       " [-1.0, 0, 0, 0, -1.0, 0, 0, 0, -1.0, 0, 0, 0],\n",
       " [0, -1.0, 0, 0, 0, -1.0, 0, 0, 0, -1.0, 0, 0],\n",
       " [0, 0, -1.0, 0, 0, 0, -1.0, 0, 0, 0, -1.0, 0],\n",
       " [0, 0, 0, -1.0, 0, 0, 0, -1.0, 0, 0, 0, -1.0],\n",
       " [0, 0, 0, 0, 1.0, 3.0, 0, 0, 0, 0, 0, 0],\n",
       " [0, 0, 0, 0, -1.0, -1.0, 0, 0, 0, 0, 0, 0],\n",
       " [0, 0, 0, 0, 0, 0, 1.0, 1.0, 0, 0, 0, 0],\n",
       " [0, 0, 0, 0, 0, 0, -1.0, -1.0, 0, 0, 0, 0],\n",
       " [1.0, 0, 0, 0, -1.0, 0, 0, 0, 1.0, 0, 0, 0],\n",
       " [0, 1.0, 0, 0, 0, -1.0, 0, 0, 0, 1.0, 0, 0],\n",
       " [0, 0, 1.0, 0, 0, 0, -1.0, 0, 0, 0, 1.0, 0],\n",
       " [0, 0, 0, 1.0, 0, 0, 0, -1.0, 0, 0, 0, 1.0],\n",
       " [0, 0, 0, 0, 0, 0, 0, 0, 1.0, 1.0, 1.0, 1.0]]"
      ]
     },
     "execution_count": 6,
     "metadata": {},
     "output_type": "execute_result"
    }
   ],
   "source": [
    "p.a(zero=True)"
   ]
  },
  {
   "cell_type": "code",
   "execution_count": 7,
   "metadata": {},
   "outputs": [],
   "source": [
    "m  = p.pyomo()"
   ]
  },
  {
   "cell_type": "code",
   "execution_count": 8,
   "metadata": {},
   "outputs": [
    {
     "name": "stdout",
     "output_type": "stream",
     "text": [
      "3 Set Declarations\n",
      "    t1 : t1\n",
      "        Size=1, Index=None, Ordered=Insertion\n",
      "        Key  : Dimen : Domain : Size : Members\n",
      "        None :     1 :    Any :    1 : {'t1_0',}\n",
      "    t2 : t2\n",
      "        Size=1, Index=None, Ordered=Insertion\n",
      "        Key  : Dimen : Domain : Size : Members\n",
      "        None :     1 :    Any :    2 : {'t2_0', 't2_1'}\n",
      "    t4 : t4\n",
      "        Size=1, Index=None, Ordered=Insertion\n",
      "        Key  : Dimen : Domain : Size : Members\n",
      "        None :     1 :    Any :    4 : {'t4_0', 't4_1', 't4_2', 't4_3'}\n",
      "\n",
      "3 Var Declarations\n",
      "    c : c\n",
      "        Size=4, Index={t4_0, t4_1, t4_2, t4_3}\n",
      "        Key  : Lower : Value : Upper : Fixed : Stale : Domain\n",
      "        t4_0 :     0 :  None :  None : False :  True : NonNegativeReals\n",
      "        t4_1 :     0 :  None :  None : False :  True : NonNegativeReals\n",
      "        t4_2 :     0 :  None :  None : False :  True : NonNegativeReals\n",
      "        t4_3 :     0 :  None :  None : False :  True : NonNegativeReals\n",
      "    p : p\n",
      "        Size=4, Index={t4_0, t4_1, t4_2, t4_3}\n",
      "        Key  : Lower : Value : Upper : Fixed : Stale : Domain\n",
      "        t4_0 :     0 :  None :  None : False :  True : NonNegativeReals\n",
      "        t4_1 :     0 :  None :  None : False :  True : NonNegativeReals\n",
      "        t4_2 :     0 :  None :  None : False :  True : NonNegativeReals\n",
      "        t4_3 :     0 :  None :  None : False :  True : NonNegativeReals\n",
      "    s : s\n",
      "        Size=4, Index={t4_0, t4_1, t4_2, t4_3}\n",
      "        Key  : Lower : Value : Upper : Fixed : Stale : Domain\n",
      "        t4_0 :     0 :  None :  None : False :  True : NonNegativeReals\n",
      "        t4_1 :     0 :  None :  None : False :  True : NonNegativeReals\n",
      "        t4_2 :     0 :  None :  None : False :  True : NonNegativeReals\n",
      "        t4_3 :     0 :  None :  None : False :  True : NonNegativeReals\n",
      "\n",
      "6 Declarations: t1 t2 t4 c s p\n"
     ]
    }
   ],
   "source": [
    "m.pprint()"
   ]
  },
  {
   "cell_type": "code",
   "execution_count": 9,
   "metadata": {},
   "outputs": [
    {
     "data": {
      "text/latex": [
       "$\\displaystyle \\mathcal{t1}\\in\\{t1_0\\}$"
      ],
      "text/plain": [
       "<IPython.core.display.Math object>"
      ]
     },
     "metadata": {},
     "output_type": "display_data"
    },
    {
     "data": {
      "text/latex": [
       "$\\displaystyle \\mathcal{t2}\\in\\{t2_0, t2_1\\}$"
      ],
      "text/plain": [
       "<IPython.core.display.Math object>"
      ]
     },
     "metadata": {},
     "output_type": "display_data"
    },
    {
     "data": {
      "text/latex": [
       "$\\displaystyle \\mathcal{t4}\\in\\{t4_0, t4_1, t4_2, t4_3\\}$"
      ],
      "text/plain": [
       "<IPython.core.display.Math object>"
      ]
     },
     "metadata": {},
     "output_type": "display_data"
    },
    {
     "data": {
      "text/latex": [
       "$\\displaystyle c_{t4_0} - 12.0 \\leq 0$"
      ],
      "text/plain": [
       "<IPython.core.display.Math object>"
      ]
     },
     "metadata": {},
     "output_type": "display_data"
    },
    {
     "data": {
      "text/latex": [
       "$\\displaystyle c_{t4_1} - 15.0 \\leq 0$"
      ],
      "text/plain": [
       "<IPython.core.display.Math object>"
      ]
     },
     "metadata": {},
     "output_type": "display_data"
    },
    {
     "data": {
      "text/latex": [
       "$\\displaystyle c_{t4_2} - 18.0 \\leq 0$"
      ],
      "text/plain": [
       "<IPython.core.display.Math object>"
      ]
     },
     "metadata": {},
     "output_type": "display_data"
    },
    {
     "data": {
      "text/latex": [
       "$\\displaystyle c_{t4_3} - 9.0 \\leq 0$"
      ],
      "text/plain": [
       "<IPython.core.display.Math object>"
      ]
     },
     "metadata": {},
     "output_type": "display_data"
    },
    {
     "data": {
      "text/latex": [
       "$\\displaystyle  - c_{t4_0} - s_{t4_0} - p_{t4_0} + 3.0 \\leq 0$"
      ],
      "text/plain": [
       "<IPython.core.display.Math object>"
      ]
     },
     "metadata": {},
     "output_type": "display_data"
    },
    {
     "data": {
      "text/latex": [
       "$\\displaystyle  - c_{t4_1} - s_{t4_1} - p_{t4_1} + 3.0 \\leq 0$"
      ],
      "text/plain": [
       "<IPython.core.display.Math object>"
      ]
     },
     "metadata": {},
     "output_type": "display_data"
    },
    {
     "data": {
      "text/latex": [
       "$\\displaystyle  - c_{t4_2} - s_{t4_2} - p_{t4_2} + 3.0 \\leq 0$"
      ],
      "text/plain": [
       "<IPython.core.display.Math object>"
      ]
     },
     "metadata": {},
     "output_type": "display_data"
    },
    {
     "data": {
      "text/latex": [
       "$\\displaystyle  - c_{t4_3} - s_{t4_3} - p_{t4_3} + 3.0 \\leq 0$"
      ],
      "text/plain": [
       "<IPython.core.display.Math object>"
      ]
     },
     "metadata": {},
     "output_type": "display_data"
    },
    {
     "data": {
      "text/latex": [
       "$\\displaystyle s_{t4_0} + s_{t4_1} \\cdot 3.0 - 15.0 \\leq 0$"
      ],
      "text/plain": [
       "<IPython.core.display.Math object>"
      ]
     },
     "metadata": {},
     "output_type": "display_data"
    },
    {
     "data": {
      "text/latex": [
       "$\\displaystyle  - s_{t4_0} - s_{t4_1} + 4.0 \\leq 0$"
      ],
      "text/plain": [
       "<IPython.core.display.Math object>"
      ]
     },
     "metadata": {},
     "output_type": "display_data"
    },
    {
     "data": {
      "text/latex": [
       "$\\displaystyle s_{t4_2} + s_{t4_3} - 14.0 \\leq 0$"
      ],
      "text/plain": [
       "<IPython.core.display.Math object>"
      ]
     },
     "metadata": {},
     "output_type": "display_data"
    },
    {
     "data": {
      "text/latex": [
       "$\\displaystyle  - s_{t4_2} - s_{t4_3} + 8.0 \\leq 0$"
      ],
      "text/plain": [
       "<IPython.core.display.Math object>"
      ]
     },
     "metadata": {},
     "output_type": "display_data"
    },
    {
     "data": {
      "text/latex": [
       "$\\displaystyle c_{t4_0} + p_{t4_0} - s_{t4_0} = 0$"
      ],
      "text/plain": [
       "<IPython.core.display.Math object>"
      ]
     },
     "metadata": {},
     "output_type": "display_data"
    },
    {
     "data": {
      "text/latex": [
       "$\\displaystyle c_{t4_1} + p_{t4_1} - s_{t4_1} = 0$"
      ],
      "text/plain": [
       "<IPython.core.display.Math object>"
      ]
     },
     "metadata": {},
     "output_type": "display_data"
    },
    {
     "data": {
      "text/latex": [
       "$\\displaystyle c_{t4_2} + p_{t4_2} - s_{t4_2} = 0$"
      ],
      "text/plain": [
       "<IPython.core.display.Math object>"
      ]
     },
     "metadata": {},
     "output_type": "display_data"
    },
    {
     "data": {
      "text/latex": [
       "$\\displaystyle c_{t4_3} + p_{t4_3} - s_{t4_3} = 0$"
      ],
      "text/plain": [
       "<IPython.core.display.Math object>"
      ]
     },
     "metadata": {},
     "output_type": "display_data"
    },
    {
     "data": {
      "text/latex": [
       "$\\displaystyle p_{t4_0} + p_{t4_1} + p_{t4_2} + p_{t4_3} - 50.0 \\leq 0$"
      ],
      "text/plain": [
       "<IPython.core.display.Math object>"
      ]
     },
     "metadata": {},
     "output_type": "display_data"
    }
   ],
   "source": [
    "p.pprint(True)"
   ]
  },
  {
   "cell_type": "code",
   "execution_count": 10,
   "metadata": {},
   "outputs": [
    {
     "data": {
      "text/latex": [
       "$\\displaystyle \\mathcal{i0}\\in\\{x\\}$"
      ],
      "text/plain": [
       "<IPython.core.display.Math object>"
      ]
     },
     "metadata": {},
     "output_type": "display_data"
    },
    {
     "data": {
      "text/latex": [
       "$\\displaystyle \\mathcal{i1}\\in\\{x, y, z\\}$"
      ],
      "text/plain": [
       "<IPython.core.display.Math object>"
      ]
     },
     "metadata": {},
     "output_type": "display_data"
    },
    {
     "data": {
      "text/latex": [
       "$\\displaystyle \\mathcal{i2}\\in\\{p, q\\}$"
      ],
      "text/plain": [
       "<IPython.core.display.Math object>"
      ]
     },
     "metadata": {},
     "output_type": "display_data"
    },
    {
     "data": {
      "text/latex": [
       "$\\displaystyle \\mathcal{i3}\\in\\{x, y, z, p, q, y\\}$"
      ],
      "text/plain": [
       "<IPython.core.display.Math object>"
      ]
     },
     "metadata": {},
     "output_type": "display_data"
    },
    {
     "data": {
      "text/latex": [
       "$\\displaystyle \\mathcal{i4}\\in\\{x, y, z\\}$"
      ],
      "text/plain": [
       "<IPython.core.display.Math object>"
      ]
     },
     "metadata": {},
     "output_type": "display_data"
    },
    {
     "data": {
      "text/latex": [
       "$\\displaystyle \\mathcal{i5}\\in\\{i5_0, i5_1, i5_2\\}$"
      ],
      "text/plain": [
       "<IPython.core.display.Math object>"
      ]
     },
     "metadata": {},
     "output_type": "display_data"
    },
    {
     "data": {
      "text/latex": [
       "$\\displaystyle v22_{x, p} - v2_{x, p} = 0$"
      ],
      "text/plain": [
       "<IPython.core.display.Math object>"
      ]
     },
     "metadata": {},
     "output_type": "display_data"
    },
    {
     "data": {
      "text/latex": [
       "$\\displaystyle v22_{x, q} - v2_{x, q} = 0$"
      ],
      "text/plain": [
       "<IPython.core.display.Math object>"
      ]
     },
     "metadata": {},
     "output_type": "display_data"
    },
    {
     "data": {
      "text/latex": [
       "$\\displaystyle v2_{x, p} - v22_{x, p} \\leq 0$"
      ],
      "text/plain": [
       "<IPython.core.display.Math object>"
      ]
     },
     "metadata": {},
     "output_type": "display_data"
    },
    {
     "data": {
      "text/latex": [
       "$\\displaystyle v2_{x, q} - v22_{x, q} \\leq 0$"
      ],
      "text/plain": [
       "<IPython.core.display.Math object>"
      ]
     },
     "metadata": {},
     "output_type": "display_data"
    },
    {
     "data": {
      "text/latex": [
       "$\\displaystyle v22_{x, p} - v2_{x, p} \\leq 0$"
      ],
      "text/plain": [
       "<IPython.core.display.Math object>"
      ]
     },
     "metadata": {},
     "output_type": "display_data"
    },
    {
     "data": {
      "text/latex": [
       "$\\displaystyle v22_{x, q} - v2_{x, q} \\leq 0$"
      ],
      "text/plain": [
       "<IPython.core.display.Math object>"
      ]
     },
     "metadata": {},
     "output_type": "display_data"
    },
    {
     "data": {
      "text/latex": [
       "$\\displaystyle v2_{x, p} - v22_{x, p} \\leq 0$"
      ],
      "text/plain": [
       "<IPython.core.display.Math object>"
      ]
     },
     "metadata": {},
     "output_type": "display_data"
    },
    {
     "data": {
      "text/latex": [
       "$\\displaystyle v2_{x, q} - v22_{x, q} \\leq 0$"
      ],
      "text/plain": [
       "<IPython.core.display.Math object>"
      ]
     },
     "metadata": {},
     "output_type": "display_data"
    },
    {
     "data": {
      "text/latex": [
       "$\\displaystyle v22_{x, p} - v2_{x, p} \\leq 0$"
      ],
      "text/plain": [
       "<IPython.core.display.Math object>"
      ]
     },
     "metadata": {},
     "output_type": "display_data"
    },
    {
     "data": {
      "text/latex": [
       "$\\displaystyle v22_{x, q} - v2_{x, q} \\leq 0$"
      ],
      "text/plain": [
       "<IPython.core.display.Math object>"
      ]
     },
     "metadata": {},
     "output_type": "display_data"
    },
    {
     "data": {
      "text/latex": [
       "$\\displaystyle v1_{x} - 3.0 \\leq 0$"
      ],
      "text/plain": [
       "<IPython.core.display.Math object>"
      ]
     },
     "metadata": {},
     "output_type": "display_data"
    },
    {
     "data": {
      "text/latex": [
       "$\\displaystyle v1_{y} - 4.0 \\leq 0$"
      ],
      "text/plain": [
       "<IPython.core.display.Math object>"
      ]
     },
     "metadata": {},
     "output_type": "display_data"
    },
    {
     "data": {
      "text/latex": [
       "$\\displaystyle v1_{z} - 7.0 \\leq 0$"
      ],
      "text/plain": [
       "<IPython.core.display.Math object>"
      ]
     },
     "metadata": {},
     "output_type": "display_data"
    }
   ],
   "source": [
    "p1.pprint(True)"
   ]
  },
  {
   "cell_type": "code",
   "execution_count": 11,
   "metadata": {},
   "outputs": [
    {
     "name": "stdout",
     "output_type": "stream",
     "text": [
      "0\n",
      "1\n",
      "2\n",
      "3\n",
      "4\n",
      "5\n",
      "6\n",
      "7\n",
      "8\n",
      "9\n",
      "10\n",
      "11\n",
      "12\n",
      "13\n",
      "14\n",
      "15\n",
      "16\n",
      "17\n",
      "18\n",
      "19\n",
      "20\n",
      "21\n",
      "22\n",
      "23\n",
      "24\n",
      "25\n",
      "26\n",
      "27\n",
      "28\n",
      "29\n",
      "30\n",
      "31\n",
      "32\n",
      "33\n",
      "34\n",
      "35\n",
      "36\n",
      "37\n",
      "38\n",
      "39\n",
      "40\n",
      "41\n",
      "42\n",
      "43\n",
      "44\n",
      "45\n",
      "46\n",
      "47\n",
      "48\n",
      "49\n",
      "50\n",
      "51\n",
      "52\n",
      "53\n",
      "54\n"
     ]
    }
   ],
   "source": [
    "pp = p + p1 "
   ]
  },
  {
   "cell_type": "code",
   "execution_count": 11,
   "metadata": {},
   "outputs": [
    {
     "name": "stdout",
     "output_type": "stream",
     "text": [
      "0\n",
      "1\n",
      "2\n",
      "3\n",
      "4\n",
      "5\n",
      "6\n",
      "7\n",
      "8\n",
      "9\n",
      "10\n",
      "11\n",
      "12\n",
      "13\n",
      "14\n",
      "15\n",
      "16\n"
     ]
    }
   ],
   "source": [
    "for c in p.constraints:\n",
    "    print(c.n)"
   ]
  },
  {
   "cell_type": "code",
   "execution_count": 13,
   "metadata": {},
   "outputs": [],
   "source": [
    "m = pp.pyomo()"
   ]
  },
  {
   "cell_type": "code",
   "execution_count": 14,
   "metadata": {},
   "outputs": [
    {
     "name": "stdout",
     "output_type": "stream",
     "text": [
      "9 Set Declarations\n",
      "    i0 : i0\n",
      "        Size=1, Index=None, Ordered=Insertion\n",
      "        Key  : Dimen : Domain : Size : Members\n",
      "        None :     1 :    Any :    1 :  {'x',}\n",
      "    i1 : i1\n",
      "        Size=1, Index=None, Ordered=Insertion\n",
      "        Key  : Dimen : Domain : Size : Members\n",
      "        None :     1 :    Any :    3 : {'x', 'y', 'z'}\n",
      "    i2 : i2\n",
      "        Size=1, Index=None, Ordered=Insertion\n",
      "        Key  : Dimen : Domain : Size : Members\n",
      "        None :     1 :    Any :    2 : {'p', 'q'}\n",
      "    i3 : i3\n",
      "        Size=1, Index=None, Ordered=Insertion\n",
      "        Key  : Dimen : Domain : Size : Members\n",
      "        None :     1 :    Any :    5 : {'x', 'y', 'z', 'p', 'q'}\n",
      "    i4 : i4\n",
      "        Size=1, Index=None, Ordered=Insertion\n",
      "        Key  : Dimen : Domain : Size : Members\n",
      "        None :     1 :    Any :    3 : {'x', 'y', 'z'}\n",
      "    i5 : i5\n",
      "        Size=1, Index=None, Ordered=Insertion\n",
      "        Key  : Dimen : Domain : Size : Members\n",
      "        None :     1 :    Any :    3 : {'i5_0', 'i5_1', 'i5_2'}\n",
      "    t1 : t1\n",
      "        Size=1, Index=None, Ordered=Insertion\n",
      "        Key  : Dimen : Domain : Size : Members\n",
      "        None :     1 :    Any :    1 : {'t1_0',}\n",
      "    t2 : t2\n",
      "        Size=1, Index=None, Ordered=Insertion\n",
      "        Key  : Dimen : Domain : Size : Members\n",
      "        None :     1 :    Any :    2 : {'t2_0', 't2_1'}\n",
      "    t4 : t4\n",
      "        Size=1, Index=None, Ordered=Insertion\n",
      "        Key  : Dimen : Domain : Size : Members\n",
      "        None :     1 :    Any :    4 : {'t4_0', 't4_1', 't4_2', 't4_3'}\n",
      "\n",
      "9 Var Declarations\n",
      "    c : c\n",
      "        Size=4, Index={t4_0, t4_1, t4_2, t4_3}\n",
      "        Key  : Lower : Value : Upper : Fixed : Stale : Domain\n",
      "        t4_0 :     0 :  None :  None : False :  True : NonNegativeReals\n",
      "        t4_1 :     0 :  None :  None : False :  True : NonNegativeReals\n",
      "        t4_2 :     0 :  None :  None : False :  True : NonNegativeReals\n",
      "        t4_3 :     0 :  None :  None : False :  True : NonNegativeReals\n",
      "    p : p\n",
      "        Size=4, Index={t4_0, t4_1, t4_2, t4_3}\n",
      "        Key  : Lower : Value : Upper : Fixed : Stale : Domain\n",
      "        t4_0 :     0 :  None :  None : False :  True : NonNegativeReals\n",
      "        t4_1 :     0 :  None :  None : False :  True : NonNegativeReals\n",
      "        t4_2 :     0 :  None :  None : False :  True : NonNegativeReals\n",
      "        t4_3 :     0 :  None :  None : False :  True : NonNegativeReals\n",
      "    s : s\n",
      "        Size=4, Index={t4_0, t4_1, t4_2, t4_3}\n",
      "        Key  : Lower : Value : Upper : Fixed : Stale : Domain\n",
      "        t4_0 :     0 :  None :  None : False :  True : NonNegativeReals\n",
      "        t4_1 :     0 :  None :  None : False :  True : NonNegativeReals\n",
      "        t4_2 :     0 :  None :  None : False :  True : NonNegativeReals\n",
      "        t4_3 :     0 :  None :  None : False :  True : NonNegativeReals\n",
      "    v0 : v0\n",
      "        Size=1, Index={x}\n",
      "        Key : Lower : Value : Upper : Fixed : Stale : Domain\n",
      "          x :     0 :  None :  None : False :  True : NonNegativeReals\n",
      "    v1 : v1\n",
      "        Size=3, Index={x, y, z}\n",
      "        Key : Lower : Value : Upper : Fixed : Stale : Domain\n",
      "          x :     0 :  None :  None : False :  True : NonNegativeReals\n",
      "          y :     0 :  None :  None : False :  True : NonNegativeReals\n",
      "          z :     0 :  None :  None : False :  True : NonNegativeReals\n",
      "    v12 : v12\n",
      "        Size=3, Index={x, y, z}\n",
      "        Key : Lower : Value : Upper : Fixed : Stale : Domain\n",
      "          x :  None :  None :  None : False :  True :  Reals\n",
      "          y :  None :  None :  None : False :  True :  Reals\n",
      "          z :  None :  None :  None : False :  True :  Reals\n",
      "    v2 : v2\n",
      "        Size=2, Index={x}*{p, q}\n",
      "        Key        : Lower : Value : Upper : Fixed : Stale : Domain\n",
      "        ('x', 'p') :     0 :  None :  None : False :  True : NonNegativeIntegers\n",
      "        ('x', 'q') :     0 :  None :  None : False :  True : NonNegativeIntegers\n",
      "    v22 : v22\n",
      "        Size=2, Index={x}*{p, q}\n",
      "        Key        : Lower : Value : Upper : Fixed : Stale : Domain\n",
      "        ('x', 'p') :  None :  None :  None : False :  True :  Reals\n",
      "        ('x', 'q') :  None :  None :  None : False :  True :  Reals\n",
      "    v32 : v32\n",
      "        Size=1, Index={x}\n",
      "        Key : Lower : Value : Upper : Fixed : Stale : Domain\n",
      "          x :     0 :  None :     1 : False :  True : Binary\n",
      "\n",
      "18 Declarations: t1 t2 t4 i0 i1 i2 i3 i4 i5 c s p v0 v1 v12 v2 v22 v32\n"
     ]
    }
   ],
   "source": [
    "m.pprint()"
   ]
  },
  {
   "cell_type": "code",
   "execution_count": 15,
   "metadata": {},
   "outputs": [
    {
     "data": {
      "text/latex": [
       "$\\displaystyle \\mathcal{t1}\\in\\{t1_0\\}$"
      ],
      "text/plain": [
       "<IPython.core.display.Math object>"
      ]
     },
     "metadata": {},
     "output_type": "display_data"
    },
    {
     "data": {
      "text/latex": [
       "$\\displaystyle \\mathcal{t2}\\in\\{t2_0, t2_1\\}$"
      ],
      "text/plain": [
       "<IPython.core.display.Math object>"
      ]
     },
     "metadata": {},
     "output_type": "display_data"
    },
    {
     "data": {
      "text/latex": [
       "$\\displaystyle \\mathcal{t4}\\in\\{t4_0, t4_1, t4_2, t4_3\\}$"
      ],
      "text/plain": [
       "<IPython.core.display.Math object>"
      ]
     },
     "metadata": {},
     "output_type": "display_data"
    },
    {
     "data": {
      "text/latex": [
       "$\\displaystyle \\mathcal{i0}\\in\\{x\\}$"
      ],
      "text/plain": [
       "<IPython.core.display.Math object>"
      ]
     },
     "metadata": {},
     "output_type": "display_data"
    },
    {
     "data": {
      "text/latex": [
       "$\\displaystyle \\mathcal{i1}\\in\\{x, y, z\\}$"
      ],
      "text/plain": [
       "<IPython.core.display.Math object>"
      ]
     },
     "metadata": {},
     "output_type": "display_data"
    },
    {
     "data": {
      "text/latex": [
       "$\\displaystyle \\mathcal{i2}\\in\\{p, q\\}$"
      ],
      "text/plain": [
       "<IPython.core.display.Math object>"
      ]
     },
     "metadata": {},
     "output_type": "display_data"
    },
    {
     "data": {
      "text/latex": [
       "$\\displaystyle \\mathcal{i3}\\in\\{x, y, z, p, q, y\\}$"
      ],
      "text/plain": [
       "<IPython.core.display.Math object>"
      ]
     },
     "metadata": {},
     "output_type": "display_data"
    },
    {
     "data": {
      "text/latex": [
       "$\\displaystyle \\mathcal{i4}\\in\\{x, y, z\\}$"
      ],
      "text/plain": [
       "<IPython.core.display.Math object>"
      ]
     },
     "metadata": {},
     "output_type": "display_data"
    },
    {
     "data": {
      "text/latex": [
       "$\\displaystyle \\mathcal{i5}\\in\\{i5_0, i5_1, i5_2\\}$"
      ],
      "text/plain": [
       "<IPython.core.display.Math object>"
      ]
     },
     "metadata": {},
     "output_type": "display_data"
    },
    {
     "data": {
      "text/latex": [
       "$\\displaystyle c_{t4_0} - 12.0 \\leq 0$"
      ],
      "text/plain": [
       "<IPython.core.display.Math object>"
      ]
     },
     "metadata": {},
     "output_type": "display_data"
    },
    {
     "data": {
      "text/latex": [
       "$\\displaystyle c_{t4_1} - 15.0 \\leq 0$"
      ],
      "text/plain": [
       "<IPython.core.display.Math object>"
      ]
     },
     "metadata": {},
     "output_type": "display_data"
    },
    {
     "data": {
      "text/latex": [
       "$\\displaystyle c_{t4_2} - 18.0 \\leq 0$"
      ],
      "text/plain": [
       "<IPython.core.display.Math object>"
      ]
     },
     "metadata": {},
     "output_type": "display_data"
    },
    {
     "data": {
      "text/latex": [
       "$\\displaystyle c_{t4_3} - 9.0 \\leq 0$"
      ],
      "text/plain": [
       "<IPython.core.display.Math object>"
      ]
     },
     "metadata": {},
     "output_type": "display_data"
    },
    {
     "data": {
      "text/latex": [
       "$\\displaystyle  - c_{t4_0} - s_{t4_0} - p_{t4_0} + 3.0 \\leq 0$"
      ],
      "text/plain": [
       "<IPython.core.display.Math object>"
      ]
     },
     "metadata": {},
     "output_type": "display_data"
    },
    {
     "data": {
      "text/latex": [
       "$\\displaystyle  - c_{t4_1} - s_{t4_1} - p_{t4_1} + 3.0 \\leq 0$"
      ],
      "text/plain": [
       "<IPython.core.display.Math object>"
      ]
     },
     "metadata": {},
     "output_type": "display_data"
    },
    {
     "data": {
      "text/latex": [
       "$\\displaystyle  - c_{t4_2} - s_{t4_2} - p_{t4_2} + 3.0 \\leq 0$"
      ],
      "text/plain": [
       "<IPython.core.display.Math object>"
      ]
     },
     "metadata": {},
     "output_type": "display_data"
    },
    {
     "data": {
      "text/latex": [
       "$\\displaystyle  - c_{t4_3} - s_{t4_3} - p_{t4_3} + 3.0 \\leq 0$"
      ],
      "text/plain": [
       "<IPython.core.display.Math object>"
      ]
     },
     "metadata": {},
     "output_type": "display_data"
    },
    {
     "data": {
      "text/latex": [
       "$\\displaystyle c_{t4_0} + p_{t4_0} - s_{t4_0} = 0$"
      ],
      "text/plain": [
       "<IPython.core.display.Math object>"
      ]
     },
     "metadata": {},
     "output_type": "display_data"
    },
    {
     "data": {
      "text/latex": [
       "$\\displaystyle c_{t4_1} + p_{t4_1} - s_{t4_1} = 0$"
      ],
      "text/plain": [
       "<IPython.core.display.Math object>"
      ]
     },
     "metadata": {},
     "output_type": "display_data"
    },
    {
     "data": {
      "text/latex": [
       "$\\displaystyle c_{t4_2} + p_{t4_2} - s_{t4_2} = 0$"
      ],
      "text/plain": [
       "<IPython.core.display.Math object>"
      ]
     },
     "metadata": {},
     "output_type": "display_data"
    },
    {
     "data": {
      "text/latex": [
       "$\\displaystyle c_{t4_3} + p_{t4_3} - s_{t4_3} = 0$"
      ],
      "text/plain": [
       "<IPython.core.display.Math object>"
      ]
     },
     "metadata": {},
     "output_type": "display_data"
    },
    {
     "data": {
      "text/latex": [
       "$\\displaystyle v22_{x, p} - v2_{x, p} = 0$"
      ],
      "text/plain": [
       "<IPython.core.display.Math object>"
      ]
     },
     "metadata": {},
     "output_type": "display_data"
    },
    {
     "data": {
      "text/latex": [
       "$\\displaystyle v22_{x, q} - v2_{x, q} = 0$"
      ],
      "text/plain": [
       "<IPython.core.display.Math object>"
      ]
     },
     "metadata": {},
     "output_type": "display_data"
    },
    {
     "data": {
      "text/latex": [
       "$\\displaystyle v2_{x, p} - v22_{x, p} \\leq 0$"
      ],
      "text/plain": [
       "<IPython.core.display.Math object>"
      ]
     },
     "metadata": {},
     "output_type": "display_data"
    },
    {
     "data": {
      "text/latex": [
       "$\\displaystyle v2_{x, q} - v22_{x, q} \\leq 0$"
      ],
      "text/plain": [
       "<IPython.core.display.Math object>"
      ]
     },
     "metadata": {},
     "output_type": "display_data"
    },
    {
     "data": {
      "text/latex": [
       "$\\displaystyle v22_{x, p} - v2_{x, p} \\leq 0$"
      ],
      "text/plain": [
       "<IPython.core.display.Math object>"
      ]
     },
     "metadata": {},
     "output_type": "display_data"
    },
    {
     "data": {
      "text/latex": [
       "$\\displaystyle v22_{x, q} - v2_{x, q} \\leq 0$"
      ],
      "text/plain": [
       "<IPython.core.display.Math object>"
      ]
     },
     "metadata": {},
     "output_type": "display_data"
    },
    {
     "data": {
      "text/latex": [
       "$\\displaystyle v2_{x, p} - v22_{x, p} \\leq 0$"
      ],
      "text/plain": [
       "<IPython.core.display.Math object>"
      ]
     },
     "metadata": {},
     "output_type": "display_data"
    },
    {
     "data": {
      "text/latex": [
       "$\\displaystyle v2_{x, q} - v22_{x, q} \\leq 0$"
      ],
      "text/plain": [
       "<IPython.core.display.Math object>"
      ]
     },
     "metadata": {},
     "output_type": "display_data"
    },
    {
     "data": {
      "text/latex": [
       "$\\displaystyle v22_{x, p} - v2_{x, p} \\leq 0$"
      ],
      "text/plain": [
       "<IPython.core.display.Math object>"
      ]
     },
     "metadata": {},
     "output_type": "display_data"
    },
    {
     "data": {
      "text/latex": [
       "$\\displaystyle v22_{x, q} - v2_{x, q} \\leq 0$"
      ],
      "text/plain": [
       "<IPython.core.display.Math object>"
      ]
     },
     "metadata": {},
     "output_type": "display_data"
    },
    {
     "data": {
      "text/latex": [
       "$\\displaystyle v1_{x} - 3.0 \\leq 0$"
      ],
      "text/plain": [
       "<IPython.core.display.Math object>"
      ]
     },
     "metadata": {},
     "output_type": "display_data"
    },
    {
     "data": {
      "text/latex": [
       "$\\displaystyle v1_{y} - 4.0 \\leq 0$"
      ],
      "text/plain": [
       "<IPython.core.display.Math object>"
      ]
     },
     "metadata": {},
     "output_type": "display_data"
    },
    {
     "data": {
      "text/latex": [
       "$\\displaystyle v1_{z} - 7.0 \\leq 0$"
      ],
      "text/plain": [
       "<IPython.core.display.Math object>"
      ]
     },
     "metadata": {},
     "output_type": "display_data"
    },
    {
     "data": {
      "text/latex": [
       "$\\displaystyle c_{t4_0} - 12.0 \\leq 0$"
      ],
      "text/plain": [
       "<IPython.core.display.Math object>"
      ]
     },
     "metadata": {},
     "output_type": "display_data"
    },
    {
     "data": {
      "text/latex": [
       "$\\displaystyle c_{t4_1} - 15.0 \\leq 0$"
      ],
      "text/plain": [
       "<IPython.core.display.Math object>"
      ]
     },
     "metadata": {},
     "output_type": "display_data"
    },
    {
     "data": {
      "text/latex": [
       "$\\displaystyle c_{t4_2} - 18.0 \\leq 0$"
      ],
      "text/plain": [
       "<IPython.core.display.Math object>"
      ]
     },
     "metadata": {},
     "output_type": "display_data"
    },
    {
     "data": {
      "text/latex": [
       "$\\displaystyle c_{t4_3} - 9.0 \\leq 0$"
      ],
      "text/plain": [
       "<IPython.core.display.Math object>"
      ]
     },
     "metadata": {},
     "output_type": "display_data"
    },
    {
     "data": {
      "text/latex": [
       "$\\displaystyle  - c_{t4_0} - s_{t4_0} - p_{t4_0} + 3.0 \\leq 0$"
      ],
      "text/plain": [
       "<IPython.core.display.Math object>"
      ]
     },
     "metadata": {},
     "output_type": "display_data"
    },
    {
     "data": {
      "text/latex": [
       "$\\displaystyle  - c_{t4_1} - s_{t4_1} - p_{t4_1} + 3.0 \\leq 0$"
      ],
      "text/plain": [
       "<IPython.core.display.Math object>"
      ]
     },
     "metadata": {},
     "output_type": "display_data"
    },
    {
     "data": {
      "text/latex": [
       "$\\displaystyle  - c_{t4_2} - s_{t4_2} - p_{t4_2} + 3.0 \\leq 0$"
      ],
      "text/plain": [
       "<IPython.core.display.Math object>"
      ]
     },
     "metadata": {},
     "output_type": "display_data"
    },
    {
     "data": {
      "text/latex": [
       "$\\displaystyle  - c_{t4_3} - s_{t4_3} - p_{t4_3} + 3.0 \\leq 0$"
      ],
      "text/plain": [
       "<IPython.core.display.Math object>"
      ]
     },
     "metadata": {},
     "output_type": "display_data"
    },
    {
     "data": {
      "text/latex": [
       "$\\displaystyle s_{t4_0} + s_{t4_1} \\cdot 3.0 - 15.0 \\leq 0$"
      ],
      "text/plain": [
       "<IPython.core.display.Math object>"
      ]
     },
     "metadata": {},
     "output_type": "display_data"
    },
    {
     "data": {
      "text/latex": [
       "$\\displaystyle  - s_{t4_0} - s_{t4_1} + 4.0 \\leq 0$"
      ],
      "text/plain": [
       "<IPython.core.display.Math object>"
      ]
     },
     "metadata": {},
     "output_type": "display_data"
    },
    {
     "data": {
      "text/latex": [
       "$\\displaystyle s_{t4_2} + s_{t4_3} - 14.0 \\leq 0$"
      ],
      "text/plain": [
       "<IPython.core.display.Math object>"
      ]
     },
     "metadata": {},
     "output_type": "display_data"
    },
    {
     "data": {
      "text/latex": [
       "$\\displaystyle  - s_{t4_2} - s_{t4_3} + 8.0 \\leq 0$"
      ],
      "text/plain": [
       "<IPython.core.display.Math object>"
      ]
     },
     "metadata": {},
     "output_type": "display_data"
    },
    {
     "data": {
      "text/latex": [
       "$\\displaystyle c_{t4_0} + p_{t4_0} - s_{t4_0} = 0$"
      ],
      "text/plain": [
       "<IPython.core.display.Math object>"
      ]
     },
     "metadata": {},
     "output_type": "display_data"
    },
    {
     "data": {
      "text/latex": [
       "$\\displaystyle c_{t4_1} + p_{t4_1} - s_{t4_1} = 0$"
      ],
      "text/plain": [
       "<IPython.core.display.Math object>"
      ]
     },
     "metadata": {},
     "output_type": "display_data"
    },
    {
     "data": {
      "text/latex": [
       "$\\displaystyle c_{t4_2} + p_{t4_2} - s_{t4_2} = 0$"
      ],
      "text/plain": [
       "<IPython.core.display.Math object>"
      ]
     },
     "metadata": {},
     "output_type": "display_data"
    },
    {
     "data": {
      "text/latex": [
       "$\\displaystyle c_{t4_3} + p_{t4_3} - s_{t4_3} = 0$"
      ],
      "text/plain": [
       "<IPython.core.display.Math object>"
      ]
     },
     "metadata": {},
     "output_type": "display_data"
    },
    {
     "data": {
      "text/latex": [
       "$\\displaystyle p_{t4_0} + p_{t4_1} + p_{t4_2} + p_{t4_3} - 50.0 \\leq 0$"
      ],
      "text/plain": [
       "<IPython.core.display.Math object>"
      ]
     },
     "metadata": {},
     "output_type": "display_data"
    },
    {
     "data": {
      "text/latex": [
       "$\\displaystyle v22_{x, p} - v2_{x, p} = 0$"
      ],
      "text/plain": [
       "<IPython.core.display.Math object>"
      ]
     },
     "metadata": {},
     "output_type": "display_data"
    },
    {
     "data": {
      "text/latex": [
       "$\\displaystyle v22_{x, q} - v2_{x, q} = 0$"
      ],
      "text/plain": [
       "<IPython.core.display.Math object>"
      ]
     },
     "metadata": {},
     "output_type": "display_data"
    },
    {
     "data": {
      "text/latex": [
       "$\\displaystyle v2_{x, p} - v22_{x, p} \\leq 0$"
      ],
      "text/plain": [
       "<IPython.core.display.Math object>"
      ]
     },
     "metadata": {},
     "output_type": "display_data"
    },
    {
     "data": {
      "text/latex": [
       "$\\displaystyle v2_{x, q} - v22_{x, q} \\leq 0$"
      ],
      "text/plain": [
       "<IPython.core.display.Math object>"
      ]
     },
     "metadata": {},
     "output_type": "display_data"
    },
    {
     "data": {
      "text/latex": [
       "$\\displaystyle v22_{x, p} - v2_{x, p} \\leq 0$"
      ],
      "text/plain": [
       "<IPython.core.display.Math object>"
      ]
     },
     "metadata": {},
     "output_type": "display_data"
    },
    {
     "data": {
      "text/latex": [
       "$\\displaystyle v22_{x, q} - v2_{x, q} \\leq 0$"
      ],
      "text/plain": [
       "<IPython.core.display.Math object>"
      ]
     },
     "metadata": {},
     "output_type": "display_data"
    },
    {
     "data": {
      "text/latex": [
       "$\\displaystyle v2_{x, p} - v22_{x, p} \\leq 0$"
      ],
      "text/plain": [
       "<IPython.core.display.Math object>"
      ]
     },
     "metadata": {},
     "output_type": "display_data"
    },
    {
     "data": {
      "text/latex": [
       "$\\displaystyle v2_{x, q} - v22_{x, q} \\leq 0$"
      ],
      "text/plain": [
       "<IPython.core.display.Math object>"
      ]
     },
     "metadata": {},
     "output_type": "display_data"
    },
    {
     "data": {
      "text/latex": [
       "$\\displaystyle v22_{x, p} - v2_{x, p} \\leq 0$"
      ],
      "text/plain": [
       "<IPython.core.display.Math object>"
      ]
     },
     "metadata": {},
     "output_type": "display_data"
    },
    {
     "data": {
      "text/latex": [
       "$\\displaystyle v22_{x, q} - v2_{x, q} \\leq 0$"
      ],
      "text/plain": [
       "<IPython.core.display.Math object>"
      ]
     },
     "metadata": {},
     "output_type": "display_data"
    },
    {
     "data": {
      "text/latex": [
       "$\\displaystyle v1_{x} - 3.0 \\leq 0$"
      ],
      "text/plain": [
       "<IPython.core.display.Math object>"
      ]
     },
     "metadata": {},
     "output_type": "display_data"
    },
    {
     "data": {
      "text/latex": [
       "$\\displaystyle v1_{y} - 4.0 \\leq 0$"
      ],
      "text/plain": [
       "<IPython.core.display.Math object>"
      ]
     },
     "metadata": {},
     "output_type": "display_data"
    },
    {
     "data": {
      "text/latex": [
       "$\\displaystyle v1_{z} - 7.0 \\leq 0$"
      ],
      "text/plain": [
       "<IPython.core.display.Math object>"
      ]
     },
     "metadata": {},
     "output_type": "display_data"
    }
   ],
   "source": [
    "pp.pprint(True)"
   ]
  },
  {
   "cell_type": "code",
   "execution_count": 16,
   "metadata": {},
   "outputs": [
    {
     "ename": "NameError",
     "evalue": "name 'a' is not defined",
     "output_type": "error",
     "traceback": [
      "\u001b[1;31m---------------------------------------------------------------------------\u001b[0m",
      "\u001b[1;31mNameError\u001b[0m                                 Traceback (most recent call last)",
      "Cell \u001b[1;32mIn[16], line 1\u001b[0m\n\u001b[1;32m----> 1\u001b[0m \u001b[43ma\u001b[49m\n",
      "\u001b[1;31mNameError\u001b[0m: name 'a' is not defined"
     ]
    }
   ],
   "source": [
    "a"
   ]
  },
  {
   "cell_type": "code",
   "execution_count": null,
   "metadata": {},
   "outputs": [],
   "source": [
    "b"
   ]
  },
  {
   "cell_type": "code",
   "execution_count": null,
   "metadata": {},
   "outputs": [],
   "source": [
    "0.0"
   ]
  },
  {
   "cell_type": "code",
   "execution_count": null,
   "metadata": {},
   "outputs": [],
   "source": [
    "b"
   ]
  },
  {
   "cell_type": "code",
   "execution_count": null,
   "metadata": {},
   "outputs": [],
   "source": [
    "for i in a:\n",
    "    print(len(a))"
   ]
  },
  {
   "cell_type": "code",
   "execution_count": null,
   "metadata": {},
   "outputs": [],
   "source": [
    "for v in p.indices + p.constraints + p.variables:\n",
    "    print(v.name, v.n)\n",
    "\n",
    "for v in p.idxsets + p.conssets + p.varsets + p.parsets:\n",
    "    print(v.name, v.n)"
   ]
  },
  {
   "cell_type": "code",
   "execution_count": null,
   "metadata": {},
   "outputs": [],
   "source": [
    "p.cons_bmax_0.func.a"
   ]
  },
  {
   "cell_type": "code",
   "execution_count": null,
   "metadata": {},
   "outputs": [],
   "source": [
    "p.cons_bmax_0.func.a, p.cons_bmax_0.func.b"
   ]
  },
  {
   "cell_type": "code",
   "execution_count": null,
   "metadata": {},
   "outputs": [],
   "source": [
    "p.cons_smin1.func.a"
   ]
  },
  {
   "cell_type": "code",
   "execution_count": null,
   "metadata": {},
   "outputs": [],
   "source": []
  }
 ],
 "metadata": {
  "kernelspec": {
   "display_name": ".venv",
   "language": "python",
   "name": "python3"
  },
  "language_info": {
   "codemirror_mode": {
    "name": "ipython",
    "version": 3
   },
   "file_extension": ".py",
   "mimetype": "text/x-python",
   "name": "python",
   "nbconvert_exporter": "python",
   "pygments_lexer": "ipython3",
   "version": "3.12.7"
  }
 },
 "nbformat": 4,
 "nbformat_minor": 2
}
