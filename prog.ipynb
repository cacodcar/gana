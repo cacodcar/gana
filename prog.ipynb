{
 "cells": [
  {
   "cell_type": "code",
   "execution_count": 1,
   "metadata": {},
   "outputs": [],
   "source": [
    "import sys\n",
    "sys.path.append('src')"
   ]
  },
  {
   "cell_type": "code",
   "execution_count": 2,
   "metadata": {},
   "outputs": [],
   "source": [
    "from gana.block.program import Prg\n",
    "from gana.sets.index import I\n",
    "\n",
    "from gana.sets.variable import V\n",
    "from gana.sets.parameter import P\n",
    "\n",
    "# from gana.sets.theta import T\n",
    "# from gana.sets.objective import O\n",
    "# from IPython.display import Math, display\n",
    "from pyomo.environ import ConcreteModel, Set"
   ]
  },
  {
   "cell_type": "code",
   "execution_count": 3,
   "metadata": {},
   "outputs": [
    {
     "data": {
      "text/latex": [
       "$\\displaystyle \\mathcal{i0}$"
      ],
      "text/plain": [
       "<IPython.core.display.Math object>"
      ]
     },
     "metadata": {},
     "output_type": "display_data"
    },
    {
     "data": {
      "text/latex": [
       "$\\displaystyle \\mathcal{i1}$"
      ],
      "text/plain": [
       "<IPython.core.display.Math object>"
      ]
     },
     "metadata": {},
     "output_type": "display_data"
    },
    {
     "data": {
      "text/latex": [
       "$\\displaystyle \\mathcal{i2}$"
      ],
      "text/plain": [
       "<IPython.core.display.Math object>"
      ]
     },
     "metadata": {},
     "output_type": "display_data"
    },
    {
     "data": {
      "text/latex": [
       "$\\displaystyle \\mathcal{i3}$"
      ],
      "text/plain": [
       "<IPython.core.display.Math object>"
      ]
     },
     "metadata": {},
     "output_type": "display_data"
    },
    {
     "data": {
      "text/latex": [
       "$\\displaystyle \\mathcal{i4}$"
      ],
      "text/plain": [
       "<IPython.core.display.Math object>"
      ]
     },
     "metadata": {},
     "output_type": "display_data"
    },
    {
     "data": {
      "text/latex": [
       "$\\displaystyle \\mathcal{i5}$"
      ],
      "text/plain": [
       "<IPython.core.display.Math object>"
      ]
     },
     "metadata": {},
     "output_type": "display_data"
    },
    {
     "data": {
      "text/latex": [
       "$\\displaystyle v22_{i0, i2} - v2_{i0, i2} = δ_{i0, i2}$"
      ],
      "text/plain": [
       "<IPython.core.display.Math object>"
      ]
     },
     "metadata": {},
     "output_type": "display_data"
    },
    {
     "data": {
      "text/latex": [
       "$\\displaystyle -v22_{i0, i2} + v2_{i0, i2} \\leq δ_{i0, i2}$"
      ],
      "text/plain": [
       "<IPython.core.display.Math object>"
      ]
     },
     "metadata": {},
     "output_type": "display_data"
    },
    {
     "data": {
      "text/latex": [
       "$\\displaystyle v22_{i0, i2} - v2_{i0, i2} \\leq δ_{i0, i2}$"
      ],
      "text/plain": [
       "<IPython.core.display.Math object>"
      ]
     },
     "metadata": {},
     "output_type": "display_data"
    },
    {
     "data": {
      "text/latex": [
       "$\\displaystyle -v22_{i0, i2} + v2_{i0, i2} \\leq δ_{i0, i2}$"
      ],
      "text/plain": [
       "<IPython.core.display.Math object>"
      ]
     },
     "metadata": {},
     "output_type": "display_data"
    },
    {
     "data": {
      "text/latex": [
       "$\\displaystyle v22_{i0, i2} - v2_{i0, i2} \\leq δ_{i0, i2}$"
      ],
      "text/plain": [
       "<IPython.core.display.Math object>"
      ]
     },
     "metadata": {},
     "output_type": "display_data"
    }
   ],
   "source": [
    "p = Prg()\n",
    "p.i0 = I('a')\n",
    "p.i1 = I('a', 'b', 'c')\n",
    "p.i2 = I('d', 'e')\n",
    "p.i3 = I('a', 'b', 'c', 'd', 'e', 'b')\n",
    "p.i4 = I('a', 'b', 'c')\n",
    "p.i5 = I(3)\n",
    "# p.i5 = p.i0 * p.i1\n",
    "p.v0 = V(p.i0)\n",
    "p.v1 = V(p.i1)\n",
    "p.v12 = V(p.i1, nn=False)\n",
    "p.v2 = V(p.i0, p.i2, itg=True)\n",
    "p.v22 = V(p.i0, p.i2, nn=False)\n",
    "p.v32 = V(p.i0, bnr=True)\n",
    "p.p0 = P(p.i0, p.i5, _=[1, 2, 5])\n",
    "p.p1 = P(p.i0, _=[4])\n",
    "p.p2 = P(p.i0, p.i5, _=[6, 8, 3])\n",
    "p.p3 = P(p.i0, _=[True])\n",
    "p.p4 = P(p.i0, p.i5, _=[10, 10, 10])\n",
    "p.p5 = P(p.i0, p.i5, _=[4, 2, 7])\n",
    "p.f1 = p.v22 + p.v2\n",
    "p.f2 = p.v22 - p.v2\n",
    "p.f3 = p.v22 * p.v2\n",
    "p.f4 = p.v22 / p.v2\n",
    "p.c1 = p.v22 == p.v2\n",
    "p.c2 = p.v22 >= p.v2\n",
    "p.c3 = p.v22 <= p.v2\n",
    "p.c4 = p.v22 > p.v2\n",
    "p.c5 = p.v22 < p.v2\n",
    "p.pprint()"
   ]
  },
  {
   "cell_type": "code",
   "execution_count": 4,
   "metadata": {},
   "outputs": [
    {
     "data": {
      "text/latex": [
       "$\\displaystyle \\mathcal{t1}$"
      ],
      "text/plain": [
       "<IPython.core.display.Math object>"
      ]
     },
     "metadata": {},
     "output_type": "display_data"
    },
    {
     "data": {
      "text/latex": [
       "$\\displaystyle \\mathcal{t2}$"
      ],
      "text/plain": [
       "<IPython.core.display.Math object>"
      ]
     },
     "metadata": {},
     "output_type": "display_data"
    },
    {
     "data": {
      "text/latex": [
       "$\\displaystyle \\mathcal{t4}$"
      ],
      "text/plain": [
       "<IPython.core.display.Math object>"
      ]
     },
     "metadata": {},
     "output_type": "display_data"
    },
    {
     "data": {
      "text/latex": [
       "$\\displaystyle b_{t4} - Bub_{t4} \\leq δ_{t4}$"
      ],
      "text/plain": [
       "<IPython.core.display.Math object>"
      ]
     },
     "metadata": {},
     "output_type": "display_data"
    },
    {
     "data": {
      "text/latex": [
       "$\\displaystyle s_{t40} + s_{t41} - Sub_{t20} \\leq δ_{t40}$"
      ],
      "text/plain": [
       "<IPython.core.display.Math object>"
      ]
     },
     "metadata": {},
     "output_type": "display_data"
    },
    {
     "data": {
      "text/latex": [
       "$\\displaystyle -s_{t40} - s_{t41} + Slb_{t20} \\leq δ_{t40}$"
      ],
      "text/plain": [
       "<IPython.core.display.Math object>"
      ]
     },
     "metadata": {},
     "output_type": "display_data"
    },
    {
     "data": {
      "text/latex": [
       "$\\displaystyle s_{t42} + s_{t43} - Sub_{t21} \\leq δ_{t42}$"
      ],
      "text/plain": [
       "<IPython.core.display.Math object>"
      ]
     },
     "metadata": {},
     "output_type": "display_data"
    },
    {
     "data": {
      "text/latex": [
       "$\\displaystyle -s_{t42} - s_{t43} + Slb_{t21} \\leq δ_{t42}$"
      ],
      "text/plain": [
       "<IPython.core.display.Math object>"
      ]
     },
     "metadata": {},
     "output_type": "display_data"
    },
    {
     "data": {
      "text/latex": [
       "$\\displaystyle b_{t4} + p_{t4} - s_{t4} - Bal_{t4} = δ_{t4}$"
      ],
      "text/plain": [
       "<IPython.core.display.Math object>"
      ]
     },
     "metadata": {},
     "output_type": "display_data"
    },
    {
     "data": {
      "text/latex": [
       "$\\displaystyle p_{t40} + p_{t41} + p_{t42} + p_{t43} - Pub_{t1} \\leq δ_{t40}$"
      ],
      "text/plain": [
       "<IPython.core.display.Math object>"
      ]
     },
     "metadata": {},
     "output_type": "display_data"
    }
   ],
   "source": [
    "p = Prg()\n",
    "p.t1 = I(1)\n",
    "p.t2 = I(2)\n",
    "p.t4 = I(4)\n",
    "p.b = V(p.t4)\n",
    "p.s = V(p.t4)\n",
    "p.p = V(p.t4)\n",
    "p.bal = P(p.t4, _=[0, 0, 0, 0])\n",
    "p.bub = P(p.t4, _=[12, 15, 18, 9])\n",
    "p.blb = P(p.t4, _=[3, 3, 3, 3])\n",
    "p.sub = P(p.t2, _=[15, 17])\n",
    "p.slb = P(p.t2, _=[4, 8])\n",
    "p.pub = P(p.t1, _=[50])\n",
    "p.plb = P(p.t1, _=[10])\n",
    "p.pcst = P(p.t4, _=[0.5] * 4)\n",
    "p.bcst = P(p.t4, _=[2] * 4)\n",
    "p.scst = P(p.t4, _=[3] * 4)\n",
    "p.bcnv = P(p.t4, _=[3] * 4)\n",
    "p.scnv = P(p.t4, _=[1] * 4)\n",
    "p.cnbub = p.b <= p.bub\n",
    "p.cnblb = p.bal * p.b + p.s + p.p >= p.blb\n",
    "p.cnsub1 = p.s(p.t40) + p.s(p.t41) <= p.sub(p.t20)\n",
    "p.cnslb1 = p.s(p.t40) + p.s(p.t41) >= p.slb(p.t20)\n",
    "p.cnsub2 = p.s(p.t42) + p.s(p.t43) <= p.sub(p.t21)\n",
    "p.cnslb2 = p.s(p.t42) + p.s(p.t43) >= p.slb(p.t21)\n",
    "p.cbal = p.b + p.p - p.s == p.bal\n",
    "p.cnpub = sum(p.p) <= p.pub\n",
    "p.pprint()\n"
   ]
  },
  {
   "cell_type": "code",
   "execution_count": null,
   "metadata": {},
   "outputs": [],
   "source": []
  },
  {
   "cell_type": "code",
   "execution_count": 8,
   "metadata": {},
   "outputs": [],
   "source": []
  },
  {
   "cell_type": "code",
   "execution_count": 9,
   "metadata": {},
   "outputs": [],
   "source": []
  },
  {
   "cell_type": "code",
   "execution_count": 10,
   "metadata": {},
   "outputs": [
    {
     "data": {
      "text/plain": [
       "[t4]"
      ]
     },
     "execution_count": 10,
     "metadata": {},
     "output_type": "execute_result"
    }
   ],
   "source": [
    "p.s.index"
   ]
  },
  {
   "cell_type": "code",
   "execution_count": 11,
   "metadata": {},
   "outputs": [],
   "source": []
  },
  {
   "cell_type": "code",
   "execution_count": 15,
   "metadata": {},
   "outputs": [
    {
     "data": {
      "text/latex": [
       "$\\displaystyle \\mathcal{t1}$"
      ],
      "text/plain": [
       "<IPython.core.display.Math object>"
      ]
     },
     "metadata": {},
     "output_type": "display_data"
    },
    {
     "data": {
      "text/latex": [
       "$\\displaystyle \\mathcal{t2}$"
      ],
      "text/plain": [
       "<IPython.core.display.Math object>"
      ]
     },
     "metadata": {},
     "output_type": "display_data"
    },
    {
     "data": {
      "text/latex": [
       "$\\displaystyle \\mathcal{t4}$"
      ],
      "text/plain": [
       "<IPython.core.display.Math object>"
      ]
     },
     "metadata": {},
     "output_type": "display_data"
    },
    {
     "data": {
      "text/latex": [
       "$\\displaystyle b_{t4} \\leq Bub_{t4}$"
      ],
      "text/plain": [
       "<IPython.core.display.Math object>"
      ]
     },
     "metadata": {},
     "output_type": "display_data"
    },
    {
     "data": {
      "text/latex": [
       "$\\displaystyle s_{t40} + s_{t41} \\leq Sub_{t20}$"
      ],
      "text/plain": [
       "<IPython.core.display.Math object>"
      ]
     },
     "metadata": {},
     "output_type": "display_data"
    },
    {
     "data": {
      "text/latex": [
       "$\\displaystyle s_{t40} + s_{t41} \\leq Slb_{t20}$"
      ],
      "text/plain": [
       "<IPython.core.display.Math object>"
      ]
     },
     "metadata": {},
     "output_type": "display_data"
    },
    {
     "data": {
      "text/latex": [
       "$\\displaystyle s_{t42} + s_{t43} \\leq Sub_{t21}$"
      ],
      "text/plain": [
       "<IPython.core.display.Math object>"
      ]
     },
     "metadata": {},
     "output_type": "display_data"
    },
    {
     "data": {
      "text/latex": [
       "$\\displaystyle s_{t42} + s_{t43} \\leq Slb_{t21}$"
      ],
      "text/plain": [
       "<IPython.core.display.Math object>"
      ]
     },
     "metadata": {},
     "output_type": "display_data"
    },
    {
     "data": {
      "text/latex": [
       "$\\displaystyle b_{t4} + p_{t4} - s_{t4} = Bal_{t4}$"
      ],
      "text/plain": [
       "<IPython.core.display.Math object>"
      ]
     },
     "metadata": {},
     "output_type": "display_data"
    },
    {
     "data": {
      "text/latex": [
       "$\\displaystyle p_{t40} + p_{t41} + p_{t42} + p_{t43} \\leq Pub_{t1}$"
      ],
      "text/plain": [
       "<IPython.core.display.Math object>"
      ]
     },
     "metadata": {},
     "output_type": "display_data"
    }
   ],
   "source": []
  },
  {
   "cell_type": "code",
   "execution_count": 17,
   "metadata": {},
   "outputs": [
    {
     "data": {
      "text/plain": [
       "(t1,)"
      ]
     },
     "execution_count": 17,
     "metadata": {},
     "output_type": "execute_result"
    }
   ],
   "source": [
    "p.cnpub.rhs.index "
   ]
  },
  {
   "cell_type": "code",
   "execution_count": 19,
   "metadata": {},
   "outputs": [
    {
     "data": {
      "text/plain": [
       "p+p+p+p"
      ]
     },
     "execution_count": 19,
     "metadata": {},
     "output_type": "execute_result"
    }
   ],
   "source": [
    "p.cnpub.lhs"
   ]
  },
  {
   "cell_type": "code",
   "execution_count": 21,
   "metadata": {},
   "outputs": [
    {
     "ename": "NameError",
     "evalue": "name 'O' is not defined",
     "output_type": "error",
     "traceback": [
      "\u001b[1;31m---------------------------------------------------------------------------\u001b[0m",
      "\u001b[1;31mNameError\u001b[0m                                 Traceback (most recent call last)",
      "Cell \u001b[1;32mIn[21], line 1\u001b[0m\n\u001b[1;32m----> 1\u001b[0m p\u001b[38;5;241m.\u001b[39mo \u001b[38;5;241m=\u001b[39m \u001b[43mO\u001b[49m(p\u001b[38;5;241m.\u001b[39mpcst \u001b[38;5;241m*\u001b[39m p\u001b[38;5;241m.\u001b[39mp \u001b[38;5;241m-\u001b[39m p\u001b[38;5;241m.\u001b[39mbcst \u001b[38;5;241m*\u001b[39m p\u001b[38;5;241m.\u001b[39mb \u001b[38;5;241m+\u001b[39m p\u001b[38;5;241m.\u001b[39ms \u001b[38;5;241m/\u001b[39m p\u001b[38;5;241m.\u001b[39mscst)\n",
      "\u001b[1;31mNameError\u001b[0m: name 'O' is not defined"
     ]
    }
   ],
   "source": [
    "p.o = O(p.pcst * p.p - p.bcst * p.b + p.s / p.scst)"
   ]
  },
  {
   "cell_type": "code",
   "execution_count": null,
   "metadata": {},
   "outputs": [],
   "source": [
    "p.o()"
   ]
  },
  {
   "cell_type": "code",
   "execution_count": null,
   "metadata": {},
   "outputs": [],
   "source": [
    "p.latex()"
   ]
  },
  {
   "cell_type": "code",
   "execution_count": null,
   "metadata": {},
   "outputs": [],
   "source": [
    "p.o.f.x()"
   ]
  },
  {
   "cell_type": "code",
   "execution_count": null,
   "metadata": {},
   "outputs": [],
   "source": [
    "[i.count for i in p.o.f.x() if isinstance(i, P)]"
   ]
  },
  {
   "cell_type": "code",
   "execution_count": null,
   "metadata": {},
   "outputs": [],
   "source": [
    "[i.count for i in p.o.f.x() if isinstance(i, V)]"
   ]
  },
  {
   "cell_type": "code",
   "execution_count": null,
   "metadata": {},
   "outputs": [],
   "source": [
    "[i.count for i in p.b._]"
   ]
  },
  {
   "cell_type": "code",
   "execution_count": null,
   "metadata": {},
   "outputs": [],
   "source": [
    " "
   ]
  },
  {
   "cell_type": "code",
   "execution_count": 18,
   "metadata": {},
   "outputs": [],
   "source": [
    "a = 'pcstp-bcst×b+s÷scst'"
   ]
  },
  {
   "cell_type": "code",
   "execution_count": 19,
   "metadata": {},
   "outputs": [],
   "source": [
    "b = a.encode('utf-8')"
   ]
  },
  {
   "cell_type": "code",
   "execution_count": 13,
   "metadata": {},
   "outputs": [],
   "source": []
  },
  {
   "cell_type": "code",
   "execution_count": null,
   "metadata": {},
   "outputs": [],
   "source": [
    "p.o.func.x()"
   ]
  },
  {
   "cell_type": "code",
   "execution_count": null,
   "metadata": {},
   "outputs": [],
   "source": [
    "p.cnsub1.rhs()"
   ]
  },
  {
   "cell_type": "code",
   "execution_count": null,
   "metadata": {},
   "outputs": [],
   "source": []
  },
  {
   "cell_type": "code",
   "execution_count": 21,
   "metadata": {},
   "outputs": [],
   "source": [
    "c = p.b <= p.s"
   ]
  },
  {
   "cell_type": "code",
   "execution_count": null,
   "metadata": {},
   "outputs": [],
   "source": [
    "p()"
   ]
  },
  {
   "cell_type": "code",
   "execution_count": null,
   "metadata": {},
   "outputs": [],
   "source": [
    "f.x()"
   ]
  },
  {
   "cell_type": "code",
   "execution_count": null,
   "metadata": {},
   "outputs": [],
   "source": [
    "p()"
   ]
  }
 ],
 "metadata": {
  "kernelspec": {
   "display_name": ".venv",
   "language": "python",
   "name": "python3"
  },
  "language_info": {
   "codemirror_mode": {
    "name": "ipython",
    "version": 3
   },
   "file_extension": ".py",
   "mimetype": "text/x-python",
   "name": "python",
   "nbconvert_exporter": "python",
   "pygments_lexer": "ipython3",
   "version": "3.12.7"
  }
 },
 "nbformat": 4,
 "nbformat_minor": 2
}
