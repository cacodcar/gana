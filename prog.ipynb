{
 "cells": [
  {
   "cell_type": "code",
   "execution_count": 1,
   "metadata": {},
   "outputs": [],
   "source": [
    "import sys\n",
    "\n",
    "sys.path.append('src')"
   ]
  },
  {
   "cell_type": "code",
   "execution_count": 2,
   "metadata": {},
   "outputs": [],
   "source": [
    "from gana.block.program import Prg\n",
    "from gana.sets.indices import I\n",
    "from gana.sets.variables import V\n",
    "\n",
    "from gana.sets.parameters import P\n",
    "\n",
    "# from gana.operation.composition import inf, sup\n",
    "\n",
    "# from gana.sets.theta import T\n",
    "# from gana.sets.objective import O\n",
    "# from IPython.display import Math, display\n",
    "from pyomo.environ import ConcreteModel, Set"
   ]
  },
  {
   "cell_type": "code",
   "execution_count": 3,
   "metadata": {},
   "outputs": [],
   "source": [
    "p1 = Prg()"
   ]
  },
  {
   "cell_type": "code",
   "execution_count": 4,
   "metadata": {},
   "outputs": [],
   "source": [
    "p1.i0 = I('x')\n",
    "p1.i1 = I('x', 'y', 'z')\n",
    "p1.i2 = I('p', 'q')\n",
    "p1.i3 = I('x', 'y', 'z', 'p', 'q', 'y')\n",
    "p1.i4 = I('x', 'y', 'z')\n",
    "p1.i5 = I(size=3)"
   ]
  },
  {
   "cell_type": "code",
   "execution_count": null,
   "metadata": {},
   "outputs": [],
   "source": []
  },
  {
   "cell_type": "code",
   "execution_count": 5,
   "metadata": {},
   "outputs": [
    {
     "data": {
      "text/plain": [
       "i5[0]"
      ]
     },
     "execution_count": 5,
     "metadata": {},
     "output_type": "execute_result"
    }
   ],
   "source": [
    "p1.i5[0]"
   ]
  },
  {
   "cell_type": "code",
   "execution_count": 6,
   "metadata": {},
   "outputs": [],
   "source": [
    "# p1.i5 = p1.i0 * p1.i1\n",
    "p1.v0 = V(p1.i0)\n",
    "p1.v1 = V(p1.i1)\n",
    "p1.v12 = V(p1.i1, nn=False)\n",
    "p1.v2 = V(p1.i0, p1.i2, itg=True)\n",
    "p1.v22 = V(p1.i0, p1.i2, nn=False)\n",
    "p1.v32 = V(p1.i0, bnr=True)\n",
    "\n",
    "p1.p0 = P(p1.i0, p1.i5, _=[1, 2, 5])\n",
    "p1.p1 = P(p1.i0, _=[4])\n",
    "p1.p2 = P(p1.i0, p1.i5, _=[6, 8, 3])\n",
    "p1.p3 = P(p1.i0, _=[True])\n",
    "p1.p4 = P(p1.i0, p1.i5, _=[10, 10, 10])\n",
    "p1.p5 = P(p1.i0, p1.i5, _=[4, 2, 7])\n",
    "p1.p6 = P(p1.i1, _=[3, 4, 7])"
   ]
  },
  {
   "cell_type": "code",
   "execution_count": 7,
   "metadata": {},
   "outputs": [
    {
     "data": {
      "text/plain": [
       "[v10, v11, v12]"
      ]
     },
     "execution_count": 7,
     "metadata": {},
     "output_type": "execute_result"
    }
   ],
   "source": [
    "p1.v1._"
   ]
  },
  {
   "cell_type": "code",
   "execution_count": 8,
   "metadata": {},
   "outputs": [
    {
     "data": {
      "text/plain": [
       "True"
      ]
     },
     "execution_count": 8,
     "metadata": {},
     "output_type": "execute_result"
    }
   ],
   "source": [
    "p1.v0.n >= 0"
   ]
  },
  {
   "cell_type": "code",
   "execution_count": 10,
   "metadata": {},
   "outputs": [
    {
     "name": "stdout",
     "output_type": "stream",
     "text": [
      "v0 v1\n",
      "<class 'gana.sets.variables.V'> <class 'gana.sets.variables.V'>\n",
      "[+v00+v10]\n",
      "v0 v1\n",
      "<class 'gana.sets.variables.V'> <class 'gana.sets.variables.V'>\n",
      "[+v00+v10, +v00+v11]\n",
      "v0 v1\n",
      "<class 'gana.sets.variables.V'> <class 'gana.sets.variables.V'>\n",
      "[+v00+v10, +v00+v11, +v00+v12]\n"
     ]
    }
   ],
   "source": [
    "p1.f = p1.v0 + p1.v1"
   ]
  },
  {
   "cell_type": "code",
   "execution_count": 21,
   "metadata": {},
   "outputs": [
    {
     "data": {
      "text/plain": [
       "gana.elements.variable.Var"
      ]
     },
     "execution_count": 21,
     "metadata": {},
     "output_type": "execute_result"
    }
   ],
   "source": [
    "type(p1.f[0].two)"
   ]
  },
  {
   "cell_type": "code",
   "execution_count": 22,
   "metadata": {},
   "outputs": [
    {
     "data": {
      "text/plain": [
       "[(x, i5[0]), (x, i5[1]), (x, i5[2])]"
      ]
     },
     "execution_count": 22,
     "metadata": {},
     "output_type": "execute_result"
    }
   ],
   "source": [
    "p1.p2.idx()"
   ]
  },
  {
   "cell_type": "code",
   "execution_count": 24,
   "metadata": {},
   "outputs": [
    {
     "data": {
      "text/plain": [
       "[x, y, z]"
      ]
     },
     "execution_count": 24,
     "metadata": {},
     "output_type": "execute_result"
    }
   ],
   "source": [
    "p1.p6.idx()"
   ]
  },
  {
   "cell_type": "code",
   "execution_count": null,
   "metadata": {},
   "outputs": [],
   "source": []
  },
  {
   "cell_type": "code",
   "execution_count": 28,
   "metadata": {},
   "outputs": [
    {
     "data": {
      "text/plain": [
       "(i0, i5)"
      ]
     },
     "execution_count": 28,
     "metadata": {},
     "output_type": "execute_result"
    }
   ],
   "source": [
    "p1.p2.order"
   ]
  },
  {
   "cell_type": "code",
   "execution_count": 26,
   "metadata": {},
   "outputs": [
    {
     "data": {
      "text/plain": [
       "(i1,)"
      ]
     },
     "execution_count": 26,
     "metadata": {},
     "output_type": "execute_result"
    }
   ],
   "source": [
    "p1.p6.order"
   ]
  },
  {
   "cell_type": "code",
   "execution_count": 23,
   "metadata": {},
   "outputs": [
    {
     "data": {
      "text/plain": [
       "[6.0, 8.0, 3.0]"
      ]
     },
     "execution_count": 23,
     "metadata": {},
     "output_type": "execute_result"
    }
   ],
   "source": [
    "p1.p2._"
   ]
  },
  {
   "cell_type": "code",
   "execution_count": 18,
   "metadata": {},
   "outputs": [
    {
     "ename": "TypeError",
     "evalue": "Func.__init__() got an unexpected keyword argument 'rel'",
     "output_type": "error",
     "traceback": [
      "\u001b[0;31m---------------------------------------------------------------------------\u001b[0m",
      "\u001b[0;31mTypeError\u001b[0m                                 Traceback (most recent call last)",
      "Cell \u001b[0;32mIn[18], line 1\u001b[0m\n\u001b[0;32m----> 1\u001b[0m p1\u001b[38;5;241m.\u001b[39mf1 \u001b[38;5;241m=\u001b[39m \u001b[43mp1\u001b[49m\u001b[38;5;241;43m.\u001b[39;49m\u001b[43mv22\u001b[49m\u001b[43m \u001b[49m\u001b[38;5;241;43m+\u001b[39;49m\u001b[43m \u001b[49m\u001b[43mp1\u001b[49m\u001b[38;5;241;43m.\u001b[39;49m\u001b[43mv2\u001b[49m\n",
      "File \u001b[0;32m~/Desktop/repos/gana/src/gana/sets/variables.py:136\u001b[0m, in \u001b[0;36mV.__add__\u001b[0;34m(self, other)\u001b[0m\n\u001b[1;32m    134\u001b[0m \u001b[38;5;28;01mdef\u001b[39;00m \u001b[38;5;21m__add__\u001b[39m(\u001b[38;5;28mself\u001b[39m, other: Self \u001b[38;5;241m|\u001b[39m F):\n\u001b[1;32m    135\u001b[0m     f \u001b[38;5;241m=\u001b[39m F(one\u001b[38;5;241m=\u001b[39m\u001b[38;5;28mself\u001b[39m, rel\u001b[38;5;241m=\u001b[39m\u001b[38;5;124m'\u001b[39m\u001b[38;5;124m+\u001b[39m\u001b[38;5;124m'\u001b[39m, two\u001b[38;5;241m=\u001b[39mother)\n\u001b[0;32m--> 136\u001b[0m     \u001b[43mf\u001b[49m\u001b[38;5;241;43m.\u001b[39;49m\u001b[43mprocess\u001b[49m\u001b[43m(\u001b[49m\u001b[43m)\u001b[49m\n\u001b[1;32m    137\u001b[0m     \u001b[38;5;28;01mreturn\u001b[39;00m f\n",
      "File \u001b[0;32m~/Desktop/repos/gana/src/gana/sets/functions.py:102\u001b[0m, in \u001b[0;36mF.process\u001b[0;34m(self)\u001b[0m\n\u001b[1;32m     99\u001b[0m \u001b[38;5;28;01melse\u001b[39;00m:\n\u001b[1;32m    100\u001b[0m     two \u001b[38;5;241m=\u001b[39m \u001b[38;5;28;01mNone\u001b[39;00m\n\u001b[0;32m--> 102\u001b[0m \u001b[38;5;28mself\u001b[39m\u001b[38;5;241m.\u001b[39m_\u001b[38;5;241m.\u001b[39mappend(\u001b[43mFunc\u001b[49m\u001b[43m(\u001b[49m\u001b[43mparent\u001b[49m\u001b[38;5;241;43m=\u001b[39;49m\u001b[38;5;28;43mself\u001b[39;49m\u001b[43m,\u001b[49m\u001b[43m \u001b[49m\u001b[43mpos\u001b[49m\u001b[38;5;241;43m=\u001b[39;49m\u001b[43mn\u001b[49m\u001b[43m,\u001b[49m\u001b[43m \u001b[49m\u001b[43mone\u001b[49m\u001b[38;5;241;43m=\u001b[39;49m\u001b[43mone\u001b[49m\u001b[43m,\u001b[49m\u001b[43m \u001b[49m\u001b[43mrel\u001b[49m\u001b[38;5;241;43m=\u001b[39;49m\u001b[38;5;28;43mself\u001b[39;49m\u001b[38;5;241;43m.\u001b[39;49m\u001b[43mrel\u001b[49m\u001b[43m,\u001b[49m\u001b[43m \u001b[49m\u001b[43mtwo\u001b[49m\u001b[38;5;241;43m=\u001b[39;49m\u001b[43mtwo\u001b[49m\u001b[43m)\u001b[49m)\n",
      "\u001b[0;31mTypeError\u001b[0m: Func.__init__() got an unexpected keyword argument 'rel'"
     ]
    }
   ],
   "source": [
    "p1.f1 = p1.v22 + p1.v2"
   ]
  },
  {
   "cell_type": "code",
   "execution_count": null,
   "metadata": {},
   "outputs": [],
   "source": [
    "p1.f2 = p1.v22 - p1.v2\n",
    "p1.f3 = p1.v22 * p1.v2\n",
    "p1.f4 = p1.v22 / p1.v2\n",
    "\n",
    "p1.c1 = p1.v22 == p1.v2\n",
    "p1.c2 = p1.v22 >= p1.v2\n",
    "p1.c3 = p1.v22 <= p1.v2\n",
    "p1.c4 = p1.v22 > p1.v2\n",
    "p1.c5 = p1.v22 < p1.v2\n",
    "p1.c6 = p1.v1 <= p1.p6\n",
    "\n",
    "p1.pprint(True)"
   ]
  },
  {
   "cell_type": "code",
   "execution_count": 6,
   "metadata": {},
   "outputs": [
    {
     "data": {
      "text/plain": [
       "[+v22_0+v2_0, +v22_1+v2_1, +v22_0+v2_0, +v22_1+v2_1]"
      ]
     },
     "execution_count": 6,
     "metadata": {},
     "output_type": "execute_result"
    }
   ],
   "source": [
    "p1.f1._"
   ]
  },
  {
   "cell_type": "code",
   "execution_count": 7,
   "metadata": {},
   "outputs": [],
   "source": [
    "p = Prg()"
   ]
  },
  {
   "cell_type": "code",
   "execution_count": 8,
   "metadata": {},
   "outputs": [],
   "source": [
    "p.t1 = I(1)\n",
    "p.t2 = I(2)\n",
    "p.t4 = I(4)"
   ]
  },
  {
   "cell_type": "code",
   "execution_count": 9,
   "metadata": {},
   "outputs": [
    {
     "name": "stdout",
     "output_type": "stream",
     "text": [
      "c_0 12.0\n",
      "c_1 15.0\n",
      "c_2 18.0\n",
      "c_3 9.0\n"
     ]
    }
   ],
   "source": [
    "p.c = V(p.t4)\n",
    "p.s = V(p.t4)\n",
    "p.p = V(p.t4)\n",
    "p.bal = P(p.t4, _=[0, 0, 0, 0])\n",
    "p.bub = P(p.t4, _=[12, 15, 18, 9])\n",
    "p.blb = P(p.t4, _=[3, 3, 3, 3])\n",
    "p.sub = P(p.t2, _=[15, 17])\n",
    "p.slb = P(p.t2, _=[4, 8])\n",
    "p.pub = P(p.t1, _=[50])\n",
    "p.plb = P(p.t1, _=[10])\n",
    "p.pcst = P(p.t4, _=[0.5] * 4)\n",
    "p.bcst = P(p.t4, _=[2] * 4)\n",
    "p.scst = P(p.t4, _=[3] * 4)\n",
    "p.bcnv = P(p.t4, _=[3] * 4)\n",
    "p.scnv = P(p.t4, _=[1] * 4)\n",
    "p.cons_bmax = p.c <= p.bub"
   ]
  },
  {
   "cell_type": "code",
   "execution_count": 10,
   "metadata": {},
   "outputs": [
    {
     "name": "stdout",
     "output_type": "stream",
     "text": [
      "c_0 s_0\n",
      "c_1 s_1\n",
      "c_2 s_2\n",
      "c_3 s_3\n",
      "p_0 None\n",
      "p_1 None\n",
      "p_2 None\n",
      "p_3 None\n",
      "+c_0+s_0 p_0\n",
      "+c_1+s_1 p_1\n",
      "+c_2+s_2 p_2\n",
      "+c_3+s_3 p_3\n",
      "None c_0\n",
      "-c_0 s_0\n",
      "-c_0-s_0 p_0\n",
      "None c_1\n",
      "-c_1 s_1\n",
      "-c_1-s_1 p_1\n",
      "None c_2\n",
      "-c_2 s_2\n",
      "-c_2-s_2 p_2\n",
      "None c_3\n",
      "-c_3 s_3\n",
      "-c_3-s_3 p_3\n",
      "-c_0-s_0-p_0 3.0\n",
      "-c_1-s_1-p_1 3.0\n",
      "-c_2-s_2-p_2 3.0\n",
      "-c_3-s_3-p_3 3.0\n",
      "3 s_1\n",
      "s_0 +s_1×3.0\n",
      "+s_0+s_1×3.0 15.0\n",
      "s_0 s_1\n",
      "None s_0\n",
      "-s_0 s_1\n",
      "-s_0-s_1 4.0\n",
      "s_2 3.0\n",
      "s_2 s_3\n",
      "+s_2+s_3 3.0\n",
      "+s_2+s_3 14.0\n",
      "s_2 s_3\n",
      "None s_2\n",
      "-s_2 s_3\n",
      "-s_2-s_3 8.0\n",
      "c_0 p_0\n",
      "c_1 p_1\n",
      "c_2 p_2\n",
      "c_3 p_3\n",
      "s_0 None\n",
      "s_1 None\n",
      "s_2 None\n",
      "s_3 None\n",
      "+c_0+p_0 s_0\n",
      "+c_1+p_1 s_1\n",
      "+c_2+p_2 s_2\n",
      "+c_3+p_3 s_3\n",
      "p_0 p_1\n",
      "+p_0+p_1 p_2\n",
      "+p_0+p_1+p_2 p_3\n",
      "+p_0+p_1+p_2+p_3 50.0\n",
      "s_0 s_1\n",
      "+s_0+s_1 s_2\n",
      "+s_0+s_1+s_2 s_3\n",
      "+s_0+s_1+s_2+s_3 -3.0\n",
      "+s_0+s_1+s_2 -3.0\n",
      "+s_0+s_1 -3.0\n",
      "s_0 -3.0\n",
      "p_0 p_1\n",
      "+p_0+p_1 p_2\n",
      "+p_0+p_1+p_2 p_3\n",
      "+p_0+p_1+p_2+p_3 0.5\n",
      "+p_0+p_1+p_2 0.5\n",
      "+p_0+p_1 0.5\n",
      "p_0 0.5\n",
      "+s_0+s_1+s_2+s_3 +p_0×0.5+p_1×0.5+p_2×0.5+p_3×0.5\n",
      "+s_0×-3.0+s_1×-3.0+s_2×-3.0+s_3+p_0×0.5+p_1×0.5+p_2×0.5+p_3×0.5 -3.0\n",
      "c_0 c_1\n",
      "+c_0+c_1 c_2\n",
      "+c_0+c_1+c_2 c_3\n",
      "+c_0+c_1+c_2+c_3 2.0\n",
      "+c_0+c_1+c_2 2.0\n",
      "+c_0+c_1 2.0\n",
      "c_0 2.0\n",
      "+s_0×-3.0+s_1×-3.0+s_2×-3.0+s_3+p_0×0.5+p_1×0.5+p_2×0.5+p_3×0.5 +c_0×2.0+c_1×2.0+c_2×2.0+c_3×2.0\n",
      "+s_0×-3.0+s_1×-3.0+s_2×-3.0+s_3+p_0×0.5+p_1×0.5+p_2×0.5+p_3×0.5+c_0×2.0+c_1×2.0+c_2×2.0+c_3×2.0 -3.0\n"
     ]
    }
   ],
   "source": [
    "p.cons_bmin = p.c + p.s + p.p >= p.blb\n",
    "p.cons_smax1 = p.s(p.t4[0]) + 3 * p.s(p.t4[1]) <= p.sub(p.t2[0])\n",
    "p.cons_smin1 = p.s(p.t4_0) + p.s(p.t4[1]) >= p.slb(p.t2[0])\n",
    "p.cons_smax2 = 3 + p.s(p.t4[2]) + p.s(p.t4[3]) <= p.sub(p.t2[1])\n",
    "p.cons_smin2 = p.s(p.t4[2]) + p.s(p.t4[3]) >= p.slb(p.t2_1)\n",
    "p.cons_bal = p.c + p.p - p.s == 0\n",
    "p.cons_pmax = sum(p.p) <= sum(p.pub)\n",
    "\n",
    "p.obj = inf(-3 * sum(p.s) + 0.5 * sum(p.p) + 2 * sum(p.c))\n",
    "\n",
    "\n",
    "# p.pprint()\n",
    "# p.pprint()"
   ]
  },
  {
   "cell_type": "code",
   "execution_count": 11,
   "metadata": {},
   "outputs": [
    {
     "name": "stdout",
     "output_type": "stream",
     "text": [
      "s_0 s_1\n",
      "+s_0+s_1 s_2\n",
      "+s_0+s_1+s_2 s_3\n",
      "+s_0+s_1+s_2+s_3 -3.0\n",
      "+s_0+s_1+s_2 -3.0\n",
      "+s_0+s_1 -3.0\n",
      "s_0 -3.0\n",
      "p_0 p_1\n",
      "+p_0+p_1 p_2\n",
      "+p_0+p_1+p_2 p_3\n",
      "+p_0+p_1+p_2+p_3 0.5\n",
      "+p_0+p_1+p_2 0.5\n",
      "+p_0+p_1 0.5\n",
      "p_0 0.5\n",
      "c_0 c_1\n",
      "+c_0+c_1 c_2\n",
      "+c_0+c_1+c_2 c_3\n",
      "+c_0+c_1+c_2+c_3 2.0\n",
      "+c_0+c_1+c_2 2.0\n",
      "+c_0+c_1 2.0\n",
      "c_0 2.0\n"
     ]
    }
   ],
   "source": [
    "a = -3 * sum(p.s)\n",
    "b = 0.5 * sum(p.p)\n",
    "c = 2 * sum(p.c)"
   ]
  },
  {
   "cell_type": "code",
   "execution_count": 12,
   "metadata": {},
   "outputs": [
    {
     "data": {
      "text/plain": [
       "(+s_0+s_1+s_2+s_3, +p_0+p_1+p_2+p_3, +c_0+c_1+c_2+c_3)"
      ]
     },
     "execution_count": 12,
     "metadata": {},
     "output_type": "execute_result"
    }
   ],
   "source": [
    "a.one, b.one, c.one"
   ]
  },
  {
   "cell_type": "code",
   "execution_count": 13,
   "metadata": {},
   "outputs": [
    {
     "data": {
      "text/plain": [
       "('×', '×', '×')"
      ]
     },
     "execution_count": 13,
     "metadata": {},
     "output_type": "execute_result"
    }
   ],
   "source": [
    "a.rel, b.rel, c.rel"
   ]
  },
  {
   "cell_type": "code",
   "execution_count": 14,
   "metadata": {},
   "outputs": [
    {
     "data": {
      "text/plain": [
       "(-3.0, 0.5, 2.0)"
      ]
     },
     "execution_count": 14,
     "metadata": {},
     "output_type": "execute_result"
    }
   ],
   "source": [
    "a.two, b.two, c.two"
   ]
  },
  {
   "cell_type": "code",
   "execution_count": 15,
   "metadata": {},
   "outputs": [
    {
     "data": {
      "text/plain": [
       "+s_0×-3.0+s_1×-3.0+s_2×-3.0+s_3×-3.0"
      ]
     },
     "execution_count": 15,
     "metadata": {},
     "output_type": "execute_result"
    }
   ],
   "source": [
    "a"
   ]
  },
  {
   "cell_type": "code",
   "execution_count": 17,
   "metadata": {},
   "outputs": [
    {
     "name": "stdout",
     "output_type": "stream",
     "text": [
      "+s_0+s_1+s_2+s_3 c_0\n",
      "+s_0×-3.0+s_1×-3.0+s_2×-3.0+s_3+c_0 -3.0\n"
     ]
    },
    {
     "data": {
      "text/plain": [
       "+s_0×-3.0+s_1×-3.0+s_2×-3.0+s_3+c_0+-3.0"
      ]
     },
     "execution_count": 17,
     "metadata": {},
     "output_type": "execute_result"
    }
   ],
   "source": [
    "a + p.c[0]"
   ]
  },
  {
   "cell_type": "code",
   "execution_count": 30,
   "metadata": {},
   "outputs": [
    {
     "data": {
      "text/plain": [
       "gana.elements.function.Func"
      ]
     },
     "execution_count": 30,
     "metadata": {},
     "output_type": "execute_result"
    }
   ],
   "source": []
  },
  {
   "cell_type": "code",
   "execution_count": 14,
   "metadata": {},
   "outputs": [
    {
     "data": {
      "text/latex": [
       "$\\displaystyle min \\hspace{0.2cm} s_{t4_0} \\cdot -3.0 + s_{t4_1} \\cdot -3.0 + s_{t4_2} \\cdot -3.0 + s_{t4_3} + p_{t4_0} \\cdot 0.5 + p_{t4_1} \\cdot 0.5 + p_{t4_2} \\cdot 0.5 + p_{t4_3} \\cdot 0.5 + c_{t4_0} \\cdot 2.0 + c_{t4_1} \\cdot 2.0 + c_{t4_2} \\cdot 2.0 + c_{t4_3} \\cdot 2.0 + -3.0$"
      ],
      "text/plain": [
       "<IPython.core.display.Math object>"
      ]
     },
     "metadata": {},
     "output_type": "display_data"
    }
   ],
   "source": [
    "p.obj.pprint()"
   ]
  },
  {
   "cell_type": "code",
   "execution_count": 14,
   "metadata": {},
   "outputs": [
    {
     "name": "stdout",
     "output_type": "stream",
     "text": [
      "\n",
      "asdsa +s_0×3.0\n",
      "qweqe +s_1×3.0\n",
      "aaa +s_0+s_1\n",
      "\n",
      "asdsa +s_0×3.0+s_1×3.0×3.0\n",
      "qweqe +s_2×3.0\n",
      "aaa +s_0+s_1+s_2\n",
      "\n",
      "asdsa +s_0×3.0+s_1×3.0×3.0+s_2×3.0×3.0\n",
      "qweqe +s_3×3.0\n",
      "aaa +s_0+s_1+s_2+s_3\n"
     ]
    }
   ],
   "source": [
    "a = 3 * sum(p.s)"
   ]
  },
  {
   "cell_type": "code",
   "execution_count": 15,
   "metadata": {},
   "outputs": [
    {
     "data": {
      "text/plain": [
       "+s_0×3.0+s_1×3.0×3.0+s_2×3.0×3.0+s_3×3.0×3.0"
      ]
     },
     "execution_count": 15,
     "metadata": {},
     "output_type": "execute_result"
    }
   ],
   "source": [
    "a"
   ]
  },
  {
   "cell_type": "code",
   "execution_count": 16,
   "metadata": {},
   "outputs": [
    {
     "data": {
      "text/plain": [
       "'s_0×3.0+s_1×3.0×3.0+s_2×3.0×3.0+s_3×3.0×3.0'"
      ]
     },
     "execution_count": 16,
     "metadata": {},
     "output_type": "execute_result"
    }
   ],
   "source": [
    "''.join([str(i) for i in a._[1:]])"
   ]
  },
  {
   "cell_type": "code",
   "execution_count": 17,
   "metadata": {},
   "outputs": [
    {
     "data": {
      "text/plain": [
       "['+',\n",
       " s_0,\n",
       " '×',\n",
       " -3.0,\n",
       " '+',\n",
       " s_1,\n",
       " '×',\n",
       " -3.0,\n",
       " '×',\n",
       " -3.0,\n",
       " '+',\n",
       " s_2,\n",
       " '×',\n",
       " -3.0,\n",
       " '×',\n",
       " -3.0,\n",
       " '+',\n",
       " s_3,\n",
       " '×',\n",
       " -3.0,\n",
       " '+',\n",
       " p_0,\n",
       " '×',\n",
       " 0.5,\n",
       " '+',\n",
       " p_1,\n",
       " '×',\n",
       " 0.5,\n",
       " '×',\n",
       " 0.5,\n",
       " '+',\n",
       " p_2,\n",
       " '×',\n",
       " 0.5,\n",
       " '×',\n",
       " 0.5,\n",
       " '+',\n",
       " p_3,\n",
       " '×',\n",
       " 0.5,\n",
       " '×',\n",
       " 0.5,\n",
       " '+',\n",
       " c_0,\n",
       " '×',\n",
       " 2.0,\n",
       " '+',\n",
       " c_1,\n",
       " '×',\n",
       " 2.0,\n",
       " '×',\n",
       " 2.0,\n",
       " '+',\n",
       " c_2,\n",
       " '×',\n",
       " 2.0,\n",
       " '×',\n",
       " 2.0,\n",
       " '+',\n",
       " c_3,\n",
       " '×',\n",
       " 2.0,\n",
       " '×',\n",
       " 2.0,\n",
       " '+',\n",
       " -3.0]"
      ]
     },
     "execution_count": 17,
     "metadata": {},
     "output_type": "execute_result"
    }
   ],
   "source": [
    "p.obj.func._"
   ]
  },
  {
   "cell_type": "code",
   "execution_count": 18,
   "metadata": {},
   "outputs": [
    {
     "name": "stdout",
     "output_type": "stream",
     "text": [
      "+c_0-12.0\n",
      "+c_1-15.0\n",
      "+c_2-18.0\n",
      "+c_3-9.0\n",
      "-c_0-s_0-p_0+3.0\n",
      "-c_1-s_1-p_1+3.0\n",
      "-c_2-s_2-p_2+3.0\n",
      "-c_3-s_3-p_3+3.0\n",
      "+s_0+s_1×3.0-15.0\n",
      "-s_0-s_1+4.0\n",
      "+s_2+s_3-14.0\n",
      "-s_2-s_3+8.0\n",
      "+c_0+p_0-s_0\n",
      "+c_1+p_1-s_1\n",
      "+c_2+p_2-s_2\n",
      "+c_3+p_3-s_3\n",
      "+p_0+p_1+p_2+p_3-50.0\n",
      "+s_0×-3.0+s_1×-3.0×-3.0+s_2×-3.0×-3.0+s_3×-3.0+p_0×0.5+p_1×0.5×0.5+p_2×0.5×0.5+p_3×0.5×0.5+c_0×2.0+c_1×2.0×2.0+c_2×2.0×2.0+c_3×2.0×2.0+-3.0\n"
     ]
    }
   ],
   "source": [
    "for f in p.functions:\n",
    "    print(f)"
   ]
  },
  {
   "cell_type": "code",
   "execution_count": 19,
   "metadata": {},
   "outputs": [],
   "source": [
    "A = p.a(True)"
   ]
  },
  {
   "cell_type": "code",
   "execution_count": 20,
   "metadata": {},
   "outputs": [
    {
     "data": {
      "text/plain": [
       "[[1.0, 0, 0, 0, 0, 0, 0, 0, 0, 0, 0, 0],\n",
       " [0, 1.0, 0, 0, 0, 0, 0, 0, 0, 0, 0, 0],\n",
       " [0, 0, 1.0, 0, 0, 0, 0, 0, 0, 0, 0, 0],\n",
       " [0, 0, 0, 1.0, 0, 0, 0, 0, 0, 0, 0, 0],\n",
       " [-1.0, 0, 0, 0, -1.0, 0, 0, 0, -1.0, 0, 0, 0],\n",
       " [0, -1.0, 0, 0, 0, -1.0, 0, 0, 0, -1.0, 0, 0],\n",
       " [0, 0, -1.0, 0, 0, 0, -1.0, 0, 0, 0, -1.0, 0],\n",
       " [0, 0, 0, -1.0, 0, 0, 0, -1.0, 0, 0, 0, -1.0],\n",
       " [0, 0, 0, 0, 1.0, 3.0, 0, 0, 0, 0, 0, 0],\n",
       " [0, 0, 0, 0, -1.0, -1.0, 0, 0, 0, 0, 0, 0],\n",
       " [0, 0, 0, 0, 0, 0, 1.0, 1.0, 0, 0, 0, 0],\n",
       " [0, 0, 0, 0, 0, 0, -1.0, -1.0, 0, 0, 0, 0],\n",
       " [1.0, 0, 0, 0, -1.0, 0, 0, 0, 1.0, 0, 0, 0],\n",
       " [0, 1.0, 0, 0, 0, -1.0, 0, 0, 0, 1.0, 0, 0],\n",
       " [0, 0, 1.0, 0, 0, 0, -1.0, 0, 0, 0, 1.0, 0],\n",
       " [0, 0, 0, 1.0, 0, 0, 0, -1.0, 0, 0, 0, 1.0],\n",
       " [0, 0, 0, 0, 0, 0, 0, 0, 1.0, 1.0, 1.0, 1.0],\n",
       " [-1.0, 0, 0, 0, 0, 0, 0, 0, 0, 0, 0, 0],\n",
       " [0, -1.0, 0, 0, 0, 0, 0, 0, 0, 0, 0, 0],\n",
       " [0, 0, -1.0, 0, 0, 0, 0, 0, 0, 0, 0, 0],\n",
       " [0, 0, 0, -1.0, 0, 0, 0, 0, 0, 0, 0, 0],\n",
       " [0, 0, 0, 0, -1.0, 0, 0, 0, 0, 0, 0, 0],\n",
       " [0, 0, 0, 0, 0, -1.0, 0, 0, 0, 0, 0, 0],\n",
       " [0, 0, 0, 0, 0, 0, -1.0, 0, 0, 0, 0, 0],\n",
       " [0, 0, 0, 0, 0, 0, 0, -1.0, 0, 0, 0, 0],\n",
       " [0, 0, 0, 0, 0, 0, 0, 0, -1.0, 0, 0, 0],\n",
       " [0, 0, 0, 0, 0, 0, 0, 0, 0, -1.0, 0, 0],\n",
       " [0, 0, 0, 0, 0, 0, 0, 0, 0, 0, -1.0, 0],\n",
       " [0, 0, 0, 0, 0, 0, 0, 0, 0, 0, 0, -1.0]]"
      ]
     },
     "execution_count": 20,
     "metadata": {},
     "output_type": "execute_result"
    }
   ],
   "source": [
    "A"
   ]
  },
  {
   "cell_type": "code",
   "execution_count": 21,
   "metadata": {},
   "outputs": [],
   "source": [
    "A, b = p.matrix(True)"
   ]
  },
  {
   "cell_type": "code",
   "execution_count": 22,
   "metadata": {},
   "outputs": [
    {
     "data": {
      "text/plain": [
       "[[1.0, 0, 0, 0, 0, 0, 0, 0, 0, 0, 0, 0],\n",
       " [0, 1.0, 0, 0, 0, 0, 0, 0, 0, 0, 0, 0],\n",
       " [0, 0, 1.0, 0, 0, 0, 0, 0, 0, 0, 0, 0],\n",
       " [0, 0, 0, 1.0, 0, 0, 0, 0, 0, 0, 0, 0],\n",
       " [-1.0, 0, 0, 0, -1.0, 0, 0, 0, -1.0, 0, 0, 0],\n",
       " [0, -1.0, 0, 0, 0, -1.0, 0, 0, 0, -1.0, 0, 0],\n",
       " [0, 0, -1.0, 0, 0, 0, -1.0, 0, 0, 0, -1.0, 0],\n",
       " [0, 0, 0, -1.0, 0, 0, 0, -1.0, 0, 0, 0, -1.0],\n",
       " [0, 0, 0, 0, 1.0, 3.0, 0, 0, 0, 0, 0, 0],\n",
       " [0, 0, 0, 0, -1.0, -1.0, 0, 0, 0, 0, 0, 0],\n",
       " [0, 0, 0, 0, 0, 0, 1.0, 1.0, 0, 0, 0, 0],\n",
       " [0, 0, 0, 0, 0, 0, -1.0, -1.0, 0, 0, 0, 0],\n",
       " [1.0, 0, 0, 0, -1.0, 0, 0, 0, 1.0, 0, 0, 0],\n",
       " [0, 1.0, 0, 0, 0, -1.0, 0, 0, 0, 1.0, 0, 0],\n",
       " [0, 0, 1.0, 0, 0, 0, -1.0, 0, 0, 0, 1.0, 0],\n",
       " [0, 0, 0, 1.0, 0, 0, 0, -1.0, 0, 0, 0, 1.0],\n",
       " [0, 0, 0, 0, 0, 0, 0, 0, 1.0, 1.0, 1.0, 1.0],\n",
       " [-1.0, 0, 0, 0, 0, 0, 0, 0, 0, 0, 0, 0],\n",
       " [0, -1.0, 0, 0, 0, 0, 0, 0, 0, 0, 0, 0],\n",
       " [0, 0, -1.0, 0, 0, 0, 0, 0, 0, 0, 0, 0],\n",
       " [0, 0, 0, -1.0, 0, 0, 0, 0, 0, 0, 0, 0],\n",
       " [0, 0, 0, 0, -1.0, 0, 0, 0, 0, 0, 0, 0],\n",
       " [0, 0, 0, 0, 0, -1.0, 0, 0, 0, 0, 0, 0],\n",
       " [0, 0, 0, 0, 0, 0, -1.0, 0, 0, 0, 0, 0],\n",
       " [0, 0, 0, 0, 0, 0, 0, -1.0, 0, 0, 0, 0],\n",
       " [0, 0, 0, 0, 0, 0, 0, 0, -1.0, 0, 0, 0],\n",
       " [0, 0, 0, 0, 0, 0, 0, 0, 0, -1.0, 0, 0],\n",
       " [0, 0, 0, 0, 0, 0, 0, 0, 0, 0, -1.0, 0],\n",
       " [0, 0, 0, 0, 0, 0, 0, 0, 0, 0, 0, -1.0]]"
      ]
     },
     "execution_count": 22,
     "metadata": {},
     "output_type": "execute_result"
    }
   ],
   "source": [
    "A"
   ]
  },
  {
   "cell_type": "code",
   "execution_count": 23,
   "metadata": {},
   "outputs": [],
   "source": [
    "cc = p.conssets[0]"
   ]
  },
  {
   "cell_type": "code",
   "execution_count": 24,
   "metadata": {},
   "outputs": [
    {
     "name": "stdout",
     "output_type": "stream",
     "text": [
      "['+', c_0, '-', 12.0]\n",
      "['+', c_1, '-', 15.0]\n",
      "['+', c_2, '-', 18.0]\n",
      "['+', c_3, '-', 9.0]\n",
      "['-', c_0, '-', s_0, '-', p_0, '+', 3.0]\n",
      "['-', c_1, '-', s_1, '-', p_1, '+', 3.0]\n",
      "['-', c_2, '-', s_2, '-', p_2, '+', 3.0]\n",
      "['-', c_3, '-', s_3, '-', p_3, '+', 3.0]\n",
      "['+', s_0, '+', s_1, '×', 3.0, '-', 15.0]\n",
      "['-', s_0, '-', s_1, '+', 4.0]\n",
      "['+', s_2, '+', s_3, '-', 14.0]\n",
      "['-', s_2, '-', s_3, '+', 8.0]\n",
      "['+', c_0, '+', p_0, '-', s_0]\n",
      "['+', c_1, '+', p_1, '-', s_1]\n",
      "['+', c_2, '+', p_2, '-', s_2]\n",
      "['+', c_3, '+', p_3, '-', s_3]\n",
      "['+', p_0, '+', p_1, '+', p_2, '+', p_3, '-', 50.0]\n",
      "['-', c_0]\n",
      "['-', c_1]\n",
      "['-', c_2]\n",
      "['-', c_3]\n",
      "['-', s_0]\n",
      "['-', s_1]\n",
      "['-', s_2]\n",
      "['-', s_3]\n",
      "['-', p_0]\n",
      "['-', p_1]\n",
      "['-', p_2]\n",
      "['-', p_3]\n"
     ]
    }
   ],
   "source": [
    "for f in p.constraints:\n",
    "    print(f._)"
   ]
  },
  {
   "cell_type": "code",
   "execution_count": 25,
   "metadata": {},
   "outputs": [
    {
     "data": {
      "text/plain": [
       "[[0],\n",
       " [1],\n",
       " [2],\n",
       " [3],\n",
       " [0, 4, 8],\n",
       " [1, 5, 9],\n",
       " [2, 6, 10],\n",
       " [3, 7, 11],\n",
       " [4, 5],\n",
       " [4, 5],\n",
       " [6, 7],\n",
       " [6, 7],\n",
       " [0, 8, 4],\n",
       " [1, 9, 5],\n",
       " [2, 10, 6],\n",
       " [3, 11, 7],\n",
       " [8, 9, 10, 11],\n",
       " [0],\n",
       " [1],\n",
       " [2],\n",
       " [3],\n",
       " [4],\n",
       " [5],\n",
       " [6],\n",
       " [7],\n",
       " [8],\n",
       " [9],\n",
       " [10],\n",
       " [11]]"
      ]
     },
     "execution_count": 25,
     "metadata": {},
     "output_type": "execute_result"
    }
   ],
   "source": [
    "p.x()"
   ]
  },
  {
   "cell_type": "code",
   "execution_count": 26,
   "metadata": {},
   "outputs": [],
   "source": [
    "m = p.pyomo()"
   ]
  },
  {
   "cell_type": "code",
   "execution_count": 27,
   "metadata": {},
   "outputs": [
    {
     "data": {
      "text/plain": [
       "[+c_0-12.0, +c_1-15.0, +c_2-18.0, +c_3-9.0]"
      ]
     },
     "execution_count": 27,
     "metadata": {},
     "output_type": "execute_result"
    }
   ],
   "source": [
    "cc.funcs._"
   ]
  },
  {
   "cell_type": "code",
   "execution_count": 28,
   "metadata": {},
   "outputs": [],
   "source": [
    "def f(x):\n",
    "    print(x)"
   ]
  },
  {
   "cell_type": "code",
   "execution_count": 29,
   "metadata": {},
   "outputs": [
    {
     "data": {
      "text/plain": [
       "function"
      ]
     },
     "execution_count": 29,
     "metadata": {},
     "output_type": "execute_result"
    }
   ],
   "source": [
    "type(f)"
   ]
  },
  {
   "cell_type": "code",
   "execution_count": 30,
   "metadata": {},
   "outputs": [
    {
     "data": {
      "text/plain": [
       "[cons_bmax_0,\n",
       " cons_bmax_1,\n",
       " cons_bmax_2,\n",
       " cons_bmax_3,\n",
       " cons_bmin_0,\n",
       " cons_bmin_1,\n",
       " cons_bmin_2,\n",
       " cons_bmin_3,\n",
       " cons_smax1,\n",
       " cons_smin1,\n",
       " cons_smax2,\n",
       " cons_smin2,\n",
       " cons_bal_0,\n",
       " cons_bal_1,\n",
       " cons_bal_2,\n",
       " cons_bal_3,\n",
       " cons_pmax,\n",
       " c_0_nn,\n",
       " c_1_nn,\n",
       " c_2_nn,\n",
       " c_3_nn,\n",
       " s_0_nn,\n",
       " s_1_nn,\n",
       " s_2_nn,\n",
       " s_3_nn,\n",
       " p_0_nn,\n",
       " p_1_nn,\n",
       " p_2_nn,\n",
       " p_3_nn]"
      ]
     },
     "execution_count": 30,
     "metadata": {},
     "output_type": "execute_result"
    }
   ],
   "source": [
    "p.constraints"
   ]
  },
  {
   "cell_type": "code",
   "execution_count": 31,
   "metadata": {},
   "outputs": [
    {
     "data": {
      "text/latex": [
       "$\\displaystyle  - c_{t4_0} - s_{t4_0} - p_{t4_0} + 3.0 \\leq 0$"
      ],
      "text/plain": [
       "<IPython.core.display.Math object>"
      ]
     },
     "metadata": {},
     "output_type": "display_data"
    }
   ],
   "source": [
    "p.cons_bmin._[0].pprint()"
   ]
  },
  {
   "cell_type": "code",
   "execution_count": 32,
   "metadata": {},
   "outputs": [],
   "source": [
    "pp = p1 + p"
   ]
  },
  {
   "cell_type": "code",
   "execution_count": 33,
   "metadata": {},
   "outputs": [
    {
     "data": {
      "text/latex": [
       "$\\displaystyle \\mathcal{i0}\\in\\{x\\}$"
      ],
      "text/plain": [
       "<IPython.core.display.Math object>"
      ]
     },
     "metadata": {},
     "output_type": "display_data"
    },
    {
     "data": {
      "text/latex": [
       "$\\displaystyle \\mathcal{i1}\\in\\{x, y, z\\}$"
      ],
      "text/plain": [
       "<IPython.core.display.Math object>"
      ]
     },
     "metadata": {},
     "output_type": "display_data"
    },
    {
     "data": {
      "text/latex": [
       "$\\displaystyle \\mathcal{i2}\\in\\{p, q\\}$"
      ],
      "text/plain": [
       "<IPython.core.display.Math object>"
      ]
     },
     "metadata": {},
     "output_type": "display_data"
    },
    {
     "data": {
      "text/latex": [
       "$\\displaystyle \\mathcal{i3}\\in\\{x, y, z, p, q, y\\}$"
      ],
      "text/plain": [
       "<IPython.core.display.Math object>"
      ]
     },
     "metadata": {},
     "output_type": "display_data"
    },
    {
     "data": {
      "text/latex": [
       "$\\displaystyle \\mathcal{i4}\\in\\{x, y, z\\}$"
      ],
      "text/plain": [
       "<IPython.core.display.Math object>"
      ]
     },
     "metadata": {},
     "output_type": "display_data"
    },
    {
     "data": {
      "text/latex": [
       "$\\displaystyle \\mathcal{i5}\\in\\{i5_0, i5_1, i5_2\\}$"
      ],
      "text/plain": [
       "<IPython.core.display.Math object>"
      ]
     },
     "metadata": {},
     "output_type": "display_data"
    },
    {
     "data": {
      "text/latex": [
       "$\\displaystyle \\mathcal{t1}\\in\\{t1_0\\}$"
      ],
      "text/plain": [
       "<IPython.core.display.Math object>"
      ]
     },
     "metadata": {},
     "output_type": "display_data"
    },
    {
     "data": {
      "text/latex": [
       "$\\displaystyle \\mathcal{t2}\\in\\{t2_0, t2_1\\}$"
      ],
      "text/plain": [
       "<IPython.core.display.Math object>"
      ]
     },
     "metadata": {},
     "output_type": "display_data"
    },
    {
     "data": {
      "text/latex": [
       "$\\displaystyle \\mathcal{t4}\\in\\{t4_0, t4_1, t4_2, t4_3\\}$"
      ],
      "text/plain": [
       "<IPython.core.display.Math object>"
      ]
     },
     "metadata": {},
     "output_type": "display_data"
    },
    {
     "data": {
      "text/latex": [
       "$\\displaystyle v22_{i0, i2} - v2_{i0, i2} = 0$"
      ],
      "text/plain": [
       "<IPython.core.display.Math object>"
      ]
     },
     "metadata": {},
     "output_type": "display_data"
    },
    {
     "data": {
      "text/latex": [
       "$\\displaystyle v2_{i0, i2} - v22_{i0, i2} \\leq 0$"
      ],
      "text/plain": [
       "<IPython.core.display.Math object>"
      ]
     },
     "metadata": {},
     "output_type": "display_data"
    },
    {
     "data": {
      "text/latex": [
       "$\\displaystyle v22_{i0, i2} - v2_{i0, i2} \\leq 0$"
      ],
      "text/plain": [
       "<IPython.core.display.Math object>"
      ]
     },
     "metadata": {},
     "output_type": "display_data"
    },
    {
     "data": {
      "text/latex": [
       "$\\displaystyle v2_{i0, i2} - v22_{i0, i2} \\leq 0$"
      ],
      "text/plain": [
       "<IPython.core.display.Math object>"
      ]
     },
     "metadata": {},
     "output_type": "display_data"
    },
    {
     "data": {
      "text/latex": [
       "$\\displaystyle v22_{i0, i2} - v2_{i0, i2} \\leq 0$"
      ],
      "text/plain": [
       "<IPython.core.display.Math object>"
      ]
     },
     "metadata": {},
     "output_type": "display_data"
    },
    {
     "data": {
      "text/latex": [
       "$\\displaystyle v1_{i1} - P6_{i1} \\leq 0$"
      ],
      "text/plain": [
       "<IPython.core.display.Math object>"
      ]
     },
     "metadata": {},
     "output_type": "display_data"
    },
    {
     "data": {
      "text/latex": [
       "$\\displaystyle c_{t4} - Bub_{t4} \\leq 0$"
      ],
      "text/plain": [
       "<IPython.core.display.Math object>"
      ]
     },
     "metadata": {},
     "output_type": "display_data"
    },
    {
     "data": {
      "text/latex": [
       "$\\displaystyle c_{t4} + s_{t4} - p_{t4} + Blb_{t4} \\leq 0$"
      ],
      "text/plain": [
       "<IPython.core.display.Math object>"
      ]
     },
     "metadata": {},
     "output_type": "display_data"
    },
    {
     "data": {
      "text/latex": [
       "$\\displaystyle c_{t4} + p_{t4} - s_{t4} = 0$"
      ],
      "text/plain": [
       "<IPython.core.display.Math object>"
      ]
     },
     "metadata": {},
     "output_type": "display_data"
    },
    {
     "data": {
      "text/latex": [
       "$\\displaystyle s_{t4_0} + s_{t4_1} \\cdot 3.0 - 15.0 \\leq 0$"
      ],
      "text/plain": [
       "<IPython.core.display.Math object>"
      ]
     },
     "metadata": {},
     "output_type": "display_data"
    },
    {
     "data": {
      "text/latex": [
       "$\\displaystyle  - s_{t4_0} - s_{t4_1} + 4.0 \\leq 0$"
      ],
      "text/plain": [
       "<IPython.core.display.Math object>"
      ]
     },
     "metadata": {},
     "output_type": "display_data"
    },
    {
     "data": {
      "text/latex": [
       "$\\displaystyle s_{t4_2} + s_{t4_3} - 14.0 \\leq 0$"
      ],
      "text/plain": [
       "<IPython.core.display.Math object>"
      ]
     },
     "metadata": {},
     "output_type": "display_data"
    },
    {
     "data": {
      "text/latex": [
       "$\\displaystyle  - s_{t4_2} - s_{t4_3} + 8.0 \\leq 0$"
      ],
      "text/plain": [
       "<IPython.core.display.Math object>"
      ]
     },
     "metadata": {},
     "output_type": "display_data"
    },
    {
     "data": {
      "text/latex": [
       "$\\displaystyle p_{t4_0} + p_{t4_1} + p_{t4_2} + p_{t4_3} - 50.0 \\leq 0$"
      ],
      "text/plain": [
       "<IPython.core.display.Math object>"
      ]
     },
     "metadata": {},
     "output_type": "display_data"
    },
    {
     "data": {
      "text/latex": [
       "$\\displaystyle  - c_{t4_0} \\leq 0$"
      ],
      "text/plain": [
       "<IPython.core.display.Math object>"
      ]
     },
     "metadata": {},
     "output_type": "display_data"
    },
    {
     "data": {
      "text/latex": [
       "$\\displaystyle  - c_{t4_1} \\leq 0$"
      ],
      "text/plain": [
       "<IPython.core.display.Math object>"
      ]
     },
     "metadata": {},
     "output_type": "display_data"
    },
    {
     "data": {
      "text/latex": [
       "$\\displaystyle  - c_{t4_2} \\leq 0$"
      ],
      "text/plain": [
       "<IPython.core.display.Math object>"
      ]
     },
     "metadata": {},
     "output_type": "display_data"
    },
    {
     "data": {
      "text/latex": [
       "$\\displaystyle  - c_{t4_3} \\leq 0$"
      ],
      "text/plain": [
       "<IPython.core.display.Math object>"
      ]
     },
     "metadata": {},
     "output_type": "display_data"
    },
    {
     "data": {
      "text/latex": [
       "$\\displaystyle  - s_{t4_0} \\leq 0$"
      ],
      "text/plain": [
       "<IPython.core.display.Math object>"
      ]
     },
     "metadata": {},
     "output_type": "display_data"
    },
    {
     "data": {
      "text/latex": [
       "$\\displaystyle  - s_{t4_1} \\leq 0$"
      ],
      "text/plain": [
       "<IPython.core.display.Math object>"
      ]
     },
     "metadata": {},
     "output_type": "display_data"
    },
    {
     "data": {
      "text/latex": [
       "$\\displaystyle  - s_{t4_2} \\leq 0$"
      ],
      "text/plain": [
       "<IPython.core.display.Math object>"
      ]
     },
     "metadata": {},
     "output_type": "display_data"
    },
    {
     "data": {
      "text/latex": [
       "$\\displaystyle  - s_{t4_3} \\leq 0$"
      ],
      "text/plain": [
       "<IPython.core.display.Math object>"
      ]
     },
     "metadata": {},
     "output_type": "display_data"
    },
    {
     "data": {
      "text/latex": [
       "$\\displaystyle  - p_{t4_0} \\leq 0$"
      ],
      "text/plain": [
       "<IPython.core.display.Math object>"
      ]
     },
     "metadata": {},
     "output_type": "display_data"
    },
    {
     "data": {
      "text/latex": [
       "$\\displaystyle  - p_{t4_1} \\leq 0$"
      ],
      "text/plain": [
       "<IPython.core.display.Math object>"
      ]
     },
     "metadata": {},
     "output_type": "display_data"
    },
    {
     "data": {
      "text/latex": [
       "$\\displaystyle  - p_{t4_2} \\leq 0$"
      ],
      "text/plain": [
       "<IPython.core.display.Math object>"
      ]
     },
     "metadata": {},
     "output_type": "display_data"
    },
    {
     "data": {
      "text/latex": [
       "$\\displaystyle  - p_{t4_3} \\leq 0$"
      ],
      "text/plain": [
       "<IPython.core.display.Math object>"
      ]
     },
     "metadata": {},
     "output_type": "display_data"
    }
   ],
   "source": [
    "pp.pprint()"
   ]
  },
  {
   "cell_type": "code",
   "execution_count": 34,
   "metadata": {},
   "outputs": [
    {
     "ename": "IndexError",
     "evalue": "list assignment index out of range",
     "output_type": "error",
     "traceback": [
      "\u001b[1;31m---------------------------------------------------------------------------\u001b[0m",
      "\u001b[1;31mIndexError\u001b[0m                                Traceback (most recent call last)",
      "Cell \u001b[1;32mIn[34], line 1\u001b[0m\n\u001b[1;32m----> 1\u001b[0m \u001b[43mpp\u001b[49m\u001b[38;5;241;43m.\u001b[39;49m\u001b[43ma\u001b[49m\u001b[43m(\u001b[49m\u001b[38;5;28;43;01mTrue\u001b[39;49;00m\u001b[43m)\u001b[49m\n",
      "File \u001b[1;32mc:\\Users\\cacodcar\\gana\\src\\gana\\block\\program.py:201\u001b[0m, in \u001b[0;36mPrg.a\u001b[1;34m(self, zero)\u001b[0m\n\u001b[0;32m    199\u001b[0m         row \u001b[38;5;241m=\u001b[39m [\u001b[38;5;28;01mNone\u001b[39;00m] \u001b[38;5;241m*\u001b[39m \u001b[38;5;28mlen\u001b[39m(\u001b[38;5;28mself\u001b[39m\u001b[38;5;241m.\u001b[39mvars_cnt)\n\u001b[0;32m    200\u001b[0m     \u001b[38;5;28;01mfor\u001b[39;00m n, value \u001b[38;5;129;01min\u001b[39;00m \u001b[38;5;28mzip\u001b[39m(c\u001b[38;5;241m.\u001b[39mx(), c\u001b[38;5;241m.\u001b[39ma()):\n\u001b[1;32m--> 201\u001b[0m         \u001b[43mrow\u001b[49m\u001b[43m[\u001b[49m\u001b[43mn\u001b[49m\u001b[43m]\u001b[49m \u001b[38;5;241m=\u001b[39m value\n\u001b[0;32m    202\u001b[0m     a_\u001b[38;5;241m.\u001b[39mappend(row)\n\u001b[0;32m    204\u001b[0m \u001b[38;5;28;01mreturn\u001b[39;00m a_\n",
      "\u001b[1;31mIndexError\u001b[0m: list assignment index out of range"
     ]
    }
   ],
   "source": [
    "pp.a(True)"
   ]
  },
  {
   "cell_type": "code",
   "execution_count": null,
   "metadata": {},
   "outputs": [],
   "source": [
    "p.b(True)"
   ]
  },
  {
   "cell_type": "code",
   "execution_count": null,
   "metadata": {},
   "outputs": [],
   "source": [
    "p.b()"
   ]
  },
  {
   "cell_type": "code",
   "execution_count": null,
   "metadata": {},
   "outputs": [],
   "source": [
    "p.g(True)"
   ]
  },
  {
   "cell_type": "code",
   "execution_count": null,
   "metadata": {},
   "outputs": [],
   "source": [
    "p.h(True)"
   ]
  },
  {
   "cell_type": "code",
   "execution_count": null,
   "metadata": {},
   "outputs": [],
   "source": [
    "for c in p.constraints:\n",
    "    print(c.n)"
   ]
  },
  {
   "cell_type": "code",
   "execution_count": null,
   "metadata": {},
   "outputs": [],
   "source": [
    "p.functions"
   ]
  },
  {
   "cell_type": "code",
   "execution_count": null,
   "metadata": {},
   "outputs": [],
   "source": [
    "p.a(zero=True)"
   ]
  },
  {
   "cell_type": "code",
   "execution_count": 12,
   "metadata": {},
   "outputs": [],
   "source": [
    "m = p.pyomo()"
   ]
  },
  {
   "cell_type": "code",
   "execution_count": null,
   "metadata": {},
   "outputs": [],
   "source": [
    "m.pprint()"
   ]
  },
  {
   "cell_type": "code",
   "execution_count": null,
   "metadata": {},
   "outputs": [],
   "source": [
    "p.vars_nn"
   ]
  },
  {
   "cell_type": "code",
   "execution_count": null,
   "metadata": {},
   "outputs": [],
   "source": [
    "p.pprint(True)"
   ]
  },
  {
   "cell_type": "code",
   "execution_count": null,
   "metadata": {},
   "outputs": [],
   "source": [
    "p1.pprint(True)"
   ]
  },
  {
   "cell_type": "code",
   "execution_count": 17,
   "metadata": {},
   "outputs": [],
   "source": [
    "pp = p + p1"
   ]
  },
  {
   "cell_type": "code",
   "execution_count": null,
   "metadata": {},
   "outputs": [],
   "source": [
    "for c in p.constraints:\n",
    "    print(c.x())"
   ]
  },
  {
   "cell_type": "code",
   "execution_count": null,
   "metadata": {},
   "outputs": [],
   "source": [
    "p.x()"
   ]
  },
  {
   "cell_type": "code",
   "execution_count": 20,
   "metadata": {},
   "outputs": [],
   "source": [
    "m = pp.pyomo()"
   ]
  },
  {
   "cell_type": "code",
   "execution_count": null,
   "metadata": {},
   "outputs": [],
   "source": [
    "m.pprint()"
   ]
  },
  {
   "cell_type": "code",
   "execution_count": null,
   "metadata": {},
   "outputs": [],
   "source": [
    "pp.pprint(True)"
   ]
  },
  {
   "cell_type": "code",
   "execution_count": null,
   "metadata": {},
   "outputs": [],
   "source": [
    "len(pp.variables)"
   ]
  },
  {
   "cell_type": "code",
   "execution_count": null,
   "metadata": {},
   "outputs": [],
   "source": [
    "pp.a(True)"
   ]
  },
  {
   "cell_type": "code",
   "execution_count": null,
   "metadata": {},
   "outputs": [],
   "source": [
    "pp.pprint()"
   ]
  },
  {
   "cell_type": "code",
   "execution_count": null,
   "metadata": {},
   "outputs": [],
   "source": [
    "b"
   ]
  },
  {
   "cell_type": "code",
   "execution_count": null,
   "metadata": {},
   "outputs": [],
   "source": [
    "0.0"
   ]
  },
  {
   "cell_type": "code",
   "execution_count": null,
   "metadata": {},
   "outputs": [],
   "source": [
    "b"
   ]
  },
  {
   "cell_type": "code",
   "execution_count": null,
   "metadata": {},
   "outputs": [],
   "source": [
    "for i in a:\n",
    "    print(len(a))"
   ]
  },
  {
   "cell_type": "code",
   "execution_count": null,
   "metadata": {},
   "outputs": [],
   "source": [
    "for v in p.indices + p.constraints + p.variables:\n",
    "    print(v.name, v.n)\n",
    "\n",
    "for v in p.idxsets + p.conssets + p.varsets + p.parsets:\n",
    "    print(v.name, v.n)"
   ]
  },
  {
   "cell_type": "code",
   "execution_count": null,
   "metadata": {},
   "outputs": [],
   "source": [
    "p.cons_bmax_0.func.a"
   ]
  },
  {
   "cell_type": "code",
   "execution_count": null,
   "metadata": {},
   "outputs": [],
   "source": [
    "p.cons_bmax_0.func.a, p.cons_bmax_0.func.b"
   ]
  },
  {
   "cell_type": "code",
   "execution_count": null,
   "metadata": {},
   "outputs": [],
   "source": [
    "p.cons_smin1.func.a"
   ]
  },
  {
   "cell_type": "code",
   "execution_count": null,
   "metadata": {},
   "outputs": [],
   "source": []
  }
 ],
 "metadata": {
  "kernelspec": {
   "display_name": ".venv",
   "language": "python",
   "name": "python3"
  },
  "language_info": {
   "codemirror_mode": {
    "name": "ipython",
    "version": 3
   },
   "file_extension": ".py",
   "mimetype": "text/x-python",
   "name": "python",
   "nbconvert_exporter": "python",
   "pygments_lexer": "ipython3",
   "version": "3.12.7"
  }
 },
 "nbformat": 4,
 "nbformat_minor": 2
}
